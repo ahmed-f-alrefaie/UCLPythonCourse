{
 "cells": [
  {
   "cell_type": "code",
   "execution_count": 7,
   "id": "3f7b7bf5-709c-46da-812a-541e5178dbaf",
   "metadata": {},
   "outputs": [],
   "source": [
    "def mydecorator(f):\n",
    "    import time\n",
    "    \n",
    "    def wrapped_f(*args, **kwargs):\n",
    "        start = time.perf_counter()\n",
    "        result = f(*args, **kwargs)\n",
    "        end = time.perf_counter()\n",
    "        \n",
    "        print(f'Time took {end-start} s')\n",
    "        return result\n",
    "    return wrapped_f\n",
    "    "
   ]
  },
  {
   "cell_type": "code",
   "execution_count": null,
   "id": "4c713d72-b04f-4bfe-ba42-9f1e72eb26dd",
   "metadata": {},
   "outputs": [],
   "source": []
  },
  {
   "cell_type": "code",
   "execution_count": 8,
   "id": "cb84d036-4442-4ef8-8cc4-48c985b704ba",
   "metadata": {},
   "outputs": [],
   "source": [
    "@mydecorator\n",
    "def slow_function():\n",
    "    import time\n",
    "    time.sleep(1)\n",
    "    return 20.0"
   ]
  },
  {
   "cell_type": "code",
   "execution_count": 10,
   "id": "f39bde98-f721-4bd8-96d7-940cdc403c4d",
   "metadata": {},
   "outputs": [],
   "source": [
    "def slow_function_II():\n",
    "    import time\n",
    "    time.sleep(1)\n",
    "    return 20.0"
   ]
  },
  {
   "cell_type": "code",
   "execution_count": 11,
   "id": "a32e52d1-091d-4e66-917a-f64240b76860",
   "metadata": {},
   "outputs": [],
   "source": [
    "new_func = mydecorator(slow_function_II)"
   ]
  },
  {
   "cell_type": "code",
   "execution_count": 9,
   "id": "d43e2074-9f56-482e-bea2-f58714b5e26c",
   "metadata": {},
   "outputs": [
    {
     "name": "stdout",
     "output_type": "stream",
     "text": [
      "Time took 1.002188326999999 s\n"
     ]
    },
    {
     "data": {
      "text/plain": [
       "20.0"
      ]
     },
     "execution_count": 9,
     "metadata": {},
     "output_type": "execute_result"
    }
   ],
   "source": [
    "slow_function()"
   ]
  },
  {
   "cell_type": "code",
   "execution_count": 14,
   "id": "2b733ea1-38ed-48b0-80ff-6affe1188536",
   "metadata": {},
   "outputs": [
    {
     "name": "stdout",
     "output_type": "stream",
     "text": [
      "Ahmed is 33.000000 and likes 10 hamburgers\n"
     ]
    }
   ],
   "source": [
    "print('%s is %1.6f and likes %d hamburgers' % ('Ahmed', 33.0, 10))"
   ]
  },
  {
   "cell_type": "code",
   "execution_count": 15,
   "id": "8a8a92b4-fb24-448e-ba6a-c938afcccced",
   "metadata": {},
   "outputs": [
    {
     "ename": "KeyError",
     "evalue": "'s'",
     "output_type": "error",
     "traceback": [
      "\u001b[0;31m---------------------------------------------------------------------------\u001b[0m",
      "\u001b[0;31mKeyError\u001b[0m                                  Traceback (most recent call last)",
      "Input \u001b[0;32mIn [15]\u001b[0m, in \u001b[0;36m<cell line: 1>\u001b[0;34m()\u001b[0m\n\u001b[0;32m----> 1\u001b[0m \u001b[38;5;28mprint\u001b[39m(\u001b[38;5;124;43m'\u001b[39;49m\u001b[38;5;132;43;01m{s}\u001b[39;49;00m\u001b[38;5;124;43m is \u001b[39;49m\u001b[38;5;132;43;01m%1.6f\u001b[39;49;00m\u001b[38;5;124;43m and likes \u001b[39;49m\u001b[38;5;132;43;01m%d\u001b[39;49;00m\u001b[38;5;124;43m hamburgers\u001b[39;49m\u001b[38;5;124;43m'\u001b[39;49m\u001b[38;5;241;43m.\u001b[39;49m\u001b[43mformat\u001b[49m\u001b[43m(\u001b[49m\u001b[38;5;124;43m'\u001b[39;49m\u001b[38;5;124;43mAhmed\u001b[39;49m\u001b[38;5;124;43m'\u001b[39;49m\u001b[43m)\u001b[49m)\n",
      "\u001b[0;31mKeyError\u001b[0m: 's'"
     ]
    }
   ],
   "source": [
    "print('{s} is %1.6f and likes %d hamburgers'.format('Ahmed'))"
   ]
  },
  {
   "cell_type": "code",
   "execution_count": 16,
   "id": "894237ec-fa7e-44bc-9d17-7856832b23f9",
   "metadata": {},
   "outputs": [
    {
     "name": "stdout",
     "output_type": "stream",
     "text": [
      "HelloAhmedyou are 33\n"
     ]
    }
   ],
   "source": [
    "print('Hello ' + 'Ahmed ' + 'you are '+ str(33))"
   ]
  },
  {
   "cell_type": "code",
   "execution_count": 20,
   "id": "5892e69c-ec44-4592-b427-fc24d2a196d0",
   "metadata": {},
   "outputs": [
    {
     "name": "stdout",
     "output_type": "stream",
     "text": [
      "Hello ahmed you are 33 and you like PIZZA and this is your moment\n"
     ]
    }
   ],
   "source": [
    "name = 'Ahmed'\n",
    "age = 33\n",
    "fav_food = 'pizza'\n",
    "\n",
    "print(f'Hello {name.lower()} you are {age} and you like {fav_food.upper()}'\n",
    "      f' and this is your moment')"
   ]
  },
  {
   "cell_type": "code",
   "execution_count": 21,
   "id": "69ca7e1b-7227-4f82-8ea5-8757223478ce",
   "metadata": {},
   "outputs": [],
   "source": [
    "f = open('test_file.dat', 'w')\n",
    "f.write('Hello world')\n",
    "f.close()"
   ]
  },
  {
   "cell_type": "code",
   "execution_count": 22,
   "id": "cb91bc07-7ff3-4e73-a000-d4c1d7eb369f",
   "metadata": {},
   "outputs": [],
   "source": [
    "with open('test_file.dat', 'w') as f:\n",
    "    f.write('Hello world v2')"
   ]
  },
  {
   "cell_type": "code",
   "execution_count": 34,
   "id": "4e78d31e-956e-4b5b-bb4a-f324c3eece41",
   "metadata": {},
   "outputs": [
    {
     "name": "stdout",
     "output_type": "stream",
     "text": [
      "Aww well who cares\n"
     ]
    }
   ],
   "source": [
    "a = {'A': 10, 'B': 11}\n",
    "\n",
    "try:\n",
    "    res = a['c']\n",
    "except KeyError:\n",
    "    print('Aww well who cares')\n",
    "    res = 40000"
   ]
  },
  {
   "cell_type": "code",
   "execution_count": 31,
   "id": "2e1d4ddf-6201-4c59-ab33-3b4336ab8f65",
   "metadata": {},
   "outputs": [
    {
     "data": {
      "text/plain": [
       "40000"
      ]
     },
     "execution_count": 31,
     "metadata": {},
     "output_type": "execute_result"
    }
   ],
   "source": [
    "res"
   ]
  },
  {
   "cell_type": "code",
   "execution_count": 33,
   "id": "76af901b-87f4-4b77-8c43-7adbd0d30f33",
   "metadata": {},
   "outputs": [
    {
     "ename": "KeyboardInterrupt",
     "evalue": "",
     "output_type": "error",
     "traceback": [
      "\u001b[0;31m---------------------------------------------------------------------------\u001b[0m",
      "\u001b[0;31mKeyboardInterrupt\u001b[0m                         Traceback (most recent call last)",
      "Input \u001b[0;32mIn [33]\u001b[0m, in \u001b[0;36m<cell line: 2>\u001b[0;34m()\u001b[0m\n\u001b[1;32m      1\u001b[0m \u001b[38;5;28;01mimport\u001b[39;00m \u001b[38;5;21;01mtime\u001b[39;00m\n\u001b[0;32m----> 2\u001b[0m \u001b[43mtime\u001b[49m\u001b[38;5;241;43m.\u001b[39;49m\u001b[43msleep\u001b[49m\u001b[43m(\u001b[49m\u001b[38;5;241;43m100\u001b[39;49m\u001b[43m)\u001b[49m\n",
      "\u001b[0;31mKeyboardInterrupt\u001b[0m: "
     ]
    }
   ],
   "source": [
    "import time\n",
    "time.sleep(100)"
   ]
  },
  {
   "cell_type": "code",
   "execution_count": 35,
   "id": "1a33ef8f-a51c-46c4-b0e3-cf5751affdc4",
   "metadata": {},
   "outputs": [
    {
     "data": {
      "text/plain": [
       "range(0, 100000000000000)"
      ]
     },
     "execution_count": 35,
     "metadata": {},
     "output_type": "execute_result"
    }
   ],
   "source": [
    "range(0, 100000000000000)"
   ]
  },
  {
   "cell_type": "code",
   "execution_count": 40,
   "id": "ddae1821-320f-47cf-863c-d4b08b9c4124",
   "metadata": {},
   "outputs": [],
   "source": [
    "def myrange(n):\n",
    "    for x in range(0, n):\n",
    "        yield x*x"
   ]
  },
  {
   "cell_type": "code",
   "execution_count": 41,
   "id": "26b626c7-6f98-4854-aafb-1bf6c47c9bd0",
   "metadata": {},
   "outputs": [
    {
     "name": "stdout",
     "output_type": "stream",
     "text": [
      "0\n",
      "1\n",
      "4\n",
      "9\n",
      "16\n",
      "25\n",
      "36\n",
      "49\n",
      "64\n",
      "81\n"
     ]
    }
   ],
   "source": [
    "for x in myrange(10):\n",
    "    print(x)"
   ]
  },
  {
   "cell_type": "code",
   "execution_count": 42,
   "id": "c80cb36e-df93-46ea-a5e0-a59d2bf0885e",
   "metadata": {},
   "outputs": [],
   "source": [
    "a = []\n",
    "for x in range(0,100):\n",
    "    a.append(x*x)"
   ]
  },
  {
   "cell_type": "code",
   "execution_count": 46,
   "id": "705d3487-3d45-404d-b008-91a13584c5e6",
   "metadata": {},
   "outputs": [],
   "source": [
    "import numpy as np"
   ]
  },
  {
   "cell_type": "code",
   "execution_count": 51,
   "id": "3b15e372-af1f-43af-8f64-e55a6857794b",
   "metadata": {},
   "outputs": [],
   "source": [
    "a = [ [y for y in range(10)] for x in range(10)]"
   ]
  },
  {
   "cell_type": "code",
   "execution_count": 53,
   "id": "25d00b30-1bff-4cb9-bfb5-5b11cf44a96b",
   "metadata": {},
   "outputs": [],
   "source": [
    "a ={x: x*x for x in range(10) }"
   ]
  },
  {
   "cell_type": "code",
   "execution_count": 55,
   "id": "6efa49c8-857e-467b-bba1-81e6ac26162c",
   "metadata": {},
   "outputs": [
    {
     "name": "stdout",
     "output_type": "stream",
     "text": [
      "1\n",
      "2\n",
      "3\n",
      "4\n",
      "5\n",
      "5\n",
      "6\n"
     ]
    }
   ],
   "source": [
    "a = [1, 2, 3, 4, 5,5 ,6]\n",
    "\n",
    "for x in range(len(a)):\n",
    "    print(a[x])"
   ]
  },
  {
   "cell_type": "code",
   "execution_count": 61,
   "id": "ad12e3a6-5658-404f-b1a3-390b34475b2f",
   "metadata": {},
   "outputs": [
    {
     "name": "stdout",
     "output_type": "stream",
     "text": [
      "0 1\n",
      "1 2\n",
      "2 3\n",
      "3 4\n",
      "4 5\n",
      "5 5\n",
      "6 6\n"
     ]
    }
   ],
   "source": [
    "a = [1, 2, 3, 4, 5,5 ,6]\n",
    "for index, x in enumerate(a):\n",
    "    print(index, x)\n",
    "    a[index] = a[index]*2"
   ]
  },
  {
   "cell_type": "code",
   "execution_count": 62,
   "id": "fe40f301-170f-4af4-91be-3435a8fcfa7d",
   "metadata": {},
   "outputs": [
    {
     "data": {
      "text/plain": [
       "[2, 4, 6, 8, 10, 10, 12]"
      ]
     },
     "execution_count": 62,
     "metadata": {},
     "output_type": "execute_result"
    }
   ],
   "source": [
    "a"
   ]
  },
  {
   "cell_type": "code",
   "execution_count": 63,
   "id": "a0754791-0b10-49b5-a539-2bb1facb5490",
   "metadata": {},
   "outputs": [],
   "source": [
    "a = [1, 2, 3, 4, 5,   5 ,6]\n",
    "b = [6, 7, 8, 9, 10, 11, 12]"
   ]
  },
  {
   "cell_type": "code",
   "execution_count": 65,
   "id": "14dda4bd-09a3-4d0b-81d2-cc0e6750a3a5",
   "metadata": {},
   "outputs": [
    {
     "name": "stdout",
     "output_type": "stream",
     "text": [
      "0 1 6\n",
      "1 2 7\n",
      "2 3 8\n",
      "3 4 9\n",
      "4 5 10\n",
      "5 5 11\n",
      "6 6 12\n"
     ]
    }
   ],
   "source": [
    "for index, (x, y) in enumerate(zip(a, b)):\n",
    "    print(index, x, y)"
   ]
  },
  {
   "cell_type": "code",
   "execution_count": 67,
   "id": "bc0967df-3c37-40dc-a2d7-6d555def1415",
   "metadata": {},
   "outputs": [
    {
     "data": {
      "text/plain": [
       "[0,\n",
       " 1,\n",
       " 2,\n",
       " 3,\n",
       " 4,\n",
       " 5,\n",
       " 6,\n",
       " 7,\n",
       " 8,\n",
       " 9,\n",
       " 10,\n",
       " 11,\n",
       " 12,\n",
       " 13,\n",
       " 14,\n",
       " 15,\n",
       " 16,\n",
       " 17,\n",
       " 18,\n",
       " 19,\n",
       " 20,\n",
       " 21,\n",
       " 22,\n",
       " 23,\n",
       " 24,\n",
       " 25,\n",
       " 26,\n",
       " 27,\n",
       " 28,\n",
       " 29,\n",
       " 30,\n",
       " 31,\n",
       " 32,\n",
       " 33,\n",
       " 34,\n",
       " 35,\n",
       " 36,\n",
       " 37,\n",
       " 38,\n",
       " 39,\n",
       " 40,\n",
       " 41,\n",
       " 42,\n",
       " 43,\n",
       " 44,\n",
       " 45,\n",
       " 46,\n",
       " 47,\n",
       " 48,\n",
       " 49,\n",
       " 50,\n",
       " 51,\n",
       " 52,\n",
       " 53,\n",
       " 54,\n",
       " 55,\n",
       " 56,\n",
       " 57,\n",
       " 58,\n",
       " 59,\n",
       " 60,\n",
       " 61,\n",
       " 62,\n",
       " 63,\n",
       " 64,\n",
       " 65,\n",
       " 66,\n",
       " 67,\n",
       " 68,\n",
       " 69,\n",
       " 70,\n",
       " 71,\n",
       " 72,\n",
       " 73,\n",
       " 74,\n",
       " 75,\n",
       " 76,\n",
       " 77,\n",
       " 78,\n",
       " 79,\n",
       " 80,\n",
       " 81,\n",
       " 82,\n",
       " 83,\n",
       " 84,\n",
       " 85,\n",
       " 86,\n",
       " 87,\n",
       " 88,\n",
       " 89,\n",
       " 90,\n",
       " 91,\n",
       " 92,\n",
       " 93,\n",
       " 94,\n",
       " 95,\n",
       " 96,\n",
       " 97,\n",
       " 98,\n",
       " 99]"
      ]
     },
     "execution_count": 67,
     "metadata": {},
     "output_type": "execute_result"
    }
   ],
   "source": [
    "list(range(0,100))"
   ]
  },
  {
   "cell_type": "code",
   "execution_count": 73,
   "id": "0ab63197-79cf-46b5-a0cc-5416df138039",
   "metadata": {},
   "outputs": [
    {
     "name": "stdout",
     "output_type": "stream",
     "text": [
      "(1, 2, 3)\n",
      "(2, 3, 4)\n"
     ]
    }
   ],
   "source": [
    "x = [ (1,2), (2,3), (3,4)]\n",
    "\n",
    "list1, list2 = list(zip(*x))\n",
    "\n",
    "print(list1)\n",
    "print(list2)"
   ]
  },
  {
   "cell_type": "code",
   "execution_count": 74,
   "id": "cd611227-3217-4798-906e-4ed86b8a0139",
   "metadata": {},
   "outputs": [
    {
     "data": {
      "text/plain": [
       "[(1, 2), (2, 3), (3, 4)]"
      ]
     },
     "execution_count": 74,
     "metadata": {},
     "output_type": "execute_result"
    }
   ],
   "source": [
    "list(zip(list1,list2))"
   ]
  },
  {
   "cell_type": "code",
   "execution_count": 79,
   "id": "a1fa8e66-d4d4-4bfb-abbf-e4357d3c4216",
   "metadata": {},
   "outputs": [],
   "source": [
    "a = (1, 2, 3, 4)\n",
    "b = [1, 2, 3, 4]"
   ]
  },
  {
   "cell_type": "code",
   "execution_count": 80,
   "id": "d21869d3-b131-4994-8f31-b2a62e7fe062",
   "metadata": {},
   "outputs": [
    {
     "data": {
      "text/plain": [
       "list"
      ]
     },
     "execution_count": 80,
     "metadata": {},
     "output_type": "execute_result"
    }
   ],
   "source": [
    "type(b)"
   ]
  },
  {
   "cell_type": "code",
   "execution_count": 83,
   "id": "e9c51ba3-9b08-433b-84c8-19efeca7e08c",
   "metadata": {},
   "outputs": [],
   "source": [
    "b[0] = 3"
   ]
  },
  {
   "cell_type": "code",
   "execution_count": 84,
   "id": "b9acb8e9-a37b-462c-b6c6-04d3b77eddc7",
   "metadata": {},
   "outputs": [],
   "source": [
    "def myfunc():\n",
    "    return 10, 20, 30"
   ]
  },
  {
   "cell_type": "code",
   "execution_count": 87,
   "id": "0bdac342-60ff-4d7e-a432-db8642fcd26c",
   "metadata": {},
   "outputs": [
    {
     "name": "stdout",
     "output_type": "stream",
     "text": [
      "10\n",
      "20\n",
      "30\n"
     ]
    }
   ],
   "source": [
    "a, b, c = myfunc()\n",
    "print(a)\n",
    "print(b)\n",
    "\n",
    "print(c)"
   ]
  },
  {
   "cell_type": "code",
   "execution_count": 88,
   "id": "c2dc98d5-7168-4c70-bbc2-51e2127c6ee1",
   "metadata": {},
   "outputs": [],
   "source": [
    "a, b, c = (10, 20, 30)\n",
    "e = a, b, c"
   ]
  },
  {
   "cell_type": "code",
   "execution_count": 92,
   "id": "fdc06e7a-8b74-411b-bb1a-f01f7eda7141",
   "metadata": {},
   "outputs": [
    {
     "data": {
      "text/plain": [
       "(10, 20, 30)"
      ]
     },
     "execution_count": 92,
     "metadata": {},
     "output_type": "execute_result"
    }
   ],
   "source": [
    "e"
   ]
  },
  {
   "cell_type": "code",
   "execution_count": 93,
   "id": "6d3b9124-b829-4dd4-a32d-1f1ddd6fc7e0",
   "metadata": {},
   "outputs": [],
   "source": [
    "a = {\n",
    "    'A': 10,\n",
    "    'B': 20\n",
    "}"
   ]
  },
  {
   "cell_type": "code",
   "execution_count": 99,
   "id": "5a024514-6f1d-4911-9ee5-2c0288033e83",
   "metadata": {},
   "outputs": [
    {
     "name": "stdout",
     "output_type": "stream",
     "text": [
      "A 10\n",
      "B 20\n"
     ]
    }
   ],
   "source": [
    "for keys, values in a.items():\n",
    "    print(keys, values)"
   ]
  },
  {
   "cell_type": "code",
   "execution_count": 106,
   "id": "a33e7fd7-5c4e-492c-9792-14781ca8db95",
   "metadata": {},
   "outputs": [
    {
     "name": "stdout",
     "output_type": "stream",
     "text": [
      "Amazing\n"
     ]
    }
   ],
   "source": [
    "array = [10, 20, 30, 40 ,50, 60]\n",
    "\n",
    "if 60 in array:\n",
    "    print('Amazing')"
   ]
  },
  {
   "cell_type": "code",
   "execution_count": 114,
   "id": "9b701ba8-9e87-42b8-967d-103897f47fbf",
   "metadata": {},
   "outputs": [],
   "source": [
    "def myfunction(x):\n",
    "    if x is None:\n",
    "        print('There is none')\n",
    "    else:\n",
    "        print(x)"
   ]
  },
  {
   "cell_type": "code",
   "execution_count": 115,
   "id": "dbc84357-299d-435d-af03-27859ba125e1",
   "metadata": {},
   "outputs": [],
   "source": [
    "a = np.array([1,2])"
   ]
  },
  {
   "cell_type": "code",
   "execution_count": 116,
   "id": "dba826c8-62b3-4adb-8b57-983ea0394d94",
   "metadata": {},
   "outputs": [
    {
     "name": "stdout",
     "output_type": "stream",
     "text": [
      "[1 2]\n"
     ]
    }
   ],
   "source": [
    "myfunction(a)"
   ]
  },
  {
   "cell_type": "code",
   "execution_count": 127,
   "id": "36eaed72-0416-4e90-9769-61a7e3c713d0",
   "metadata": {},
   "outputs": [],
   "source": [
    "def myfunction_cool(x, y,*args, initial=True, value=None, **kwargs):\n",
    "    print(f'x is {x}')\n",
    "    print(f'y is {y}')\n",
    "    print(f'args is {args}')\n",
    "    print(f'initial is {initial}')\n",
    "    print(f'value is {value}')\n",
    "    print(f'kwargs is {kwargs}')"
   ]
  },
  {
   "cell_type": "code",
   "execution_count": 130,
   "id": "ca3acce0-7709-4fda-8eb8-3a22b9c51001",
   "metadata": {},
   "outputs": [
    {
     "name": "stdout",
     "output_type": "stream",
     "text": [
      "x is 10\n",
      "y is 20\n",
      "args is (50, 60, 70, 'a', 'b')\n",
      "initial is 20\n",
      "value is 55\n",
      "kwargs is {'cats': 't', 'dogs': 40}\n"
     ]
    }
   ],
   "source": [
    "myfunction_cool(10,20,50,60,70,'a', 'b', value=55, initial=20, cats='t', dogs=40)"
   ]
  },
  {
   "cell_type": "code",
   "execution_count": 132,
   "id": "48023333-fa60-4e21-8b56-d29e764e34fc",
   "metadata": {},
   "outputs": [
    {
     "name": "stdout",
     "output_type": "stream",
     "text": [
      "x is 10\n",
      "y is 20\n",
      "args is (50, 30)\n",
      "initial is 10\n",
      "value is 20\n",
      "kwargs is {'marsupial': 70}\n"
     ]
    }
   ],
   "source": [
    "array = [10,20,50,30]\n",
    "mydict = {'initial': 10, 'value': 20, 'marsupial': 70}\n",
    "myfunction_cool(*array, **mydict)"
   ]
  },
  {
   "cell_type": "code",
   "execution_count": 133,
   "id": "d8608614-c56d-4f43-8140-ab988818e844",
   "metadata": {},
   "outputs": [],
   "source": [
    "def danger_function(a=[]):\n",
    "    print(a)\n",
    "    a.append(10)\n",
    "    "
   ]
  },
  {
   "cell_type": "code",
   "execution_count": 139,
   "id": "26a666bd-72c2-4f99-a479-e779a9b569ce",
   "metadata": {},
   "outputs": [
    {
     "name": "stdout",
     "output_type": "stream",
     "text": [
      "[10, 10, 10, 10, 10]\n"
     ]
    }
   ],
   "source": [
    "danger_function()"
   ]
  },
  {
   "cell_type": "code",
   "execution_count": 141,
   "id": "309d00af-80d8-40dd-a953-897444c22acd",
   "metadata": {},
   "outputs": [],
   "source": [
    "def fixed_function(a=None):\n",
    "    if a is None:\n",
    "        a = []\n",
    "    print(a)\n",
    "    a.append(10)\n",
    "    print(a)"
   ]
  },
  {
   "cell_type": "code",
   "execution_count": 145,
   "id": "be0ca9aa-2af3-431e-9122-72a47965f5c0",
   "metadata": {},
   "outputs": [
    {
     "name": "stdout",
     "output_type": "stream",
     "text": [
      "[]\n",
      "[10]\n"
     ]
    }
   ],
   "source": [
    "fixed_function()"
   ]
  },
  {
   "cell_type": "code",
   "execution_count": 150,
   "id": "651fbc83-0512-4b6c-9d64-91ed09101999",
   "metadata": {},
   "outputs": [],
   "source": [
    "a = lambda x, y=20: x*20 +1 - 32*y"
   ]
  },
  {
   "cell_type": "code",
   "execution_count": 151,
   "id": "8c1b306e-965b-4de9-b5a9-e434c6a7c106",
   "metadata": {},
   "outputs": [
    {
     "data": {
      "text/plain": [
       "-439"
      ]
     },
     "execution_count": 151,
     "metadata": {},
     "output_type": "execute_result"
    }
   ],
   "source": [
    "a(10)"
   ]
  },
  {
   "cell_type": "code",
   "execution_count": 158,
   "id": "d13425fd-9c0c-4d9b-ab37-fb192f88c65c",
   "metadata": {},
   "outputs": [],
   "source": [
    "class MyClass:\n",
    "    def __init__(self, x):\n",
    "        self.x = x\n",
    "    def __repr__(self):\n",
    "        return f'<MyClass: {self.x} >'"
   ]
  },
  {
   "cell_type": "code",
   "execution_count": 159,
   "id": "8d3a6c2c-974c-4f92-8fe3-b035af2aec33",
   "metadata": {},
   "outputs": [],
   "source": [
    "list_of_class = [\n",
    "    MyClass(10),\n",
    "    MyClass(-20),\n",
    "    MyClass(-50),\n",
    "    MyClass(30)]"
   ]
  },
  {
   "cell_type": "code",
   "execution_count": 160,
   "id": "c6a971a1-62b2-40ea-82a1-05537c862df8",
   "metadata": {},
   "outputs": [
    {
     "name": "stdout",
     "output_type": "stream",
     "text": [
      "[<MyClass: 10 >, <MyClass: -20 >, <MyClass: -50 >, <MyClass: 30 >]\n"
     ]
    }
   ],
   "source": [
    "print(list_of_class)"
   ]
  },
  {
   "cell_type": "code",
   "execution_count": 164,
   "id": "285b98a5-093b-4319-9533-a5a690f57619",
   "metadata": {},
   "outputs": [
    {
     "data": {
      "text/plain": [
       "[<MyClass: 30 >, <MyClass: 10 >, <MyClass: -20 >, <MyClass: -50 >]"
      ]
     },
     "execution_count": 164,
     "metadata": {},
     "output_type": "execute_result"
    }
   ],
   "source": [
    "sorted(list_of_class, key=lambda z: z.x, reverse=True) "
   ]
  },
  {
   "cell_type": "code",
   "execution_count": null,
   "id": "589492ba-ac0d-4390-bbac-1d139330a542",
   "metadata": {},
   "outputs": [],
   "source": []
  }
 ],
 "metadata": {
  "kernelspec": {
   "display_name": "Python 3 (ipykernel)",
   "language": "python",
   "name": "python3"
  },
  "language_info": {
   "codemirror_mode": {
    "name": "ipython",
    "version": 3
   },
   "file_extension": ".py",
   "mimetype": "text/x-python",
   "name": "python",
   "nbconvert_exporter": "python",
   "pygments_lexer": "ipython3",
   "version": "3.9.10"
  }
 },
 "nbformat": 4,
 "nbformat_minor": 5
}
