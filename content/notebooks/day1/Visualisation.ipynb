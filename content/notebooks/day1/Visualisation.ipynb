{
 "cells": [
  {
   "cell_type": "markdown",
   "id": "1a28f743-1c0a-4d9e-b051-21faebed22be",
   "metadata": {},
   "source": [
    "# Interactivity and Visualisation"
   ]
  },
  {
   "cell_type": "markdown",
   "id": "fd05e19d-c97d-455c-948d-9794327b9c5d",
   "metadata": {},
   "source": [
    "Jupyter also allows you to make your data interactive!!"
   ]
  },
  {
   "cell_type": "markdown",
   "id": "10485ede-6057-4d8f-911b-4518d267bea7",
   "metadata": {},
   "source": [
    "## Ipywidgets"
   ]
  },
  {
   "cell_type": "markdown",
   "id": "9dff63b3-923d-4b61-953a-e5de0e37ebf6",
   "metadata": {},
   "source": [
    "The first library we'll use is `ipywidgets`, using this allows us to run our code interactively.\n",
    "\n",
    "If you don't have it we can use magic commands to install it. On local machines this only needs to be done once"
   ]
  },
  {
   "cell_type": "code",
   "execution_count": 5,
   "id": "666d4c8c",
   "metadata": {},
   "outputs": [
    {
     "name": "stdout",
     "output_type": "stream",
     "text": [
      "Note: you may need to restart the kernel to use updated packages.\n"
     ]
    }
   ],
   "source": [
    "%pip install -q ipywidgets"
   ]
  },
  {
   "cell_type": "markdown",
   "id": "c0922417-71f1-4c31-b59f-d4e0da622adf",
   "metadata": {},
   "source": [
    "### Make our first function interactive"
   ]
  },
  {
   "cell_type": "code",
   "execution_count": 8,
   "id": "50721a07-5288-40cd-b4f1-b920058d1a26",
   "metadata": {},
   "outputs": [],
   "source": [
    "import ipywidgets as ipyw\n",
    "from ipywidgets.widgets import interact"
   ]
  },
  {
   "cell_type": "code",
   "execution_count": 9,
   "id": "1d7992a1-1c35-4001-a95e-98a298d04387",
   "metadata": {},
   "outputs": [],
   "source": [
    "import numpy as np"
   ]
  },
  {
   "cell_type": "markdown",
   "id": "dec0738b",
   "metadata": {},
   "source": [
    "The interact decorator in ipywidgets allows us to make our function interactive and displays an appropriate widget."
   ]
  },
  {
   "cell_type": "code",
   "execution_count": 10,
   "id": "6e2335ce-a1d3-4464-a5aa-af3077943c39",
   "metadata": {},
   "outputs": [],
   "source": [
    "@interact(x=(-2,2, 0.3))\n",
    "def f(x):\n",
    "    return np.exp(x*2 +5)"
   ]
  },
  {
   "cell_type": "markdown",
   "id": "744f2008-dfa7-48d4-a47f-959a8de78091",
   "metadata": {},
   "source": [
    "### Automated inputs"
   ]
  },
  {
   "cell_type": "markdown",
   "id": "25819b66-7263-43d8-8f57-54b67f513533",
   "metadata": {},
   "source": [
    "We can do lots of different types of inputs, for example:"
   ]
  },
  {
   "cell_type": "code",
   "execution_count": null,
   "id": "49de8344-3d65-4ed8-8226-41e5d5f11a04",
   "metadata": {},
   "outputs": [],
   "source": [
    "@interact(wavelength=(0.1,10.0, 0.3), \n",
    "          temperature=(0.1, 10000, 0.1), \n",
    "          temperature_scale=['Kelvin', 'Celsius', 'Fahrenheit'])\n",
    "def weins_law(wavelength=0.1, \n",
    "              temperature=0.1, \n",
    "              temperature_scale='Kelvin', \n",
    "              include_greeting=True):\n",
    "\n",
    "    h = 6.62607015e-34\n",
    "    c = 299792458\n",
    "    kB = 1.380e-23\n",
    "    I0 = (2.0 * h * c ** 2) / wavelength ** 5\n",
    "    \n",
    "    tconv = {\n",
    "        'Kelvin': lambda x: x,\n",
    "        'Celsius': lambda x: x + 273.15,\n",
    "        'Fahrenheit': lambda x: (x + 459.67)*5/9,\n",
    "    }\n",
    "    \n",
    "    chosen_t = tconv[temperature_scale]\n",
    "    \n",
    "    result = I0 * np.exp(-( h * c ) / ( wavelength * kB * chosen_t(temperature)))\n",
    "    \n",
    "    if include_greeting:\n",
    "        return f'Hello here is the value you wanted: {result}'\n",
    "    else:\n",
    "        return result\n",
    "    "
   ]
  },
  {
   "cell_type": "markdown",
   "id": "8c568e93-5ba1-483e-99a4-0fef90dbadf2",
   "metadata": {},
   "source": [
    "### Customize widgets"
   ]
  },
  {
   "cell_type": "markdown",
   "id": "4824fda2-c091-4aa4-871d-cf7a3e732c6f",
   "metadata": {},
   "source": [
    "We can even customize which widgets are used. We can use a RadioButton instead of a Dropdown for example."
   ]
  },
  {
   "cell_type": "code",
   "execution_count": null,
   "id": "44545da9-3d52-4b7d-91ec-fa1cc74ec43a",
   "metadata": {},
   "outputs": [],
   "source": [
    "@interact(wavelength=(0.1,10.0, 0.3), \n",
    "          temperature=(0.1, 10000, 0.1), \n",
    "          temperature_scale=ipyw.RadioButtons(\n",
    "              options=['Kelvin', 'Celsius', 'Fahrenheit'], \n",
    "              value='Kelvin', \n",
    "              description=\"Temp Scale\"))\n",
    "def weins_law_II(wavelength=0.1, \n",
    "              temperature=0.1, \n",
    "              temperature_scale='Kelvin', \n",
    "              include_greeting=True):\n",
    "\n",
    "    h = 6.62607015e-34\n",
    "    c = 299792458\n",
    "    kB = 1.380e-23\n",
    "    I0 = (2.0 * h * c ** 2) / wavelength ** 5\n",
    "    \n",
    "    tconv = {\n",
    "        'Kelvin': lambda x: x,\n",
    "        'Celsius': lambda x: x + 273.15,\n",
    "        'Fahrenheit': lambda x: (x + 459.67)*5/9,\n",
    "    }\n",
    "    \n",
    "    chosen_t = tconv[temperature_scale]\n",
    "    \n",
    "    result = I0 * np.exp(-( h * c ) / ( wavelength * kB * chosen_t(temperature)))\n",
    "    \n",
    "    if include_greeting:\n",
    "        return f'Hello here is the value you wanted: {result}'\n",
    "    else:\n",
    "        return result"
   ]
  },
  {
   "cell_type": "markdown",
   "id": "d220f61f-b4df-441f-bf7b-6889560b6033",
   "metadata": {},
   "source": [
    "All there is to it! You can find more information on widgets [here](https://ipywidgets.readthedocs.io/en/stable/examples/Widget%20List.html)."
   ]
  },
  {
   "cell_type": "markdown",
   "id": "e93c92fc-86e6-4d92-94ab-2222b88677fc",
   "metadata": {},
   "source": [
    "## Matplotlib"
   ]
  },
  {
   "cell_type": "markdown",
   "id": "ad452def-7ac4-46e4-966b-155b95fd8bda",
   "metadata": {},
   "source": [
    "Matplotlib is *THE* plotting library in python and likely seen in many publications. If you every see a light blue plot or blue and orange plot in a paper then it's likely made with matplotlib."
   ]
  },
  {
   "cell_type": "markdown",
   "id": "d491a15e-942e-4139-8498-01f9790cdc08",
   "metadata": {},
   "source": [
    "To activate it we need to first import it"
   ]
  },
  {
   "cell_type": "code",
   "execution_count": null,
   "id": "c7e7163a-98d2-42ed-b837-15bb06906e3e",
   "metadata": {},
   "outputs": [],
   "source": [
    "import matplotlib.pyplot as plt"
   ]
  },
  {
   "cell_type": "markdown",
   "id": "a9c5da11-0879-4c0a-bf7a-bee4ff5805cc",
   "metadata": {},
   "source": [
    "\n",
    "When using it with Jupyter we need a image backend, we will use the *widget* backend. To use it we need to install the *ipympl* package. We can use a magic command to install it in our environment."
   ]
  },
  {
   "cell_type": "code",
   "execution_count": null,
   "id": "0716dfaa",
   "metadata": {},
   "outputs": [],
   "source": [
    "%pip install -q ipympl"
   ]
  },
  {
   "cell_type": "markdown",
   "id": "daa96b09",
   "metadata": {},
   "source": [
    "Now activate the backend. Note: You can only set a backend once per kernel, so if you want to change it you need to restart the kernel."
   ]
  },
  {
   "cell_type": "code",
   "execution_count": null,
   "id": "8258a3b0-63e9-41a0-9056-bce1c8d3ac7b",
   "metadata": {},
   "outputs": [],
   "source": [
    "%matplotlib widget"
   ]
  },
  {
   "cell_type": "markdown",
   "id": "011f8699-2e4a-439e-8ed2-b3d2e559f6d0",
   "metadata": {},
   "source": [
    "This activates the matplotlib interactive backend. There are many types, including:\n",
    "\n",
    " - `widget` (Jupyter lab)\n",
    " - `notebook` (Jupyter notebook)\n",
    " - `inline` (No interactivity, every figure is a png)"
   ]
  },
  {
   "cell_type": "markdown",
   "id": "7e24bb5d-5dd6-442c-bf68-f173f0694091",
   "metadata": {},
   "source": [
    "### Plotting your first figure"
   ]
  },
  {
   "cell_type": "code",
   "execution_count": null,
   "id": "daeb5055-4f59-4437-b098-91e0d8639b54",
   "metadata": {},
   "outputs": [],
   "source": [
    "\n",
    "x = np.linspace(-np.pi, np.pi, 100)\n",
    "y = np.sin(x)\n",
    "\n",
    "plt.figure()\n",
    "plt.plot(x, y)\n",
    "plt.title('My first plot yay')\n",
    "plt.xlabel('x')\n",
    "plt.ylabel('y')\n",
    "plt.xlim([-1, 1])\n",
    "plt.ylim([y.min(), y.max()])"
   ]
  },
  {
   "cell_type": "markdown",
   "id": "3904e583-a3bc-4c9b-885f-99d64492b5b3",
   "metadata": {},
   "source": [
    "### Plotting multiple figures"
   ]
  },
  {
   "cell_type": "markdown",
   "id": "63e9c1fa-f22a-4b26-8bc7-f318b15291cf",
   "metadata": {},
   "source": [
    "We can use the `subplots` function to create multiple figures. It takes arguments of number of rows and number of columns. For example:\n",
    " - `subplots(2,1)` 2 rows, 1 columns (2 plots)\n",
    " - `subplots(1,2)` 1 rows, 2 columns (2 plots)\n",
    " - `subplots(2,2)` 2 rows, 2 columns (4 plots)\n",
    " \n",
    "\n",
    "\n",
    "It will return a `figure` that represents the plot and *axes* that can be unpacked representing columns and rows axes.\n",
    "For example, `plt.subplots(2,1)` will return 2 axes so we can unpack them like this: `figure, (ax1, ax2) = plt.subplots(2,1)`. Lets try an example:"
   ]
  },
  {
   "cell_type": "code",
   "execution_count": null,
   "id": "3f7f18d3-0710-43f5-b0f1-dc332b7031ef",
   "metadata": {},
   "outputs": [],
   "source": [
    "x1 = np.linspace(-np.pi, np.pi, 100)\n",
    "y1 = np.sin(x1)\n",
    "\n",
    "y2 = np.cos(x1)\n",
    "\n",
    "fig, (ax1, ax2) = plt.subplots(2, 1)\n",
    "\n",
    "ax1.plot(x1, y1)\n",
    "ax1.set_title('Sin')\n",
    "ax1.set_xlim([x1.min(), x1.max()])\n",
    "ax2.plot(x1, y2)\n",
    "ax2.set_title('Cos')\n",
    "fig.tight_layout()\n",
    "plt.show()\n"
   ]
  },
  {
   "cell_type": "markdown",
   "id": "8cf3b27f-2ff9-4e55-b1af-a9d126581d90",
   "metadata": {},
   "source": [
    "For something like `subplots(2,2)` we can *double* unpack them"
   ]
  },
  {
   "cell_type": "code",
   "execution_count": null,
   "id": "96df4d21-dc4a-4e59-a7d9-b20825ca4e12",
   "metadata": {},
   "outputs": [],
   "source": [
    "x1 = np.linspace(-np.pi, np.pi, 100)\n",
    "y1 = np.sin(x1)\n",
    "\n",
    "y2 = np.cos(x1)\n",
    "\n",
    "fig, ((ax1, ax2), (ax3, ax4)) = plt.subplots(2, 2, sharex=True)\n",
    "\n",
    "ax1.plot(x1, y1)\n",
    "ax1.set_title('Sin')\n",
    "ax2.plot(x1, y2)\n",
    "ax2.set_title('Cos')\n",
    "ax3.plot(x1, np.tan(x1))\n",
    "ax3.set_title('Tan')\n",
    "ax4.plot(x1, np.cosh(x1))\n",
    "ax4.set_title('Cosh')\n",
    "\n",
    "fig.tight_layout()\n",
    "\n",
    "plt.show()\n"
   ]
  },
  {
   "cell_type": "markdown",
   "id": "e13cf41e-b700-43d0-b233-881502fb2582",
   "metadata": {},
   "source": [
    "Sometimes your plots can overlap, adding a `fig.tight_layout()` can fix it up!"
   ]
  },
  {
   "cell_type": "markdown",
   "id": "903e85a6-04a7-49c8-bb59-b489b7726345",
   "metadata": {},
   "source": [
    "### Combining interactivity"
   ]
  },
  {
   "cell_type": "markdown",
   "id": "ee6d37b2-9aa0-44a6-8d47-1b5af593f2cf",
   "metadata": {},
   "source": [
    "We can combine ipywidgets to introduce interactivity into our plots. We need to store a reference to the plot data and then update it in the `interact` function.\n",
    "Lets try it!"
   ]
  },
  {
   "cell_type": "code",
   "execution_count": null,
   "id": "fe46d7ce-1665-498f-84a0-4b1d9a98214d",
   "metadata": {},
   "outputs": [],
   "source": [
    "x = np.linspace(-np.pi, np.pi, 100)\n",
    "y = np.sin(x)\n",
    "\n",
    "plt.figure()\n",
    "plt.title('My first plot!')\n",
    "line,_ = plt.plot(x, y) # plot returns two things, the first is the line which we need. We are throwing away the second\n",
    "\n",
    "plt.xlabel('x')\n",
    "plt.ylabel('y')\n",
    "\n",
    "@interact(scale=(1.0, 7.0))\n",
    "def update(scale=1.0):\n",
    "    \n",
    "    data = np.sin(scale * x)\n",
    "    line.set_ydata(data)\n",
    "    \n",
    "    \n"
   ]
  },
  {
   "cell_type": "markdown",
   "id": "275c49ef-1e56-44c3-98d8-8bd0050266a1",
   "metadata": {},
   "source": [
    "### Exercise multi-interactive\n",
    "\n",
    "Fix the code to make the multi-version update all plots:"
   ]
  },
  {
   "cell_type": "code",
   "execution_count": null,
   "id": "4b7105cd-52a8-4df9-bf4e-5dc044e47bb3",
   "metadata": {},
   "outputs": [],
   "source": [
    "x1 = np.linspace(-np.pi, np.pi, 100)\n",
    "y1 = np.sin(x1)\n",
    "\n",
    "y2 = np.cos(x1)\n",
    "y3 = np.tan(x1)\n",
    "y4 = np.cosh(x1)\n",
    "\n",
    "fig, ((ax1, ax2), (ax3, ax4)) = plt.subplots(2, 2)\n",
    "\n",
    "line, =ax1.plot(x1, y1)\n",
    "ax2.plot(x1, y2)\n",
    "ax3.plot(x1, y3)\n",
    "ax4.plot(x1, y4)\n",
    "\n",
    "\n",
    "ax1.set_title('Sin')\n",
    "ax2.set_title('Cos')\n",
    "ax3.set_title('Tan')\n",
    "ax4.set_title('Cosh')\n",
    "\n",
    "fig.tight_layout()\n",
    "\n",
    "@interact(scale=(-10, 10, 0.1))\n",
    "def update_multi(scale):\n",
    "    line.set_ydata(np.sin(x1*scale))\n",
    "    \n"
   ]
  },
  {
   "cell_type": "markdown",
   "id": "25832201-7418-4709-8908-233f976073ff",
   "metadata": {},
   "source": [
    "Additionally instead of axis unpacking you can use it like an array for larger grids. For example doing:\n",
    "    \n",
    "    fig, ((ax1, ax2......),(ax56, ax57,....)) = plt.subplots(60,60)\n",
    "can be laborious. You can do this:\n",
    "    \n",
    "    fig, ax = plt.subplots(60,60)\n",
    "    ax[0,0].blah \n",
    "    ax[59,10].blah\n",
    "    \n",
    "You can also remove axes from a figure for visual quality using the `remove` function. Take a look at this example"
   ]
  },
  {
   "cell_type": "code",
   "execution_count": null,
   "id": "da31fd70-3392-45aa-9d9d-213cd06b3658",
   "metadata": {},
   "outputs": [],
   "source": [
    "np.random.seed(0)\n",
    "\n",
    "dt = 0.01  # sampling interval\n",
    "Fs = 1 / dt  # sampling frequency\n",
    "t = np.arange(0, 10, dt)\n",
    "\n",
    "# generate noise:\n",
    "nse = np.random.randn(len(t))\n",
    "r = np.exp(-t / 0.05)\n",
    "cnse = np.convolve(nse, r) * dt\n",
    "cnse = cnse[:len(t)]\n",
    "\n",
    "s = 0.1 * np.sin(4 * np.pi * t) + cnse  # the signal\n",
    "\n",
    "fig, axs = plt.subplots(nrows=3, ncols=2, figsize=(7, 7))\n",
    "\n",
    "# plot time signal:\n",
    "axs[0, 0].set_title(\"Signal\")\n",
    "axs[0, 0].plot(t, s, color='C0')\n",
    "axs[0, 0].set_xlabel(\"Time\")\n",
    "axs[0, 0].set_ylabel(\"Amplitude\")\n",
    "\n",
    "# plot different spectrum types:\n",
    "axs[1, 0].set_title(\"Magnitude Spectrum\")\n",
    "axs[1, 0].magnitude_spectrum(s, Fs=Fs, color='C1')\n",
    "\n",
    "axs[1, 1].set_title(\"Log. Magnitude Spectrum\")\n",
    "axs[1, 1].magnitude_spectrum(s, Fs=Fs, scale='dB', color='C1')\n",
    "\n",
    "axs[2, 0].set_title(\"Phase Spectrum \")\n",
    "axs[2, 0].phase_spectrum(s, Fs=Fs, color='C2')\n",
    "\n",
    "axs[2, 1].set_title(\"Angle Spectrum\")\n",
    "axs[2, 1].angle_spectrum(s, Fs=Fs, color='C2')\n",
    "\n",
    "axs[0, 1].remove()  # don't display empty ax\n",
    "\n",
    "fig.tight_layout()\n",
    "plt.show()"
   ]
  },
  {
   "cell_type": "markdown",
   "id": "98ef28c6-b6db-4527-a36f-ce1131c724c9",
   "metadata": {},
   "source": [
    "### Different plot types"
   ]
  },
  {
   "cell_type": "markdown",
   "id": "09c42aab-9f7c-4ad8-bbeb-5f1aba1ed32e",
   "metadata": {},
   "source": [
    "Matplotlib has many types of plots You can also mix and match plots on the same plot!"
   ]
  },
  {
   "cell_type": "code",
   "execution_count": null,
   "id": "3fbcbd56-e7cb-4b7f-8654-b427cd9575de",
   "metadata": {},
   "outputs": [],
   "source": [
    "fig, ((ax1,ax2,ax3,ax4)) = plt.subplots(4,1, figsize=(8,12))\n",
    "\n",
    "delta = 0.025\n",
    "x = np.arange(-3.0, 3.0, delta)\n",
    "y = np.arange(-2.0, 2.0, delta)\n",
    "X, Y = np.meshgrid(x, y)\n",
    "Z1 = np.exp(-X**2 - Y**2)\n",
    "Z2 = np.exp(-(X - 1)**2 - (Y - 1)**2)\n",
    "Z = (Z1 - Z2) * 2\n",
    "\n",
    "ax1.scatter(x, np.random.rand(x.shape[0]), )\n",
    "ax1.set_title('Scatter')\n",
    "\n",
    "ax2.hist(np.random.normal(size=(x.shape[0])))\n",
    "ax2.set_title('Histogram')\n",
    "\n",
    "ax3.set_title('Contour')\n",
    "ax3.contour(X, Y, Z)\n",
    "\n",
    "ax4.set_title('Multiplot')\n",
    "ax4.plot(x, np.sin(x))\n",
    "ax4.plot(x, np.cos(x))\n",
    "ax4.scatter(x, np.abs(np.sin(x)))\n",
    "\n",
    "#ax3.remove()\n",
    "\n",
    "\n",
    "fig.tight_layout()\n",
    "fig.savefig('test.eps')\n",
    "plt.show()"
   ]
  },
  {
   "cell_type": "markdown",
   "id": "3099c0c6-e3c4-42e3-a268-3f69fa237fcb",
   "metadata": {},
   "source": [
    "Of course any of the figs can be saved into any format using `savefig` for example:\n",
    "   - `fig.savefig('plot.pdf')`\n",
    "   - `fig.savefig('plt.jpg')`\n",
    "   - `fig.savefig('png')`\n",
    "   \n",
    "\n",
    "For publications **pdf** is my choice! Try it on any of the previous plots!"
   ]
  },
  {
   "cell_type": "markdown",
   "id": "8552c28a-4b0e-4fe1-9684-f3c3496706b7",
   "metadata": {},
   "source": [
    "## 2D and 3D"
   ]
  },
  {
   "cell_type": "markdown",
   "id": "4664006b-73e3-46a1-a511-721acc6756dc",
   "metadata": {},
   "source": [
    "We can also plot in 2D! The function of choice is `imshow`"
   ]
  },
  {
   "cell_type": "code",
   "execution_count": null,
   "id": "c72cab21-b4cf-4d05-833e-90373aefddd0",
   "metadata": {},
   "outputs": [],
   "source": [
    "# Gen our coordinates\n",
    "x = np.linspace(0, 2*np.pi, 120)\n",
    "y = np.linspace(0, 2*np.pi, 120)\n",
    "\n",
    "# Make our mesh\n",
    "\n",
    "X, Y = np.meshgrid(x,y)\n",
    "def ourfunc(x, y):\n",
    "    return np.sin(x) + np.sin(y)\n",
    "\n",
    "plt.figure()\n",
    "plt.imshow(ourfunc(X,Y), extent=[x.min(), x.max(), y.min(), y.max()])\n",
    "plt.show()"
   ]
  },
  {
   "cell_type": "markdown",
   "id": "850ed20a-555d-4f0c-858b-6a4c4b6185f5",
   "metadata": {},
   "source": [
    "Again we can make it interactive"
   ]
  },
  {
   "cell_type": "code",
   "execution_count": null,
   "id": "2c11edd7-c8ff-4067-ab85-91dd05031729",
   "metadata": {},
   "outputs": [],
   "source": [
    "fig, ax = plt.subplots(1,1)\n",
    "im = ax.imshow(ourfunc(X, Y))\n",
    "\n",
    "@interact(x_shift=(-10,10,0.1), y_shift=(-10,10,0.1))\n",
    "def update_imshow(x_shift,y_shift):\n",
    "    data = ourfunc(X+x_shift, Y+y_shift)\n",
    "    im.set_data(data)\n",
    "    \n",
    "    "
   ]
  },
  {
   "cell_type": "markdown",
   "id": "f2775ec7-dcb3-45c0-a895-031f7bbedc82",
   "metadata": {},
   "source": [
    "3D is also really easy using the `projection` argument"
   ]
  },
  {
   "cell_type": "code",
   "execution_count": null,
   "id": "24c9f404-5cd5-4b74-b309-693c77ef5257",
   "metadata": {},
   "outputs": [],
   "source": [
    "fig, ax = plt.subplots(subplot_kw={\"projection\": \"3d\"})\n",
    "\n",
    "Z = ourfunc(X, Y)\n",
    "\n",
    "surf = ax.plot_surface(X, Y, Z,\n",
    "                       linewidth=0, antialiased=False)\n",
    "plt.show()"
   ]
  },
  {
   "cell_type": "markdown",
   "id": "08e97f38-870d-4730-8d94-6e30d8582fca",
   "metadata": {},
   "source": [
    "And again it can be interactive! With a bit of hacking"
   ]
  },
  {
   "cell_type": "code",
   "execution_count": null,
   "id": "892d21c5-b440-4991-8c96-4924d7b16917",
   "metadata": {},
   "outputs": [],
   "source": [
    "fig, ax = plt.subplots(subplot_kw={\"projection\": \"3d\"})\n",
    "\n",
    "Z = ourfunc(X, Y)\n",
    "\n",
    "surf = [ax.plot_surface(X, Y, Z,\n",
    "                       linewidth=0, antialiased=False)]\n",
    "\n",
    "@interact(x_shift=(-10,10,0.1), y_shift=(-10,10,0.1))\n",
    "def update_imshow(x_shift,y_shift):\n",
    "    surf[0].remove()\n",
    "    Z = ourfunc(X+x_shift, Y+y_shift)\n",
    "    surf[0] = ax.plot_surface(X, Y, Z,\n",
    "                       linewidth=0, antialiased=False)"
   ]
  },
  {
   "cell_type": "markdown",
   "id": "f37ecd27-382b-4e84-abc5-c8a527a1301a",
   "metadata": {},
   "source": [
    "## Animations"
   ]
  },
  {
   "cell_type": "markdown",
   "id": "74f818a9-5cfc-4cbc-815e-9fa60e1fe2d8",
   "metadata": {},
   "source": [
    "Finally lets try animations."
   ]
  },
  {
   "cell_type": "markdown",
   "id": "2106699b-c210-4990-92af-d2c2b8f00831",
   "metadata": {},
   "source": [
    "Animations work almost exactly like the `interact` except we make use of the `FuncAnimation` functions from matplotlib animations. Lets try it out:"
   ]
  },
  {
   "cell_type": "code",
   "execution_count": null,
   "id": "6d5ab0ca-014e-447c-aea6-180013c3c6ec",
   "metadata": {},
   "outputs": [],
   "source": [
    "from matplotlib.animation import FuncAnimation\n",
    "\n",
    "\n",
    "fig, ax = plt.subplots(2,1)\n",
    "\n",
    "line, = ax.plot([])     # A tuple unpacking to unpack the only plot\n",
    "\n",
    "# Fix the axes\n",
    "ax.set_xlim(0, 2*np.pi)\n",
    "ax.set_ylim(-1.1, 1.1)\n",
    "\n",
    "# build an update function like interact except we only have one argument \n",
    "def animate(frame_num):\n",
    "    y = np.sin(x + 2*np.pi * frame_num/100)\n",
    "    line.set_data((x, y))\n",
    "    return line\n",
    "\n",
    "anim = FuncAnimation(fig, animate, frames=100, interval=20)"
   ]
  },
  {
   "cell_type": "code",
   "execution_count": null,
   "id": "b6777b2b-953a-4381-85ab-25906e344084",
   "metadata": {},
   "outputs": [],
   "source": [
    "from IPython import display\n",
    "video = anim.to_html5_video()\n",
    "html = display.HTML(video)\n",
    "display.display(html)\n",
    "plt.close()                   # avoid plotting a spare static plot"
   ]
  },
  {
   "cell_type": "markdown",
   "id": "800fb48e-bd43-4bbd-8ca7-cc545cbf3e28",
   "metadata": {},
   "source": [
    "We can also save it as a gif or an mp4 (if we have ffmpeg) using `save`"
   ]
  },
  {
   "cell_type": "code",
   "execution_count": null,
   "id": "a278a543-8072-4bbc-b1e8-eb527279d15f",
   "metadata": {},
   "outputs": [],
   "source": [
    "anim.save('plot.mp4')"
   ]
  }
 ],
 "metadata": {
  "kernelspec": {
   "display_name": "Python 3 (ipykernel)",
   "language": "python",
   "name": "python3"
  },
  "language_info": {
   "codemirror_mode": {
    "name": "ipython",
    "version": 3
   },
   "file_extension": ".py",
   "mimetype": "text/x-python",
   "name": "python",
   "nbconvert_exporter": "python",
   "pygments_lexer": "ipython3",
   "version": "3.10.11"
  }
 },
 "nbformat": 4,
 "nbformat_minor": 5
}
