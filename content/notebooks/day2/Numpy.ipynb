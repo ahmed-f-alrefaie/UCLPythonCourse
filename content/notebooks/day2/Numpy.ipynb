{
 "cells": [
  {
   "cell_type": "markdown",
   "id": "135ede9e-43fb-4f5e-a53d-fa532ba48b95",
   "metadata": {},
   "source": [
    "# Numpy"
   ]
  },
  {
   "cell_type": "code",
   "execution_count": null,
   "id": "116cb4e9",
   "metadata": {},
   "outputs": [],
   "source": [
    "%pip install -q ipywidgets ipympl"
   ]
  },
  {
   "cell_type": "code",
   "execution_count": null,
   "id": "55444bc1-f678-4eac-b327-6c197141a65f",
   "metadata": {},
   "outputs": [],
   "source": [
    "import numpy as np\n",
    "import matplotlib.pyplot as plt\n",
    "%matplotlib widget"
   ]
  },
  {
   "cell_type": "markdown",
   "id": "29cdbc6a-ff02-4756-873b-746b39f4f0ca",
   "metadata": {},
   "source": [
    "## Docs\n",
    "https://numpy.org/doc/stable/reference/routines.html"
   ]
  },
  {
   "cell_type": "markdown",
   "id": "3e21eaea-e658-4a6f-86d1-efec0836b8c4",
   "metadata": {},
   "source": [
    "Numpy is the defacto numerical library for python.\n",
    "\n",
    "First things first, if you are using numpy like this:"
   ]
  },
  {
   "cell_type": "code",
   "execution_count": null,
   "id": "9efc68df-3ebf-4c58-ae6f-4dd9b0b24c07",
   "metadata": {},
   "outputs": [],
   "source": [
    "def bad_way(a, b):\n",
    "    x = np.zeros(len(a))\n",
    "    \n",
    "    for i in range(len(a)):\n",
    "        x[i] = 1.324 * a[i] - 12.99 * b[i] + 1\n",
    "    \n",
    "    return x"
   ]
  },
  {
   "cell_type": "markdown",
   "id": "860d03d1-56b6-43bd-a2c0-29932ea6a383",
   "metadata": {},
   "source": [
    "This is **BAD**, it does not take advantage of numpys greatest advantage. **Vectorization**"
   ]
  },
  {
   "cell_type": "code",
   "execution_count": null,
   "id": "8f698d25-115b-4b0e-84ae-973c572fa938",
   "metadata": {},
   "outputs": [],
   "source": [
    "def numpy_way(a, b):\n",
    "    return 1.324 * a - 12.99 * b + 1"
   ]
  },
  {
   "cell_type": "code",
   "execution_count": null,
   "id": "1f2959c6-1af7-4d6e-ad05-279265e31cda",
   "metadata": {},
   "outputs": [],
   "source": [
    "a = np.arange(1e6)\n",
    "b = np.arange(1e6)"
   ]
  },
  {
   "cell_type": "markdown",
   "id": "8c71bd7c-261d-4ff8-9e9d-5c661eaf92c6",
   "metadata": {},
   "source": [
    "We can see they are the same:"
   ]
  },
  {
   "cell_type": "code",
   "execution_count": null,
   "id": "22b5ee54-65f9-48a6-9b65-96e313defd18",
   "metadata": {},
   "outputs": [],
   "source": [
    "np.all(numpy_way(a,b) == bad_way(a,b))"
   ]
  },
  {
   "cell_type": "markdown",
   "id": "6aa71cef-cd93-4da3-9953-12cdabb4f7f0",
   "metadata": {},
   "source": [
    "### But one is much faster:"
   ]
  },
  {
   "cell_type": "code",
   "execution_count": null,
   "id": "74808b27-21af-49d1-b7e4-646a6e775f5b",
   "metadata": {},
   "outputs": [],
   "source": [
    "%timeit bad_way(a, b)"
   ]
  },
  {
   "cell_type": "code",
   "execution_count": null,
   "id": "b213137c-21a3-46a2-8a18-fecf16efd6b5",
   "metadata": {},
   "outputs": [],
   "source": [
    "%timeit numpy_way(a, b)"
   ]
  },
  {
   "cell_type": "markdown",
   "id": "baeb38ea-b54f-4055-bf43-ff10679ada90",
   "metadata": {},
   "source": [
    "A preview into optimizations:"
   ]
  },
  {
   "cell_type": "code",
   "execution_count": null,
   "id": "f0a3c547-a7ab-4cab-a84f-4dbda49b7253",
   "metadata": {},
   "outputs": [],
   "source": [
    "a = np.random.rand(100,10,10,10,10)\n",
    "b = np.random.rand(10,10,10,10,100)"
   ]
  },
  {
   "cell_type": "code",
   "execution_count": null,
   "id": "522e6ac2-b38c-49e6-a143-11974b93b2cc",
   "metadata": {},
   "outputs": [],
   "source": [
    "%timeit a[0,:,:,:,:] + 1"
   ]
  },
  {
   "cell_type": "code",
   "execution_count": null,
   "id": "e3dbb1d1-5b4a-4e12-af1f-6623b729522b",
   "metadata": {},
   "outputs": [],
   "source": [
    "%timeit a[:,:,:,:,0] + 1"
   ]
  },
  {
   "cell_type": "markdown",
   "id": "4ef9b7f3-e6c9-42cb-92dc-4e92068f5428",
   "metadata": {},
   "source": [
    "We will discuss this tomorrow!"
   ]
  },
  {
   "cell_type": "markdown",
   "id": "2e86e577-e374-4e74-be49-8fe8734a0438",
   "metadata": {},
   "source": [
    "# Creating arrays"
   ]
  },
  {
   "cell_type": "markdown",
   "id": "260c6d78-4222-444d-8377-a03a441fb395",
   "metadata": {},
   "source": [
    "Creating arrays can be done using a python list or a tuple."
   ]
  },
  {
   "cell_type": "code",
   "execution_count": null,
   "id": "7a78f7ec-fbf0-464f-860d-35279102c8bf",
   "metadata": {},
   "outputs": [],
   "source": [
    "a = np.array([10,20,30,40,50,60], dtype=np.float64)\n",
    "a"
   ]
  },
  {
   "cell_type": "markdown",
   "id": "565bbd4b-c12f-407d-9edf-8c46d867f1d7",
   "metadata": {},
   "source": [
    "### Array properties"
   ]
  },
  {
   "cell_type": "code",
   "execution_count": null,
   "id": "8f468cd9-4903-470c-8edd-e7853e836c0a",
   "metadata": {},
   "outputs": [],
   "source": [
    "print(a.shape)\n",
    "print(a.ndim)\n",
    "print(a.nbytes)\n",
    "print(a.dtype)"
   ]
  },
  {
   "cell_type": "markdown",
   "id": "122734aa-01f0-49e0-8296-0a31aa8ced06",
   "metadata": {},
   "source": [
    "### Zeros"
   ]
  },
  {
   "cell_type": "code",
   "execution_count": null,
   "id": "752b9509-381d-4afd-aed7-2afd1918949c",
   "metadata": {},
   "outputs": [],
   "source": [
    "a = np.zeros(10)\n",
    "b = np.zeros(shape=(20, 10))\n",
    "\n",
    "print(a)\n",
    "print('-----')\n",
    "print(b)"
   ]
  },
  {
   "cell_type": "markdown",
   "id": "2e9f57c8-4a76-466a-9e2a-338dada4831a",
   "metadata": {},
   "source": [
    "### Ones"
   ]
  },
  {
   "cell_type": "code",
   "execution_count": null,
   "id": "06637683-d80a-428f-91bc-1cf91bc1dc6d",
   "metadata": {},
   "outputs": [],
   "source": [
    "a = np.ones(10)\n",
    "b = np.ones(shape=(5,2))\n",
    "\n",
    "a,b"
   ]
  },
  {
   "cell_type": "markdown",
   "id": "e1bce64f-37bb-4bfe-9e7c-32ffe48b47b2",
   "metadata": {},
   "source": [
    "### Empty"
   ]
  },
  {
   "cell_type": "code",
   "execution_count": null,
   "id": "cc1e962c-631b-4296-b25b-db99b86db777",
   "metadata": {},
   "outputs": [],
   "source": [
    "a = np.empty(10)\n",
    "b = np.empty(shape=(5,2))\n",
    "\n",
    "a,b"
   ]
  },
  {
   "cell_type": "code",
   "execution_count": null,
   "id": "0ac98791-502c-4fcf-8f36-9a2f017f50fb",
   "metadata": {},
   "outputs": [],
   "source": [
    "c = np.zeros_like(b)\n",
    "np.ones_like(c)"
   ]
  },
  {
   "cell_type": "markdown",
   "id": "3a95567e-d1b4-4974-a180-94e322199e85",
   "metadata": {},
   "source": [
    "### Random Data"
   ]
  },
  {
   "cell_type": "code",
   "execution_count": null,
   "id": "a963c8e3-b172-4072-8cf7-b0814bfc03df",
   "metadata": {},
   "outputs": [],
   "source": [
    "x = np.random.randn(10,10)\n",
    "x"
   ]
  },
  {
   "cell_type": "markdown",
   "id": "375d396d-b85b-40fe-85d4-d5d73039ef23",
   "metadata": {},
   "source": [
    "### Create array between start and end with a sampling value"
   ]
  },
  {
   "cell_type": "code",
   "execution_count": null,
   "id": "5e6181a4-cd4d-4c04-9883-1013af97309b",
   "metadata": {},
   "outputs": [],
   "source": [
    "a = np.arange(0, 10) # start, end, sampling\n",
    "a"
   ]
  },
  {
   "cell_type": "markdown",
   "id": "128cedf0-d055-436c-828e-b341c757ac4f",
   "metadata": {},
   "source": [
    "### Create array between start and end with a number of points"
   ]
  },
  {
   "cell_type": "code",
   "execution_count": null,
   "id": "503c0f87-9127-4d71-9999-938d15e4c68f",
   "metadata": {},
   "outputs": [],
   "source": [
    "a = np.linspace(0,10, 4) # start, end, number of points. 10 inclusive\n",
    "a"
   ]
  },
  {
   "cell_type": "code",
   "execution_count": null,
   "id": "cef41537-a5a9-4370-aff7-0c32cd2e3faf",
   "metadata": {},
   "outputs": [],
   "source": [
    "b = np.linspace(0, 10, 4, endpoint=False) # exclusive of 10\n",
    "b"
   ]
  },
  {
   "cell_type": "code",
   "execution_count": null,
   "id": "ae3ad586-2376-4353-92ff-84d56cc2ddcc",
   "metadata": {},
   "outputs": [],
   "source": [
    "c = np.logspace(-4, 4, 10)\n",
    "c"
   ]
  },
  {
   "cell_type": "markdown",
   "id": "58b0f603-3267-477a-8c3e-fb982d4b7a9c",
   "metadata": {},
   "source": [
    "### Create a ND mesh using 1D arrays"
   ]
  },
  {
   "cell_type": "code",
   "execution_count": null,
   "id": "abbb90f4-2f99-42cb-bcf0-877af41feedd",
   "metadata": {},
   "outputs": [],
   "source": [
    "x = np.linspace(-10, 10, 20)\n",
    "y = np.linspace(-20, 20, 50)\n",
    "\n",
    "X, Y = np.meshgrid(x,y)\n",
    "\n",
    "print(X.shape)\n",
    "print(Y.shape)\n",
    "\n",
    "\n"
   ]
  },
  {
   "cell_type": "code",
   "execution_count": null,
   "id": "fc262fc5-a0a3-40a3-9bd4-f3fac14a68bf",
   "metadata": {},
   "outputs": [],
   "source": [
    "fig, (ax1, ax2) = plt.subplots(1,2, figsize=(8,4))\n",
    "ax1.set_title('X')\n",
    "ax1.imshow(X)\n",
    "ax2.set_title('Y')\n",
    "ax2.imshow(Y)"
   ]
  },
  {
   "cell_type": "markdown",
   "id": "c07a4a3f",
   "metadata": {},
   "source": [
    "# "
   ]
  },
  {
   "cell_type": "markdown",
   "id": "21bb6fb0-1733-47a4-8e56-c7b495f03336",
   "metadata": {},
   "source": [
    "### Access tricks\n",
    "\n",
    "Numpy has standard access with 0, 1, 2 but you can also access it **backwards** by using negative indices. For example `-1` will access the last element, `-2` the one before last etc."
   ]
  },
  {
   "cell_type": "code",
   "execution_count": null,
   "id": "beea66d3-32fc-48b6-bd42-87768b45a9ce",
   "metadata": {},
   "outputs": [],
   "source": [
    "x = np.arange(0,10)\n",
    "x"
   ]
  },
  {
   "cell_type": "code",
   "execution_count": null,
   "id": "b0e7c272-84d8-47e4-ab62-fa2de3f0df18",
   "metadata": {},
   "outputs": [],
   "source": [
    "x[0]"
   ]
  },
  {
   "cell_type": "code",
   "execution_count": null,
   "id": "e4cfa8e1-bb2a-48ff-98f5-249f6594ccd4",
   "metadata": {},
   "outputs": [],
   "source": [
    "x[1]"
   ]
  },
  {
   "cell_type": "code",
   "execution_count": null,
   "id": "6445864c-8111-4a6d-a4fd-956314a854a8",
   "metadata": {},
   "outputs": [],
   "source": [
    "x[-1]"
   ]
  },
  {
   "cell_type": "code",
   "execution_count": null,
   "id": "47063870-6bf2-46b5-8c6f-6f2bc424b76a",
   "metadata": {},
   "outputs": [],
   "source": [
    "x[-2]"
   ]
  },
  {
   "cell_type": "code",
   "execution_count": null,
   "id": "db22fa48-7574-409f-9c11-f966f3bf1d8c",
   "metadata": {},
   "outputs": [],
   "source": [
    "x[-10]"
   ]
  },
  {
   "cell_type": "markdown",
   "id": "5b5f0685-af68-4ac5-9a44-3f6643ca6109",
   "metadata": {},
   "source": [
    "## Slicing"
   ]
  },
  {
   "cell_type": "markdown",
   "id": "013b3915-dc8f-46a1-a4bf-d4af9b77f776",
   "metadata": {},
   "source": [
    "### Slicing is one of numpys best features, you can manipulate arrays in interesting ways. "
   ]
  },
  {
   "cell_type": "markdown",
   "id": "84d3de22-9bc5-4d65-9917-bacd1fa2e8c3",
   "metadata": {},
   "source": [
    "Slicing is achieved using the `::` operator where the arguments are:\n",
    "    \n",
    "    [start index]:[end index]:skip\n",
    "    \n",
    "You can supply all, some, or none of the arguments"
   ]
  },
  {
   "cell_type": "code",
   "execution_count": null,
   "id": "5d22497f-f99a-4572-9cec-c91fe9d70978",
   "metadata": {},
   "outputs": [],
   "source": [
    "# Load in some important data\n",
    "data = np.loadtxt('../../data/important.txt')\n",
    "plt.figure()\n",
    "plt.imshow(data[::-2,::-1])\n",
    "plt.show()"
   ]
  },
  {
   "cell_type": "markdown",
   "id": "14364251-38bd-4598-b43a-f45b07b62712",
   "metadata": {},
   "source": []
  },
  {
   "cell_type": "code",
   "execution_count": null,
   "id": "ce32cb59-fb1e-4117-9967-2081e58625b9",
   "metadata": {},
   "outputs": [],
   "source": [
    "figs, (ax1, ax2, ax3) = plt.subplots(1,3)\n",
    "ax1.imshow(data[::2])\n",
    "ax2.imshow(data[10:-1,::2])\n",
    "ax3.imshow(data[4:50:2, 70:90:2])\n",
    "figs.tight_layout()\n",
    "plt.show()"
   ]
  },
  {
   "cell_type": "markdown",
   "id": "343c7a77-a397-4d5e-8f59-3b517b3ff88b",
   "metadata": {},
   "source": [
    "### If we wanted a slice but only cared about the last axes we might end up doing this:"
   ]
  },
  {
   "cell_type": "code",
   "execution_count": null,
   "id": "11613d9d-10fa-4cb7-9cf3-efa18fe19696",
   "metadata": {},
   "outputs": [],
   "source": [
    "def bad_many_slices_of_ham(array):\n",
    "    if array.ndim == 2:\n",
    "        return array[::2,::2]\n",
    "    elif array.ndim == 3:\n",
    "        return array[:, ::2, ::2]\n",
    "    elif array.ndim == 4:\n",
    "        return array[:, :, ::2, ::2]\n",
    "    raise NotImplementedError\n",
    "    "
   ]
  },
  {
   "cell_type": "code",
   "execution_count": null,
   "id": "66f08134-d610-4de2-a584-a0f7289a520c",
   "metadata": {},
   "outputs": [],
   "source": [
    "bad_many_slices_of_ham(data.reshape(1,*data.shape))"
   ]
  },
  {
   "cell_type": "code",
   "execution_count": null,
   "id": "cd139858-aa9c-4fcb-800a-b8548ab1bc6d",
   "metadata": {},
   "outputs": [],
   "source": [
    "bad_many_slices_of_ham(data.reshape(1, 1,*data.shape))"
   ]
  },
  {
   "cell_type": "code",
   "execution_count": null,
   "id": "5ed2c111-cf96-418d-b468-7ffaff359593",
   "metadata": {},
   "outputs": [],
   "source": [
    "bad_many_slices_of_ham(data.reshape(1,1, 1,*data.shape))"
   ]
  },
  {
   "cell_type": "markdown",
   "id": "16277534-bbaf-4ba0-97ff-370d4731fa14",
   "metadata": {},
   "source": [
    "### What we can do instead is exploit the ellipsis operator (...):"
   ]
  },
  {
   "cell_type": "code",
   "execution_count": null,
   "id": "0fee9e15-b79c-4e26-a072-1175c6292b6a",
   "metadata": {},
   "outputs": [],
   "source": [
    "def good_many_slices_of_ham(array):\n",
    "    return array[..., ::2, ::2]"
   ]
  },
  {
   "cell_type": "code",
   "execution_count": null,
   "id": "b9704968-55dd-4f27-a276-473568665e18",
   "metadata": {},
   "outputs": [],
   "source": [
    "good_many_slices_of_ham(data)"
   ]
  },
  {
   "cell_type": "code",
   "execution_count": null,
   "id": "880d0bf1-7fd1-4906-af75-6f3934bf17e4",
   "metadata": {},
   "outputs": [],
   "source": [
    "good_many_slices_of_ham(data.reshape(1,1, 1,1,1,1,1,1,1,1,1,1,1,1,1,1,1,1,*data.shape))"
   ]
  },
  {
   "cell_type": "code",
   "execution_count": null,
   "id": "e35d67f3-44c8-4547-a76a-cc657c013fbd",
   "metadata": {},
   "outputs": [],
   "source": [
    "big_shape = data.reshape(1,1, 1,1,1,1,1,1,1,1,1,1,1,1,1,1,1,1,*data.shape)"
   ]
  },
  {
   "cell_type": "code",
   "execution_count": null,
   "id": "fe362764-e3ad-49be-bac5-e251d10d5823",
   "metadata": {},
   "outputs": [],
   "source": [
    "big_shape[::2, :, :, :, ..., ::4 ].shape"
   ]
  },
  {
   "cell_type": "markdown",
   "id": "cf76d0b7-414a-4b4c-a4e6-53f7bc48ac88",
   "metadata": {},
   "source": [
    "## Indexing and getting fancy filtering"
   ]
  },
  {
   "cell_type": "code",
   "execution_count": null,
   "id": "09b58238-4774-4b5b-8c00-3af89e4ab61f",
   "metadata": {},
   "outputs": [],
   "source": [
    "array = np.arange(0,400,4)\n",
    "array"
   ]
  },
  {
   "cell_type": "code",
   "execution_count": null,
   "id": "35d14dbd-bf75-4924-84c6-2aa1c8e453a1",
   "metadata": {},
   "outputs": [],
   "source": [
    "array[[0, 50, 70]]"
   ]
  },
  {
   "cell_type": "code",
   "execution_count": null,
   "id": "1522cf5e-2a65-42cd-ada3-b55e8b9ab4d4",
   "metadata": {},
   "outputs": [],
   "source": [
    "v = np.arange(0,30,10, dtype=np.float64)\n",
    "v.astype(np.int64)"
   ]
  },
  {
   "cell_type": "code",
   "execution_count": null,
   "id": "e7d5ed36-8b2f-4918-955e-35e6eabaf164",
   "metadata": {},
   "outputs": [],
   "source": [
    "array[\n",
    "    np.arange(0,30,10, dtype=np.float64).astype(np.int64)\n",
    "]"
   ]
  },
  {
   "cell_type": "markdown",
   "id": "f8d04eaa-1cc5-4763-b376-4167d7eaf693",
   "metadata": {},
   "source": [
    "## Filtering using boolean masks\n",
    "\n",
    "If you perform a comparison of some kind (`==`, `<`, `>` etc). Numpy will generate a boolean array"
   ]
  },
  {
   "cell_type": "code",
   "execution_count": null,
   "id": "cf5799f2-1c1c-4d89-bcce-1fdcc2175dcd",
   "metadata": {},
   "outputs": [],
   "source": [
    "array < 50"
   ]
  },
  {
   "cell_type": "code",
   "execution_count": null,
   "id": "fd8372d7-2798-4658-bffd-7d3b1261d031",
   "metadata": {},
   "outputs": [],
   "source": [
    "np.where(array < 50)"
   ]
  },
  {
   "cell_type": "code",
   "execution_count": null,
   "id": "8f8d3705-c867-4b32-9971-48f0c1717244",
   "metadata": {},
   "outputs": [],
   "source": [
    "mybool = np.array([ True,  True,  True,  True,  True,  True,  True,  True,  True,\n",
    "        True,  True,  True,  True, False, False, False, False, False,\n",
    "       False, False, False, False, False, False, False, False, False,\n",
    "       False, False, False, False, False, False, False, False, False,\n",
    "       False, False, False, False, False, False, False, False, False,\n",
    "       False, False, False, False, False, False, False, False, False,\n",
    "       False, False, False, False, False, False, False, False, False,\n",
    "       False, False, False, False, False, False, False, False, False,\n",
    "       False, False, False, False, False, False, False, False, False,\n",
    "       False, False, False, False, False, False, False, False, False,\n",
    "       False, False, False, False, True, False, False, False, False,\n",
    "       False], dtype=bool)"
   ]
  },
  {
   "cell_type": "code",
   "execution_count": null,
   "id": "26ba5c7c-4c25-484f-9a72-93bce6521203",
   "metadata": {},
   "outputs": [],
   "source": [
    "array[np.where(mybool)]"
   ]
  },
  {
   "cell_type": "code",
   "execution_count": null,
   "id": "33e5ab7f-be4e-474a-a03f-d181c958e068",
   "metadata": {},
   "outputs": [],
   "source": [
    "mybool.dtype"
   ]
  },
  {
   "cell_type": "code",
   "execution_count": null,
   "id": "70819cf0-c4ee-4d3c-ad93-d47ee3f5fef2",
   "metadata": {},
   "outputs": [],
   "source": [
    "array[mybool]"
   ]
  },
  {
   "cell_type": "code",
   "execution_count": null,
   "id": "fad3be4d-d331-4d2b-9f32-849de064e401",
   "metadata": {},
   "outputs": [],
   "source": [
    "array[ array < 10 ] = 0\n",
    "array"
   ]
  },
  {
   "cell_type": "markdown",
   "id": "c0e66ea7-6ccb-4f78-989f-c2f69e657e57",
   "metadata": {},
   "source": [
    "### Exercise circular aperture\n",
    "\n",
    "Given `x` and `y` coordinates and a `radius` create a `create_circle` function that produces an array of zeros with a circle of 1s\n",
    "For example a function that works like this:\n",
    "\n",
    "```python\n",
    "    x = np.linspace(-10, 10, 5)\n",
    "    y = np.linspace(-10, 10, 5)\n",
    "    R = 5\n",
    "    circle = create_circle(x, y, 5)\n",
    "```\n",
    "Would return an `circle` array like this:\n",
    "```python\n",
    "    [[0 0 0 0 0]\n",
    "     [0 0 1 0 0]\n",
    "     [0 1 1 1 0]\n",
    "     [0 0 1 0 0]\n",
    "     [0 0 0 0 0]]\n",
    "```\n",
    "Remember:\n",
    "$$ \n",
    "R = \\sqrt{x^2 + y^2} \n",
    "$$\n",
    "\n"
   ]
  },
  {
   "cell_type": "code",
   "execution_count": null,
   "id": "4e034062",
   "metadata": {},
   "outputs": [],
   "source": [
    "def create_circle(x, y, radius):\n",
    "    pass"
   ]
  },
  {
   "cell_type": "code",
   "execution_count": null,
   "id": "b8dc0017-47c6-464f-8e0f-ad0f450c2530",
   "metadata": {},
   "outputs": [],
   "source": [
    "x = np.linspace(-10, 10, 5)\n",
    "y = np.linspace(-10, 10, 5)\n",
    "R = 5\n",
    "circle = create_circle(x, y, 5)\n",
    "\n",
    "print(circle)"
   ]
  },
  {
   "cell_type": "markdown",
   "id": "d32c0fbb-c9a6-4516-a008-3e93c1cde284",
   "metadata": {},
   "source": [
    "Now make an interact plot of it with an adjustable radius (You can refer to yesterdays notebook on this!)\n",
    "You can use `plt` interface or if you're feeling fancy try `fig, ax` interface"
   ]
  },
  {
   "cell_type": "code",
   "execution_count": null,
   "id": "88973593-92ef-4579-a14c-062c2ad8b554",
   "metadata": {},
   "outputs": [],
   "source": [
    "# Interactive plot here"
   ]
  },
  {
   "cell_type": "markdown",
   "id": "81e4c10f-c52d-4b15-97c2-caca8d1b3ddd",
   "metadata": {},
   "source": [
    "### AND (&)"
   ]
  },
  {
   "cell_type": "code",
   "execution_count": null,
   "id": "43c010ac-fd3e-4a91-be5e-4fa164a04282",
   "metadata": {},
   "outputs": [],
   "source": [
    "print(True & True)\n",
    "print(True & False)\n",
    "print(False & False)\n",
    "\n",
    "array[ (array <50) & (array > 20)]\n"
   ]
  },
  {
   "cell_type": "markdown",
   "id": "7d7f006d-8799-43d1-95c5-7f65df247d9a",
   "metadata": {},
   "source": [
    "### OR (|)"
   ]
  },
  {
   "cell_type": "code",
   "execution_count": null,
   "id": "5ed483d2-2f2f-4c72-bef9-efe3b04daafd",
   "metadata": {},
   "outputs": [],
   "source": [
    "print(True | True)\n",
    "print(True | False)\n",
    "print(False | False)\n",
    "\n",
    "array[ (array <50) | (array > 350) ]"
   ]
  },
  {
   "cell_type": "markdown",
   "id": "fec118f6-6a1b-47bf-b809-b1aea8fefa33",
   "metadata": {},
   "source": [
    "### Exclusive OR (^)"
   ]
  },
  {
   "cell_type": "code",
   "execution_count": null,
   "id": "94bff260-767e-4749-8838-255ed92d2868",
   "metadata": {},
   "outputs": [],
   "source": [
    "print(True ^ True)\n",
    "print(True ^ False)\n",
    "print(False ^ False)\n",
    "\n",
    "array[  (array < 50) ^ (array < 70)]"
   ]
  },
  {
   "cell_type": "markdown",
   "id": "fbf9b010-94da-42f4-a193-8e6bba02af1e",
   "metadata": {},
   "source": [
    "### NOT (~)"
   ]
  },
  {
   "cell_type": "code",
   "execution_count": null,
   "id": "5ed7464c-5954-44ce-a3e2-06671010b329",
   "metadata": {},
   "outputs": [],
   "source": [
    "print(not True)\n",
    "print(not False)"
   ]
  },
  {
   "cell_type": "markdown",
   "id": "4b7e3916-9a45-49f2-a577-cec47963f887",
   "metadata": {},
   "source": [
    "In numpy not is represented by the (~) operator and is used like this:"
   ]
  },
  {
   "cell_type": "code",
   "execution_count": null,
   "id": "39d287dd-25ed-4e0a-bab9-ff02b6939ec3",
   "metadata": {},
   "outputs": [],
   "source": [
    "array[~(array >= 50)]"
   ]
  },
  {
   "cell_type": "markdown",
   "id": "566f7060-d164-4600-bb07-cb83f30f023a",
   "metadata": {},
   "source": [
    "### Exercise build a square aperture\n",
    "\n",
    "Like the circle aperture, using filtering given, `x`, `y`, `width` and `height` produce rectanglar aperture:\n",
    "\n",
    "    >>> x = np.linspace(-10, 10, 5)\n",
    "    >>> y = np.linspace(-10, 10, 5)\n",
    "    >>> width = 5\n",
    "    >>> height = 10\n",
    "    >>> rect = create_rectangle(x, y, width, height)\n",
    "\n",
    "Would return an `rectangle` array like this:\n",
    "    \n",
    "    [0 1 1 1 0]\n",
    "    [0 1 1 1 0]\n",
    "    [0 1 1 1 0]\n",
    "    [0 1 1 1 0]\n",
    "    [0 1 1 1 0]\n",
    "\n",
    "\n",
    "Hint: You can use `np.abs` to take the absolute value"
   ]
  },
  {
   "cell_type": "code",
   "execution_count": null,
   "id": "69b8aeaa-4590-43a2-ac29-6b8a066fa044",
   "metadata": {},
   "outputs": [],
   "source": [
    "def create_rectangle(x, y, width, height):\n",
    "    pass"
   ]
  },
  {
   "cell_type": "code",
   "execution_count": null,
   "id": "76b93a1a-e9d1-4e8c-8c0b-7e8bf3c60caf",
   "metadata": {},
   "outputs": [],
   "source": [
    "plt.figure()\n",
    "plt.imshow(create_rectangle(x, y, 5, 5))\n",
    "plt.show()"
   ]
  },
  {
   "cell_type": "code",
   "execution_count": null,
   "id": "b3235113-862c-4c42-ad8c-1988dbc0de53",
   "metadata": {},
   "outputs": [],
   "source": [
    "from ipywidgets.widgets import interact\n",
    "\n",
    "x = np.linspace(-10, 10, 100)\n",
    "y = np.linspace(-10, 10, 100)\n",
    "\n",
    "# ...Do the plotting here\n",
    "fig, ax = plt.subplots()\n",
    "\n",
    "im = ax.imshow(create_rectangle(x,y,5, 10))\n",
    "\n",
    "@interact(w=(0, 10,0.1), h=(0, 10, 0.1))\n",
    "def update(w=5, h=5):\n",
    "    new_rect = create_rectangle(x, y, w, h)\n",
    "    im.set_data(new_rect)"
   ]
  },
  {
   "cell_type": "markdown",
   "id": "961130cb-3b5e-44b9-b6cb-f836cee0727f",
   "metadata": {},
   "source": [
    "## Broadcasting"
   ]
  },
  {
   "cell_type": "markdown",
   "id": "a8eeaf02-30c9-497b-92d9-f861df414dc5",
   "metadata": {},
   "source": [
    "Lets look at a common problem. We have a matrix `A` and a vector `x` and we want to apply `x` along the matrix. For example:\n",
    "    \n",
    "    A:\n",
    "      [1,1,1,1]\n",
    "      [1,1,1,1]\n",
    "      [1,1,1,1]\n",
    "    x:\n",
    "      [1, 2, 3]\n",
    "    \n",
    "    result:\n",
    "      [1,1,1,1]\n",
    "      [2,2,2,2]\n",
    "      [3,3,3,3]\n",
    "How would we go about doing it?"
   ]
  },
  {
   "cell_type": "code",
   "execution_count": null,
   "id": "a4288edc-f460-4610-9b5d-90281dd9eb97",
   "metadata": {},
   "outputs": [],
   "source": [
    "A = np.ones(shape=(3,4))\n",
    "x = np.arange(1,4)\n",
    "A,x"
   ]
  },
  {
   "cell_type": "code",
   "execution_count": null,
   "id": "6d5d7a2e-330d-4a8e-9048-67b3356cf997",
   "metadata": {},
   "outputs": [],
   "source": [
    "A*x"
   ]
  },
  {
   "cell_type": "markdown",
   "id": "ee6831a6-7da3-4fb5-850f-503a0c687493",
   "metadata": {},
   "source": [
    "We can insert a fake axis into `x` to make its shape \"compatible\" with `A`"
   ]
  },
  {
   "cell_type": "code",
   "execution_count": null,
   "id": "190657ed-46ab-4fda-b617-9c181d4f2f11",
   "metadata": {},
   "outputs": [],
   "source": [
    "A*x[:, None]"
   ]
  },
  {
   "cell_type": "code",
   "execution_count": null,
   "id": "62cc4ea4-d12e-445a-9f27-ee2d157d0730",
   "metadata": {},
   "outputs": [],
   "source": []
  },
  {
   "cell_type": "markdown",
   "id": "2d35da9f-eb4b-4ef6-9eff-63809ebc74ef",
   "metadata": {},
   "source": [
    "Broadcasting allows you make arrays dimensionally compatible by inserting \"fake\" axis. Numpy determines compatible dimensions through two rules:\n",
    "\n",
    "- they are equal, or\n",
    "- one of them is 1"
   ]
  },
  {
   "cell_type": "markdown",
   "id": "9841491c-6d58-411e-8049-85a292bdf040",
   "metadata": {},
   "source": [
    "We can exploit this behavoir and build higher dimensional array operations using lower dimensional ones. For example, with just `x` and simulate an outer product\n",
    "\n",
    "$\\rvert x\\rangle \\langle x \\rvert$"
   ]
  },
  {
   "cell_type": "code",
   "execution_count": null,
   "id": "7f02d561-32f9-4c51-a3b1-8f7293dad59b",
   "metadata": {},
   "outputs": [],
   "source": [
    "x[:,None]*x[None,:]"
   ]
  },
  {
   "cell_type": "code",
   "execution_count": null,
   "id": "c478b187-a55d-401b-a9d3-59cd5928d438",
   "metadata": {},
   "outputs": [],
   "source": [
    "x[:,None] - x[None,:]"
   ]
  },
  {
   "cell_type": "markdown",
   "id": "38afb26f-64fc-4b7c-92e0-4f9fd8290783",
   "metadata": {},
   "source": [
    "### Exercise Weins Law version II\n",
    "\n",
    "Previously our Weins law function looked like this:"
   ]
  },
  {
   "cell_type": "code",
   "execution_count": null,
   "id": "89781a99-3a13-4883-a9e2-a15ee5ed7000",
   "metadata": {},
   "outputs": [],
   "source": [
    "def weins_law(wavelength, \n",
    "              temperature):\n",
    "\n",
    "    h = 6.62607015e-34\n",
    "    c = 299792458\n",
    "    kB = 1.380e-23\n",
    "    I0 = (2.0 * h * c ** 2) / wavelength ** 5\n",
    "    \n",
    "    return I0 * np.exp(-( h * c ) / ( wavelength * kB * temperature))"
   ]
  },
  {
   "cell_type": "code",
   "execution_count": null,
   "id": "88c2aa79-c18a-43fd-89e0-02d392061ae5",
   "metadata": {},
   "outputs": [],
   "source": []
  },
  {
   "cell_type": "markdown",
   "id": "0fffa7fd-8cea-4e68-9498-b6a023bd0e10",
   "metadata": {},
   "source": [
    "Now if we tried to pass in a temperature array and wavelength array what should the shape be?"
   ]
  },
  {
   "cell_type": "code",
   "execution_count": null,
   "id": "59f11335-bfb7-41dd-be65-b2ed3d0b3414",
   "metadata": {},
   "outputs": [],
   "source": [
    "temperature = np.linspace(10,1000,100)\n",
    "wavelength = np.linspace(0.1,100,100)\n",
    "\n",
    "out = weins_law(wavelength, temperature)"
   ]
  },
  {
   "cell_type": "code",
   "execution_count": null,
   "id": "702efa1f-7c9f-4f51-b4bc-9805da553555",
   "metadata": {},
   "outputs": [],
   "source": [
    "out.shape"
   ]
  },
  {
   "cell_type": "markdown",
   "id": "f14ae395-b54c-4751-abc5-409204b69403",
   "metadata": {},
   "source": [
    "Is this correct? What about if they're different shapes?\n"
   ]
  },
  {
   "cell_type": "code",
   "execution_count": null,
   "id": "6462d403-2a1d-48a3-be61-a3457492b639",
   "metadata": {},
   "outputs": [],
   "source": [
    "temperature = np.linspace(10,1000,10)\n",
    "wavelength = np.linspace(0.1,100,100)\n",
    "out = weins_law(wavelength, temperature)"
   ]
  },
  {
   "cell_type": "markdown",
   "id": "ae42a2e6-af41-4c6b-b189-40b1b922c9b1",
   "metadata": {},
   "source": [
    "It doesn't, since for Weins law we expect:\n",
    "\n",
    "- For *each* temperature we want all wavelengths\n",
    "- The shape of the output array should be something like (Num T, Num wavelength)\n",
    "\n",
    "Use broadcasting and fix our weins law function:"
   ]
  },
  {
   "cell_type": "code",
   "execution_count": null,
   "id": "4ca79a0e-eff8-4629-8ccf-fc369cfd8a41",
   "metadata": {},
   "outputs": [],
   "source": [
    "def weins_law_II(wavelength, \n",
    "              temperature):\n",
    "    pass\n",
    "\n",
    "# (t, w)\n",
    "\n",
    "\n",
    "temperature = np.linspace(10,1000,100)\n",
    "wavelength = np.linspace(0.1,100,100)\n",
    "\n",
    "out = weins_law_II(wavelength, temperature)\n",
    "\n",
    "assert out.shape == (100,100)\n",
    "\n",
    "temperature = np.linspace(10,1000,10)\n",
    "wavelength = np.linspace(0.1,100,100)\n",
    "\n",
    "out = weins_law_II(wavelength, temperature)\n",
    "\n",
    "assert out.shape == (10,100)"
   ]
  },
  {
   "cell_type": "code",
   "execution_count": null,
   "id": "10c1674a-fc74-4798-b5c9-8042bd4f0d6f",
   "metadata": {},
   "outputs": [],
   "source": [
    "broad_out = out[:,None,:,None,None]\n",
    "broad_out.shape"
   ]
  },
  {
   "cell_type": "code",
   "execution_count": null,
   "id": "c633f96c-2323-4048-90c9-bdf70700710f",
   "metadata": {},
   "outputs": [],
   "source": [
    "broad_out.reshape(*out.shape).shape"
   ]
  },
  {
   "cell_type": "code",
   "execution_count": null,
   "id": "9a8d734b-549c-47b2-a8ad-b809b50b2e23",
   "metadata": {},
   "outputs": [],
   "source": [
    "out.ravel().shape"
   ]
  },
  {
   "cell_type": "markdown",
   "id": "391cda0e-87c5-4d08-9b7a-2bf7e13947e4",
   "metadata": {},
   "source": [
    "## Linear Algebra"
   ]
  },
  {
   "cell_type": "code",
   "execution_count": null,
   "id": "7c0e812c-d0d5-4803-a942-661a713d5c7d",
   "metadata": {},
   "outputs": [],
   "source": [
    "A = np.arange(0, 100).reshape(10, 10)\n",
    "v1 = np.arange(0, 10)"
   ]
  },
  {
   "cell_type": "code",
   "execution_count": null,
   "id": "b0cb2dde-48ae-4076-b850-e3a754a4a7e0",
   "metadata": {},
   "outputs": [],
   "source": [
    "v1.shape"
   ]
  },
  {
   "cell_type": "markdown",
   "id": "e81d2b8d-58fb-4318-9033-852683396533",
   "metadata": {},
   "source": [
    "### Matrix matrix"
   ]
  },
  {
   "cell_type": "code",
   "execution_count": null,
   "id": "c67e961f-f503-44bb-84f7-bc39c2ae0008",
   "metadata": {},
   "outputs": [],
   "source": [
    "np.dot(A,A)"
   ]
  },
  {
   "cell_type": "code",
   "execution_count": null,
   "id": "2f230cba-0923-4a26-a818-8d91f0f444a5",
   "metadata": {},
   "outputs": [],
   "source": [
    "A @ A"
   ]
  },
  {
   "cell_type": "markdown",
   "id": "a7f11a05-e0d3-4dc8-8551-aa97531b4559",
   "metadata": {},
   "source": [
    "### Matrix Vector"
   ]
  },
  {
   "cell_type": "code",
   "execution_count": null,
   "id": "a50c25ae-dfe0-42eb-8c8d-dbc655a51d17",
   "metadata": {},
   "outputs": [],
   "source": [
    "np.dot(A, v1)"
   ]
  },
  {
   "cell_type": "code",
   "execution_count": null,
   "id": "45cc6df7-66d4-4fef-b5ce-374f4241538f",
   "metadata": {},
   "outputs": [],
   "source": [
    "A @ v1"
   ]
  },
  {
   "cell_type": "markdown",
   "id": "c6fabd21-4e8f-43eb-8d60-fcfa47b9a3fe",
   "metadata": {},
   "source": [
    "### Dot product"
   ]
  },
  {
   "cell_type": "code",
   "execution_count": null,
   "id": "3eaa65c6-70ac-40e5-a8e4-a2111371d585",
   "metadata": {},
   "outputs": [],
   "source": [
    "np.dot(v1, v1)"
   ]
  },
  {
   "cell_type": "code",
   "execution_count": null,
   "id": "c2f328bb-86a5-4e16-9376-ba16d2beaf65",
   "metadata": {},
   "outputs": [],
   "source": [
    "v1 @ v1"
   ]
  },
  {
   "cell_type": "code",
   "execution_count": null,
   "id": "39c5c9b9-5f85-43d9-8152-b42a985b7567",
   "metadata": {},
   "outputs": [],
   "source": [
    "np.einsum('ij,jk -> i', A, A)"
   ]
  },
  {
   "cell_type": "markdown",
   "id": "288009dd-bfed-44bf-9b08-ddbeb388d0b6",
   "metadata": {},
   "source": [
    "### Transpose"
   ]
  },
  {
   "cell_type": "code",
   "execution_count": null,
   "id": "69fba043-fda9-4c63-8f4d-cb1e8182ee52",
   "metadata": {},
   "outputs": [],
   "source": [
    "np.random.rand(2,10).T.shape"
   ]
  },
  {
   "cell_type": "markdown",
   "id": "8e7cc394-a0a5-4048-bea8-8e03c908a44c",
   "metadata": {},
   "source": [
    "### Complex"
   ]
  },
  {
   "cell_type": "code",
   "execution_count": null,
   "id": "85da7b99-c115-4909-b00d-21454684d63c",
   "metadata": {},
   "outputs": [],
   "source": [
    "A_complex = A*1j\n",
    "A_complex.dtype"
   ]
  },
  {
   "cell_type": "code",
   "execution_count": null,
   "id": "662cad62-6290-4de4-85e9-bd7b968dd0e0",
   "metadata": {},
   "outputs": [],
   "source": [
    "v2 = np.array([5 + 1j, 4 + 4j])\n",
    "print(v2.dtype)\n",
    "v2"
   ]
  },
  {
   "cell_type": "code",
   "execution_count": null,
   "id": "143847e7-0e84-49a6-9901-c79c575029a9",
   "metadata": {},
   "outputs": [],
   "source": [
    "v2.conjugate()"
   ]
  },
  {
   "cell_type": "code",
   "execution_count": null,
   "id": "5a9b6fc1-eca3-4a58-a8ac-288ca7c43454",
   "metadata": {},
   "outputs": [],
   "source": [
    "v2*v2.conjugate()"
   ]
  },
  {
   "cell_type": "code",
   "execution_count": null,
   "id": "860e80e6-2869-4fe7-bbe2-07e13550d838",
   "metadata": {},
   "outputs": [],
   "source": [
    "v2.imag"
   ]
  },
  {
   "cell_type": "code",
   "execution_count": null,
   "id": "f4bcb738-8eef-425b-8c20-b60d5c4fc4e3",
   "metadata": {},
   "outputs": [],
   "source": [
    "print(v2.real)\n",
    "v2.real[:] *= 2\n",
    "print(v2.imag)\n",
    "v2.imag[:] /= 2\n",
    "\n",
    "v2\n"
   ]
  },
  {
   "cell_type": "code",
   "execution_count": null,
   "id": "adc4e453-dcb5-4f90-b808-66928d2d5db7",
   "metadata": {},
   "outputs": [],
   "source": [
    "np.abs(v1)"
   ]
  },
  {
   "cell_type": "code",
   "execution_count": null,
   "id": "616a70c7-d54e-4da3-929d-93929c1fba7f",
   "metadata": {},
   "outputs": [],
   "source": [
    "np.sqrt(v2.real**2 + v2.imag**2)"
   ]
  },
  {
   "cell_type": "markdown",
   "id": "906bd06e-39eb-4d3a-80a9-5283e4d98173",
   "metadata": {},
   "source": [
    "### Matrix inverse"
   ]
  },
  {
   "cell_type": "code",
   "execution_count": null,
   "id": "62b999e6-dd4c-42f7-9d5b-7515a7e925c0",
   "metadata": {},
   "outputs": [],
   "source": [
    "\n",
    "A = np.random.rand(10,10)\n",
    "\n",
    "np.linalg.inv(A)"
   ]
  },
  {
   "cell_type": "code",
   "execution_count": null,
   "id": "c2682991-4368-4936-bbef-2bd01ef8f26f",
   "metadata": {},
   "outputs": [],
   "source": [
    "plt.figure()\n",
    "plt.imshow(A @ np.linalg.inv(A))\n",
    "plt.show()"
   ]
  },
  {
   "cell_type": "markdown",
   "id": "83507a85-338e-48ca-801e-b7baaa504696",
   "metadata": {},
   "source": [
    "### Matrix determinant"
   ]
  },
  {
   "cell_type": "code",
   "execution_count": null,
   "id": "b266bd17-f2d6-4ec9-a027-10986c35aee2",
   "metadata": {},
   "outputs": [],
   "source": [
    "np.linalg.det(A)"
   ]
  },
  {
   "cell_type": "markdown",
   "id": "8e1411cc-e6f5-48cc-a1f7-e07955cb80c8",
   "metadata": {},
   "source": [
    "### Matrix eignvalues"
   ]
  },
  {
   "cell_type": "code",
   "execution_count": null,
   "id": "b368e58f-669c-4316-99d6-b5d58d7adf94",
   "metadata": {},
   "outputs": [],
   "source": [
    "eignval, eignvec = np.linalg.eig(A)"
   ]
  },
  {
   "cell_type": "code",
   "execution_count": null,
   "id": "184c1176-0032-45da-aa33-c02fee292d30",
   "metadata": {},
   "outputs": [],
   "source": [
    "np.isclose(A @ eignvec, eignval*eignvec)"
   ]
  },
  {
   "cell_type": "markdown",
   "id": "a31f627f-2869-4862-af8e-ef4ce2c96024",
   "metadata": {},
   "source": [
    "## Operations"
   ]
  },
  {
   "cell_type": "markdown",
   "id": "48646850-f52e-459c-9852-7e239d98d5e9",
   "metadata": {},
   "source": [
    "### Reductions"
   ]
  },
  {
   "cell_type": "code",
   "execution_count": null,
   "id": "f1be0fc9-d56c-4a00-9ed7-1c586f3c286b",
   "metadata": {},
   "outputs": [],
   "source": [
    "np.sum(A)\n",
    "A.sum()"
   ]
  },
  {
   "cell_type": "code",
   "execution_count": null,
   "id": "e2ceeea9-fe89-423f-9f22-001c6b8c9db2",
   "metadata": {},
   "outputs": [],
   "source": [
    "A.shape"
   ]
  },
  {
   "cell_type": "code",
   "execution_count": null,
   "id": "24a670a1-bfe1-4a51-922c-d7965b525469",
   "metadata": {},
   "outputs": [],
   "source": [
    "A.sum(axis=0)"
   ]
  },
  {
   "cell_type": "code",
   "execution_count": null,
   "id": "d4020c14-5669-477f-a87c-97efd80d0ea1",
   "metadata": {},
   "outputs": [],
   "source": [
    "A.sum(axis=1)"
   ]
  },
  {
   "cell_type": "code",
   "execution_count": null,
   "id": "21f0186a-e93e-4d21-831a-f386e2cfb5e1",
   "metadata": {},
   "outputs": [],
   "source": [
    "B = np.random.rand(4,10)\n",
    "\n",
    "B.sum(axis=1).shape"
   ]
  },
  {
   "cell_type": "code",
   "execution_count": null,
   "id": "fb8adfa1-e9f6-41a6-837b-7bd6c604ef01",
   "metadata": {},
   "outputs": [],
   "source": [
    "np.mean(A), A.mean(), A.mean(axis=0)"
   ]
  },
  {
   "cell_type": "code",
   "execution_count": null,
   "id": "b172429b-3384-4f06-999b-d03c16073e1a",
   "metadata": {},
   "outputs": [],
   "source": [
    "v1"
   ]
  },
  {
   "cell_type": "code",
   "execution_count": null,
   "id": "da494cca-d169-411f-9ce5-cda8a14d7e0c",
   "metadata": {},
   "outputs": [],
   "source": [
    "np.prod(v1 + 1)"
   ]
  },
  {
   "cell_type": "code",
   "execution_count": null,
   "id": "087cc3fe-a6f9-40fb-9d98-9951ea0d3cd5",
   "metadata": {},
   "outputs": [],
   "source": [
    "np.cumsum(v1)"
   ]
  },
  {
   "cell_type": "code",
   "execution_count": null,
   "id": "4e52b356-2da1-4032-aee4-6bcf3e6f33c8",
   "metadata": {},
   "outputs": [],
   "source": [
    "np.cumprod(v1 + 1)"
   ]
  },
  {
   "cell_type": "code",
   "execution_count": null,
   "id": "c091186e-1311-4c6d-af3c-5c94907cc593",
   "metadata": {},
   "outputs": [],
   "source": [
    "np.trace(A)"
   ]
  },
  {
   "cell_type": "code",
   "execution_count": null,
   "id": "6b41dc26-ab86-43ae-8147-c43e539cbd78",
   "metadata": {},
   "outputs": [],
   "source": [
    "np.diagonal(A).sum()"
   ]
  },
  {
   "cell_type": "markdown",
   "id": "7f118583-738d-45dd-9010-a1b5338efb0c",
   "metadata": {},
   "source": [
    "## Fourier Transform\n",
    "\n",
    "Numpy provides the `fft` module which allows you to perform fourier transforms"
   ]
  },
  {
   "cell_type": "code",
   "execution_count": null,
   "id": "4730ea4d-b844-40a7-ab46-6e5765d3f157",
   "metadata": {},
   "outputs": [],
   "source": [
    "x = np.linspace(-np.pi, 10*np.pi, 1000)\n",
    "plt.figure()\n",
    "plt.plot(np.sin(x)*np.cos(2*x))\n",
    "plt.show()"
   ]
  },
  {
   "cell_type": "code",
   "execution_count": null,
   "id": "3945e085-90be-410f-852e-3a92a25b88ff",
   "metadata": {},
   "outputs": [],
   "source": [
    "out = np.fft.fft(np.sin(x)*np.cos(2*x))\n",
    "plt.figure()\n",
    "plt.plot(np.abs(out))\n",
    "plt.show()"
   ]
  },
  {
   "cell_type": "markdown",
   "id": "e8e01623-2635-4150-b72c-8077a55fd818",
   "metadata": {},
   "source": [
    "The output of the FFT can be a little strange, the first half are for frequencies between `0` and `N/2` and the second half is between `-N/2` and `0`, we can shift the zero to the centre using `fftshift`"
   ]
  },
  {
   "cell_type": "code",
   "execution_count": null,
   "id": "67ec9bac-9a69-4454-981c-546ade8ff8c2",
   "metadata": {},
   "outputs": [],
   "source": [
    "out = np.fft.fft(np.sin(x)*np.cos(2*x))\n",
    "plt.figure()\n",
    "plt.plot(np.absolute(np.fft.fftshift(out)))\n",
    "plt.show()"
   ]
  },
  {
   "cell_type": "markdown",
   "id": "f8a2dc11-4009-4706-9cd9-6040dd7fc146",
   "metadata": {},
   "source": [
    "We can also get the frequency coordinates using `fftfreq` (Remember to shift it as well!)"
   ]
  },
  {
   "cell_type": "code",
   "execution_count": null,
   "id": "520a4c8c-6bc5-4f2e-90bc-4858d29594e0",
   "metadata": {},
   "outputs": [],
   "source": [
    "np.fft.fftfreq?"
   ]
  },
  {
   "cell_type": "code",
   "execution_count": null,
   "id": "92a138b5-07ad-449d-b4c7-e099cd3269e0",
   "metadata": {},
   "outputs": [],
   "source": [
    "fx=np.fft.fftfreq(x.shape[0],d=x[1]-x[0])\n",
    "\n",
    "fx = np.fft.fftshift(fx)\n",
    "out = np.fft.fft(np.sin(x)*np.cos(2*x))\n",
    "\n",
    "plt.figure()\n",
    "plt.plot(fx, np.absolute(np.fft.fftshift(out)))\n",
    "plt.show()"
   ]
  },
  {
   "cell_type": "markdown",
   "id": "f825d208-46e7-4b47-a818-1a7988d54d57",
   "metadata": {},
   "source": [
    "We can even do 2D FFTs. Lets try with our circle aperture function"
   ]
  },
  {
   "cell_type": "code",
   "execution_count": null,
   "id": "9de75e65-ff34-45ad-8be9-4866746d3e88",
   "metadata": {},
   "outputs": [],
   "source": [
    "import matplotlib as mpl\n",
    "x = np.linspace(-10,10,100)\n",
    "y = np.linspace(-10,10,100)\n",
    "r = 4.0\n",
    "\n",
    "circle = create_circle(x, y, r)\n",
    "\n",
    "fft_circle = np.fft.fftshift(np.fft.fft2(circle))\n",
    "\n",
    "plt.figure()\n",
    "im = plt.imshow(np.absolute(fft_circle), cmap='hot')\n",
    "\n",
    "@interact(r=(0, 10,0.1))\n",
    "def update(r=4):\n",
    "    circle = create_circle(x, y, r)\n",
    "    fft_circle = np.fft.fftshift(np.fft.fft2(circle))\n",
    "    im.set_data(np.abs(fft_circle))\n",
    "    \n"
   ]
  },
  {
   "cell_type": "code",
   "execution_count": null,
   "id": "4b9fff69-4968-4327-918c-d654611d78c1",
   "metadata": {},
   "outputs": [],
   "source": [
    "import matplotlib as mpl\n",
    "x = np.linspace(-10,10,100)\n",
    "y = np.linspace(-10,10,100)\n",
    "w = 2.0\n",
    "h = 2.0\n",
    "\n",
    "rectangle = create_rectangle(x, y, w, h)\n",
    "\n",
    "fft_rect = np.fft.fftshift(np.fft.fft2(rectangle))\n",
    "\n",
    "plt.figure()\n",
    "im = plt.imshow(np.absolute(fft_rect), cmap='hot')\n",
    "\n",
    "@interact(w=(0, 10,0.1), height=(0, 10, 0.1))\n",
    "def update(w=2, h=2):\n",
    "    rectangle = create_rectangle(x, y, w, h)\n",
    "    fft_rect = np.fft.fftshift(np.fft.fft2(rectangle))\n",
    "    im.set_data(np.abs(fft_rect))"
   ]
  },
  {
   "cell_type": "code",
   "execution_count": null,
   "id": "d2ccf289-92fd-4637-a24b-4f6a367590ab",
   "metadata": {},
   "outputs": [],
   "source": []
  }
 ],
 "metadata": {
  "kernelspec": {
   "display_name": "Python 3 (ipykernel)",
   "language": "python",
   "name": "python3"
  },
  "language_info": {
   "codemirror_mode": {
    "name": "ipython",
    "version": 3
   },
   "file_extension": ".py",
   "mimetype": "text/x-python",
   "name": "python",
   "nbconvert_exporter": "python",
   "pygments_lexer": "ipython3",
   "version": "3.10.11"
  }
 },
 "nbformat": 4,
 "nbformat_minor": 5
}
