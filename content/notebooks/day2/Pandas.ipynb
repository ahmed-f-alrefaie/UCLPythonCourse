{
 "cells": [
  {
   "cell_type": "markdown",
   "id": "e4332149-330c-4d9e-814c-f1063aec1325",
   "metadata": {},
   "source": [
    "# Pandas\n",
    "\n",
    "Pandas is the main library for reading and manipulating data. It is built on top of NumPy and provides an easy-to-use data structure for data analysis. Its used in fields such as machine learning, data science, and data analysis."
   ]
  },
  {
   "cell_type": "code",
   "execution_count": null,
   "id": "cbcd78f7-55b2-46a3-bf96-0e6c7e02a14a",
   "metadata": {},
   "outputs": [],
   "source": [
    "# Online version only or if you dont have it\n",
    "%pip install pandas\n",
    "# Conda works too\n",
    "# %conda install pandas"
   ]
  },
  {
   "cell_type": "code",
   "execution_count": null,
   "id": "fd7ae787-0dfc-49f5-ba00-8a76e60877db",
   "metadata": {},
   "outputs": [],
   "source": [
    "import matplotlib.pyplot as plt\n",
    "%matplotlib widget"
   ]
  },
  {
   "cell_type": "code",
   "execution_count": null,
   "id": "e034d8f9-7a8e-4498-a700-6e6ed8b2acf2",
   "metadata": {},
   "outputs": [],
   "source": [
    "import pandas as pd\n",
    "pd.__version__"
   ]
  },
  {
   "cell_type": "markdown",
   "id": "2a1c2a75-00f7-45e4-9cd7-eeeabd849b0d",
   "metadata": {},
   "source": [
    "The primary data structures in *pandas* are implemented as two classes:\n",
    "\n",
    "  * **`DataFrame`**, which you can imagine as a relational data table, with rows and named columns.\n",
    "  * **`Series`**, which is a single column. A `DataFrame` contains one or more `Series` and a name for each `Series`."
   ]
  },
  {
   "cell_type": "markdown",
   "id": "52e5d76f-2e53-4dae-ba19-1fdbcad08911",
   "metadata": {},
   "source": [
    "One way to create a `Series` is to construct a `Series` object. For example:"
   ]
  },
  {
   "cell_type": "code",
   "execution_count": null,
   "id": "e56d5efb-db65-4fc5-b8c9-b67a4f4368aa",
   "metadata": {},
   "outputs": [],
   "source": [
    "pd.Series(['San Francisco', 'San Jose', 'Sacramento'])"
   ]
  },
  {
   "cell_type": "markdown",
   "id": "358765c3-c858-41fe-bbd5-78c702679efd",
   "metadata": {},
   "source": [
    "`DataFrame` objects can be created by passing a `dict` mapping `string` column names to their respective `Series`. If the `Series` don't match in length, missing values are filled with special [NA/NaN](http://pandas.pydata.org/pandas-docs/stable/missing_data.html) values. Example:"
   ]
  },
  {
   "cell_type": "code",
   "execution_count": null,
   "id": "109fe0c5-8abf-4991-b743-1f37c10958d6",
   "metadata": {},
   "outputs": [],
   "source": [
    "city_names = pd.Series(['San Francisco', 'San Jose', 'Sacramento'])\n",
    "population = pd.Series([852469, 1015785, 485199])\n",
    "\n",
    "pd.DataFrame({ 'City name': city_names, 'Population': population })"
   ]
  },
  {
   "cell_type": "markdown",
   "id": "10b3022c-88b5-45ce-9ea6-ceeee973c199",
   "metadata": {},
   "source": [
    "But most of the time, you load an entire file into a `DataFrame`. The following example loads a file with California housing data. Run the following cell to load the data and create feature definitions:"
   ]
  },
  {
   "cell_type": "code",
   "execution_count": null,
   "id": "8d6f097e-dde9-4595-828c-2fabe5b43f7b",
   "metadata": {},
   "outputs": [],
   "source": [
    "california_housing_dataframe = pd.read_csv(\"https://download.mlcc.google.com/mledu-datasets/california_housing_train.csv\", sep=\",\")\n",
    "california_housing_dataframe"
   ]
  },
  {
   "cell_type": "code",
   "execution_count": null,
   "id": "a0690ce7-d5aa-4a78-9629-c4d1dbbce38a",
   "metadata": {},
   "outputs": [],
   "source": [
    "california_housing_dataframe.describe()"
   ]
  },
  {
   "cell_type": "code",
   "execution_count": null,
   "id": "facf4fe6-aa57-46de-b820-afd7c0e4682d",
   "metadata": {},
   "outputs": [],
   "source": [
    "'longitude' in california_housing_dataframe.columns"
   ]
  },
  {
   "cell_type": "code",
   "execution_count": null,
   "id": "0bbc813a-0b16-4e2f-a2b3-1fd48f7a1b2b",
   "metadata": {},
   "outputs": [],
   "source": [
    "california_housing_dataframe.head(10)"
   ]
  },
  {
   "cell_type": "code",
   "execution_count": null,
   "id": "3ede6389-dcac-42c3-83eb-f4be97835817",
   "metadata": {},
   "outputs": [],
   "source": [
    "california_housing_dataframe.tail(10)"
   ]
  },
  {
   "cell_type": "code",
   "execution_count": null,
   "id": "d5e39858-616f-41b6-83aa-a4be91af1d76",
   "metadata": {},
   "outputs": [],
   "source": [
    "california_housing_dataframe.hist('housing_median_age')"
   ]
  },
  {
   "cell_type": "markdown",
   "id": "b994d750",
   "metadata": {},
   "source": [
    "You can also read excel files using read_excel. \n",
    "\n",
    "Note: You need to install ``openpyxl`` for this to work"
   ]
  },
  {
   "cell_type": "code",
   "execution_count": null,
   "id": "3f71a1a5",
   "metadata": {},
   "outputs": [],
   "source": [
    "%pip install openpyxl"
   ]
  },
  {
   "cell_type": "code",
   "execution_count": null,
   "id": "b9e39b1b",
   "metadata": {},
   "outputs": [],
   "source": [
    "\n",
    "df_cuvette = pd.read_excel(\n",
    "    \"../data/Cuvette.xlsx\",\n",
    "    skiprows=2,\n",
    ")\n",
    "\n",
    "df_cuvette"
   ]
  },
  {
   "cell_type": "code",
   "execution_count": null,
   "id": "34457bb3-d0f0-4c84-9b7c-687c6d20280d",
   "metadata": {},
   "outputs": [],
   "source": [
    "pd.read_excel?"
   ]
  },
  {
   "cell_type": "markdown",
   "id": "fd3d7318-bdd9-4860-b794-b7f7777dc4c3",
   "metadata": {},
   "source": [
    "## Accessing Data\n",
    "\n",
    "You can access `DataFrame` data like a dict/list"
   ]
  },
  {
   "cell_type": "code",
   "execution_count": null,
   "id": "c4a9b617-4c15-41e0-96ad-1c20de08d441",
   "metadata": {},
   "outputs": [],
   "source": [
    "cities = pd.DataFrame({ 'City name': city_names, 'Population': population })\n",
    "cities"
   ]
  },
  {
   "cell_type": "code",
   "execution_count": null,
   "id": "2f5ca1f4-d125-4abc-90d1-392ee28a313e",
   "metadata": {},
   "outputs": [],
   "source": [
    "cities['Population']"
   ]
  },
  {
   "cell_type": "code",
   "execution_count": null,
   "id": "1d1a8644-df3a-4422-8ea7-e5097780e71e",
   "metadata": {},
   "outputs": [],
   "source": [
    "cities[1:3]"
   ]
  },
  {
   "cell_type": "code",
   "execution_count": null,
   "id": "4aa6bfba-0699-4d9f-9e80-ce19d1015232",
   "metadata": {},
   "outputs": [],
   "source": [
    "bedrooms = california_housing_dataframe['total_bedrooms']\n",
    "bedrooms"
   ]
  },
  {
   "cell_type": "markdown",
   "id": "dfb9e507-ff0b-4514-85bb-99cbcfeaf60e",
   "metadata": {},
   "source": [
    "## Manipulating Data\n",
    "\n",
    "You may apply Python's basic arithmetic operations to `Series`. For example:"
   ]
  },
  {
   "cell_type": "code",
   "execution_count": null,
   "id": "8d223b1b-9ba7-441e-91e0-6ec61833f621",
   "metadata": {},
   "outputs": [],
   "source": [
    "population / 1000.0"
   ]
  },
  {
   "cell_type": "markdown",
   "id": "25ceb959-0f81-42ea-831c-a59ed21b6112",
   "metadata": {},
   "source": [
    "And many numpy operations also work on it too!"
   ]
  },
  {
   "cell_type": "code",
   "execution_count": null,
   "id": "4535dd76-378e-4e39-acad-0e5131c6d688",
   "metadata": {},
   "outputs": [],
   "source": [
    "import numpy as np\n",
    "np.log10(population)"
   ]
  },
  {
   "cell_type": "code",
   "execution_count": null,
   "id": "a0c37911-55cf-4e25-9815-b926ae427622",
   "metadata": {},
   "outputs": [],
   "source": [
    "np.sum(bedrooms)"
   ]
  },
  {
   "cell_type": "markdown",
   "id": "20972706-75e5-42a6-8c88-0432f699e9b2",
   "metadata": {},
   "source": [
    "We can also apply more complicated operations using the `apply` method by passing in a function!\n",
    "\n",
    "Why not try a lambda function?"
   ]
  },
  {
   "cell_type": "code",
   "execution_count": null,
   "id": "661e8a23-68e4-4d3d-b830-e7b8e1c17fd6",
   "metadata": {},
   "outputs": [],
   "source": [
    "population.apply(lambda x: x > 500_000)"
   ]
  },
  {
   "cell_type": "markdown",
   "id": "4fecb0a8-17be-4d63-8b53-b7d59fc590b6",
   "metadata": {},
   "source": [
    "Modifying `DataFrames` is also straightforward. For example, the following code adds two `Series` to an existing `DataFrame`:"
   ]
  },
  {
   "cell_type": "code",
   "execution_count": null,
   "id": "87985709-bcdb-4f58-aaa8-2bc501e9298c",
   "metadata": {},
   "outputs": [],
   "source": [
    "cities"
   ]
  },
  {
   "cell_type": "code",
   "execution_count": null,
   "id": "9845dd93-ed5c-4b6d-a50b-2bcded7b53e0",
   "metadata": {},
   "outputs": [],
   "source": [
    "cities['Area square miles'] = pd.Series([46.87, 176.53, 97.92])\n",
    "cities['Population density'] = cities['Population'] / cities['Area square miles']\n",
    "cities"
   ]
  },
  {
   "cell_type": "markdown",
   "id": "6a51949f-897e-4a75-a391-4ad06c974da4",
   "metadata": {},
   "source": [
    "## Exercise #1\n",
    "\n",
    "Modify the `cities` table by adding a new boolean column called `Wide and saint` that is True if and only if *both* of the following are True:\n",
    "\n",
    "  * The city is named after a saint.\n",
    "  * The city has an area greater than 50 square miles.\n",
    "\n",
    "**Note:** The filtering rules previously discussed in the numpy notebook may be useful.\n",
    "\n",
    "**Note:** strings have a function called `startswith`\n",
    "\n",
    "**Hint:** \"San\" in Spanish means \"saint.\""
   ]
  },
  {
   "cell_type": "code",
   "execution_count": null,
   "id": "5b7d2d74-2345-4d17-a88d-25f1d8326817",
   "metadata": {},
   "outputs": [],
   "source": [
    "saint_cities = cities['City name'].apply(lambda x: 'San' in x)\n",
    "square_miles_fifty = cities['Area square miles'] > 50.0\n",
    "cities['Wide and saint'] = square_miles_fifty & saint_cities\n",
    "cities"
   ]
  },
  {
   "cell_type": "code",
   "execution_count": null,
   "id": "0016944c-e833-41e1-9fbd-fc1abfe39b7c",
   "metadata": {},
   "outputs": [],
   "source": [
    "if any((cities['Area square miles'] > 50.0) & (cities['City name'].apply(lambda x: 'San' in x))):\n",
    "    print('Yay')"
   ]
  },
  {
   "cell_type": "code",
   "execution_count": null,
   "id": "cd4c2179-f3d4-4228-a7b9-5522e873dfbc",
   "metadata": {},
   "outputs": [],
   "source": [
    "bedrooms.values"
   ]
  },
  {
   "cell_type": "code",
   "execution_count": null,
   "id": "9e89de74-a1f8-44ac-880e-f5baac22a590",
   "metadata": {},
   "outputs": [],
   "source": [
    "plt.figure()\n",
    "plt.plot(bedrooms)\n",
    "plt.show()"
   ]
  },
  {
   "cell_type": "markdown",
   "id": "27585a7e-232b-4022-9f9c-6c971e336a00",
   "metadata": {},
   "source": [
    "## Sorting and indexing\n",
    "\n",
    "We can sort our california dataframe using `sort_values`"
   ]
  },
  {
   "cell_type": "code",
   "execution_count": null,
   "id": "e3a0f228-4c6a-465a-ba99-7e8dba297a0c",
   "metadata": {},
   "outputs": [],
   "source": [
    "new_df = california_housing_dataframe.sort_values('median_house_value',inplace=False, ascending=True, ignore_index=True)\n",
    "new_df"
   ]
  },
  {
   "cell_type": "code",
   "execution_count": null,
   "id": "689a3e8e-2a14-4a33-8d96-3051e75efc5c",
   "metadata": {},
   "outputs": [],
   "source": [
    "california_housing_dataframe.sort_values?"
   ]
  },
  {
   "cell_type": "markdown",
   "id": "e12d7aa9-ccab-4664-802d-c5b940bf219e",
   "metadata": {},
   "source": [
    "#### Difference between loc and iloc\n",
    "\n",
    "- `.loc` selection is based on the value of the index. For example if the index was categorical we could index via some category. \n",
    "- `.iloc` selection is **always** based on integer positions. When using iloc we are treating the dataframe as 2d-array with no special structure compared to the case of `.loc`"
   ]
  },
  {
   "cell_type": "code",
   "execution_count": null,
   "id": "21e0f5e4-0f79-4a2a-afba-63e9831fdf55",
   "metadata": {},
   "outputs": [],
   "source": [
    "california_housing_dataframe.iloc[0]"
   ]
  },
  {
   "cell_type": "code",
   "execution_count": null,
   "id": "e5af3967-fc9d-423a-960b-a8a108a1723e",
   "metadata": {},
   "outputs": [],
   "source": [
    "california_housing_dataframe.loc[568]"
   ]
  },
  {
   "cell_type": "code",
   "execution_count": null,
   "id": "4bbbe890-8d13-45ac-b977-30c7fc293608",
   "metadata": {},
   "outputs": [],
   "source": [
    "cities.loc[0]"
   ]
  },
  {
   "cell_type": "markdown",
   "id": "0b5336af-6fbc-4498-b026-6b21383af68d",
   "metadata": {},
   "source": [
    "Slicing is valid with `iloc`"
   ]
  },
  {
   "cell_type": "code",
   "execution_count": null,
   "id": "1acfced1-dbb4-4135-b874-632b46d2fd43",
   "metadata": {},
   "outputs": [],
   "source": [
    "california_housing_dataframe.iloc[:-50:-1]"
   ]
  },
  {
   "cell_type": "code",
   "execution_count": null,
   "id": "56626271-108b-4b3d-bc53-139ef9ce4f3b",
   "metadata": {},
   "outputs": [],
   "source": [
    "#Code here"
   ]
  },
  {
   "cell_type": "markdown",
   "id": "3e095586-bca4-45af-8d30-fc2b2ba0e862",
   "metadata": {},
   "source": [
    "Lets load a different dataset now:"
   ]
  },
  {
   "cell_type": "code",
   "execution_count": null,
   "id": "3309553b-fb68-4745-9a58-085325deb514",
   "metadata": {},
   "outputs": [],
   "source": [
    "titanic = pd.read_csv('../data/titanic.csv')\n",
    "titanic"
   ]
  },
  {
   "cell_type": "markdown",
   "id": "160e6752-fc92-41d4-b668-7628549d1eb2",
   "metadata": {},
   "source": [
    "### Filtering Dataframes\n",
    "\n",
    "You can filter data based on the columns and values in the dataframe exactly like numpy:"
   ]
  },
  {
   "cell_type": "code",
   "execution_count": null,
   "id": "e23d1124-8392-4056-8f16-1fa18565677d",
   "metadata": {},
   "outputs": [],
   "source": [
    "titanic[titanic.Sex == 'male']"
   ]
  },
  {
   "cell_type": "markdown",
   "id": "5e535315-49c4-4461-99df-be319593f19a",
   "metadata": {},
   "source": [
    "You can also filter for a specific `Series` as well"
   ]
  },
  {
   "cell_type": "code",
   "execution_count": null,
   "id": "0deed119-5ddc-48e3-bffd-e77e751c89b4",
   "metadata": {},
   "outputs": [],
   "source": [
    "titanic.Age[titanic.Sex=='male']"
   ]
  },
  {
   "cell_type": "markdown",
   "id": "346599a6-964d-4554-957b-850a1cfc48ea",
   "metadata": {},
   "source": [
    "Exactly like numpy you can apply the same filtering rules using the same operators (`&`, `|`, `^`, `~`)"
   ]
  },
  {
   "cell_type": "code",
   "execution_count": null,
   "id": "f51f53c2-363c-4ad8-97ce-6f940e7ec2a3",
   "metadata": {},
   "outputs": [],
   "source": [
    "titanic.Survived[ (titanic.Sex=='male') & (titanic.Age>=18) ].mean()"
   ]
  },
  {
   "cell_type": "code",
   "execution_count": null,
   "id": "c394e7ee-0bf7-4be2-9dbc-1d1305a03bcb",
   "metadata": {},
   "outputs": [],
   "source": [
    "titanic.Survived[(titanic.Sex=='female')&(titanic.Age>=18)].mean()"
   ]
  },
  {
   "cell_type": "code",
   "execution_count": null,
   "id": "952653cd-e67f-4436-acf1-e57270b1fe0d",
   "metadata": {},
   "outputs": [],
   "source": [
    "titanic.Survived[titanic.Pclass == 1].mean()"
   ]
  },
  {
   "cell_type": "markdown",
   "id": "2769ca7f-8591-4c90-b2d6-08512a85e279",
   "metadata": {},
   "source": [
    "## Groupby"
   ]
  },
  {
   "cell_type": "markdown",
   "id": "6dc32524-ff95-44cd-a613-f26dbb231b7a",
   "metadata": {},
   "source": [
    "Groupby allows you to collect the same classes together within a column for example. To perform what we did on all classes of sex as before we can istead do:"
   ]
  },
  {
   "cell_type": "code",
   "execution_count": null,
   "id": "cc76d08e-fab7-4e53-89e1-2d20c677869d",
   "metadata": {},
   "outputs": [],
   "source": [
    "titanic.groupby('Sex')['Survived'].mean()"
   ]
  },
  {
   "cell_type": "code",
   "execution_count": null,
   "id": "13d77010-34a7-4bf7-8ea8-0975ac0e1b27",
   "metadata": {},
   "outputs": [],
   "source": [
    "titanic.groupby('Embarked')['Survived'].mean()"
   ]
  },
  {
   "cell_type": "markdown",
   "id": "8b856611-47b3-47fc-a6a0-c92a82f78ee3",
   "metadata": {},
   "source": [
    "You can even group by multiple classes"
   ]
  },
  {
   "cell_type": "code",
   "execution_count": null,
   "id": "2e842793-a072-46e8-91b5-59d0ac3e5860",
   "metadata": {},
   "outputs": [],
   "source": [
    "titanic.groupby(['Pclass', 'Sex'])['Survived'].mean()"
   ]
  },
  {
   "cell_type": "code",
   "execution_count": null,
   "id": "c9d24587-5791-4087-a4c3-153fa08bf9a1",
   "metadata": {},
   "outputs": [],
   "source": [
    "titanic[titanic.Age < 18].groupby('Sex')['Survived'].mean()"
   ]
  },
  {
   "cell_type": "markdown",
   "id": "c8ceed01-3f0a-4d73-a50b-f0457a0f5371",
   "metadata": {},
   "source": [
    "And if we add another column we can create an entirely new dataframe:"
   ]
  },
  {
   "cell_type": "code",
   "execution_count": null,
   "id": "5fc1c347-3e49-4226-81df-865f1f08a2a3",
   "metadata": {},
   "outputs": [],
   "source": [
    "new = titanic.groupby(['Sex','Pclass'])[['Survived','Age']].mean()\n",
    "new"
   ]
  },
  {
   "cell_type": "markdown",
   "id": "2edf7704-73fc-444c-8e5f-26da86b7e45b",
   "metadata": {},
   "source": [
    "## Exercises"
   ]
  },
  {
   "cell_type": "markdown",
   "id": "559a889d-737f-4c71-ab2d-4ae351afeadd",
   "metadata": {},
   "source": [
    "#### What was the average age of the survivors?"
   ]
  },
  {
   "cell_type": "code",
   "execution_count": null,
   "id": "f0f79fe3-bc03-49b3-bbc5-283a634e739a",
   "metadata": {},
   "outputs": [],
   "source": [
    "titanic.Age[titanic.Survived == 1].mean()"
   ]
  },
  {
   "cell_type": "markdown",
   "id": "766cbe90-87c3-4262-83a5-0b4c2f64b3e5",
   "metadata": {},
   "source": [
    "#### What was the combined survival rate of both children (age less than 18) and seniors (age greater than 60)?"
   ]
  },
  {
   "cell_type": "code",
   "execution_count": null,
   "id": "0bdc46bc-c139-4b80-b4a3-9b6f97b9ec8a",
   "metadata": {},
   "outputs": [],
   "source": [
    "# Child rate here\n",
    "children_rate = titanic.Survived[(titanic.Age < 18)].mean()\n",
    "children_rate"
   ]
  },
  {
   "cell_type": "code",
   "execution_count": null,
   "id": "69792a94-09e0-4f81-95c3-75c386b4e1b3",
   "metadata": {},
   "outputs": [],
   "source": [
    "# Senior rate here\n",
    "senior_rate = titanic.Survived[(titanic.Age > 60)].mean()\n",
    "senior_rate"
   ]
  },
  {
   "cell_type": "code",
   "execution_count": null,
   "id": "eb0c207d-85a6-46ae-9f42-daea1a40b848",
   "metadata": {},
   "outputs": [],
   "source": [
    "# Combined rate here\n",
    "print(f'{children_rate + senior_rate:.2%}')"
   ]
  },
  {
   "cell_type": "markdown",
   "id": "f5cc9d9b-ee45-4ae8-b9bd-5e132218ed3b",
   "metadata": {},
   "source": [
    "#### Group by pClass and investigate average survival rate, age and fare\n"
   ]
  },
  {
   "cell_type": "code",
   "execution_count": null,
   "id": "9d2f28c9-9f6c-4aaa-80fd-d90f07c112f2",
   "metadata": {},
   "outputs": [],
   "source": [
    "titanic.groupby('Pclass')[['Survived', 'Age', 'Fare']].mean()"
   ]
  },
  {
   "cell_type": "code",
   "execution_count": null,
   "id": "f89a531a-7978-4554-84e9-83632fdd3d49",
   "metadata": {},
   "outputs": [],
   "source": []
  },
  {
   "cell_type": "code",
   "execution_count": null,
   "id": "dd7cca4d-4af6-48c7-a17b-832b462cc5c7",
   "metadata": {},
   "outputs": [],
   "source": []
  }
 ],
 "metadata": {
  "kernelspec": {
   "display_name": "Python 3 (ipykernel)",
   "language": "python",
   "name": "python3"
  },
  "language_info": {
   "codemirror_mode": {
    "name": "ipython",
    "version": 3
   },
   "file_extension": ".py",
   "mimetype": "text/x-python",
   "name": "python",
   "nbconvert_exporter": "python",
   "pygments_lexer": "ipython3",
   "version": "3.10.0"
  }
 },
 "nbformat": 4,
 "nbformat_minor": 5
}
