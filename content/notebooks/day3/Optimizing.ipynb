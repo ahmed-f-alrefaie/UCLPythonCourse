{
 "cells": [
  {
   "cell_type": "markdown",
   "id": "69e39312-da48-4953-b73a-49a6e85db6e9",
   "metadata": {},
   "source": [
    "# Optimizing your code"
   ]
  },
  {
   "cell_type": "code",
   "execution_count": 1,
   "id": "412a0416-55c3-4cc8-a147-de1e244225e3",
   "metadata": {},
   "outputs": [],
   "source": [
    "import numpy as np\n",
    "import matplotlib.pyplot as plt\n",
    "%matplotlib widget"
   ]
  },
  {
   "cell_type": "markdown",
   "id": "a3d08e2a-a729-4332-82f9-2ab7d2fa01bf",
   "metadata": {},
   "source": [
    "For mac:\n",
    "    \n",
    "    > brew install gcc\n",
    "    > brew install gfortran\n",
    "    \n",
    "    > gcc\n",
    "    > gfortran\n",
    "\n",
    "For Debian:\n",
    "    \n",
    "    > sudo apt install build-essential\n",
    "    > gcc\n",
    "    > gfortran"
   ]
  },
  {
   "cell_type": "code",
   "execution_count": 2,
   "id": "524210a2-3867-49c1-bd66-0128f03d04c1",
   "metadata": {},
   "outputs": [
    {
     "name": "stdout",
     "output_type": "stream",
     "text": [
      "Collecting package metadata (current_repodata.json): failed\n",
      "\n",
      "UnavailableInvalidChannel: The channel is not accessible or is invalid.\n",
      "  channel name: intel\n",
      "  channel url: https://conda.anaconda.org/intel\n",
      "  error code: 403\n",
      "\n",
      "You will need to adjust your conda configuration to proceed.\n",
      "Use `conda config --show channels` to view your configuration's current state,\n",
      "and use `conda config --show-sources` to view config file locations.\n",
      "\n",
      "\n",
      "\n",
      "Note: you may need to restart the kernel to use updated packages.\n"
     ]
    }
   ],
   "source": [
    "%conda install numba numexpr cython\n",
    "# pip version\n",
    "#%pip install numba numexpr cython"
   ]
  },
  {
   "cell_type": "markdown",
   "id": "2146de77-8727-4f9b-b220-0e5325202222",
   "metadata": {},
   "source": [
    "When your math works, the next step is often to try and make the code faster.\n",
    "Optimizing is very delicate work as oftentimes we immediately go for more aggressive options. \n",
    "As a rule of thumb takes these steps towards optimisation:\n",
    "   \n",
    "   1. See if its been done already\n",
    "   2. Code the math\n",
    "   3. Simplify\n",
    "   4. Algorithmic improvement\n",
    "   5. Use libraries like `numexpr` and `numba`\n",
    "   6. Parallelize\n",
    "   7. Rewrite in C++/FORTRAN"
   ]
  },
  {
   "cell_type": "markdown",
   "id": "172bd854-1155-46b1-be05-f5dee6b5ac7c",
   "metadata": {},
   "source": [
    "## Quick optimization (Caching)"
   ]
  },
  {
   "cell_type": "markdown",
   "id": "659e5a29-75ac-4e85-9ca4-0685694608a0",
   "metadata": {},
   "source": [
    "Caching function results is often a quick and easy way to get some performance out of your code. This is best used on functions with a limited range of arguments. Python provides the `lru_cache` decorator from the `functools` package"
   ]
  },
  {
   "cell_type": "code",
   "execution_count": 2,
   "id": "fa6ebf5a-1d10-4230-932d-25068dce3519",
   "metadata": {},
   "outputs": [],
   "source": [
    "def compute_a_slow_result(x):\n",
    "    import time\n",
    "    \n",
    "    time.sleep(0.1)\n",
    "    return x*2\n",
    "\n"
   ]
  },
  {
   "cell_type": "code",
   "execution_count": 3,
   "id": "e40c2012-46d0-4c8c-af94-31ab3abd3401",
   "metadata": {},
   "outputs": [
    {
     "name": "stdout",
     "output_type": "stream",
     "text": [
      "102 ms ± 601 μs per loop (mean ± std. dev. of 7 runs, 10 loops each)\n"
     ]
    }
   ],
   "source": [
    "%timeit compute_a_slow_result(10)"
   ]
  },
  {
   "cell_type": "markdown",
   "id": "6ce732cd-9384-4542-b1bf-1edc51fbe2d8",
   "metadata": {},
   "source": [
    "Lets now decorate our function with `lru_cache`"
   ]
  },
  {
   "cell_type": "code",
   "execution_count": 4,
   "id": "b6136763-31f1-4623-9c98-6d96c10cfa80",
   "metadata": {},
   "outputs": [],
   "source": [
    "from functools import lru_cache\n",
    "\n",
    "@lru_cache(maxsize=-1)\n",
    "def compute_a_slow_result_cache(x):\n",
    "    import time\n",
    "    \n",
    "    time.sleep(0.1)\n",
    "    return x*2\n",
    "\n"
   ]
  },
  {
   "cell_type": "code",
   "execution_count": null,
   "id": "85fe5c2f-d023-409c-8844-03d80fcd933c",
   "metadata": {},
   "outputs": [],
   "source": []
  },
  {
   "cell_type": "code",
   "execution_count": 5,
   "id": "97a59ffd-a172-400d-b7da-7a72133e76da",
   "metadata": {},
   "outputs": [
    {
     "data": {
      "text/plain": [
       "20"
      ]
     },
     "execution_count": 5,
     "metadata": {},
     "output_type": "execute_result"
    }
   ],
   "source": [
    "compute_a_slow_result_cache(10)"
   ]
  },
  {
   "cell_type": "code",
   "execution_count": 6,
   "id": "fc52b146-4960-455d-850a-b8a44d236c5e",
   "metadata": {},
   "outputs": [
    {
     "name": "stdout",
     "output_type": "stream",
     "text": [
      "72.3 ns ± 1.93 ns per loop (mean ± std. dev. of 7 runs, 10,000,000 loops each)\n"
     ]
    }
   ],
   "source": [
    "%timeit compute_a_slow_result_cache(10)"
   ]
  },
  {
   "cell_type": "markdown",
   "id": "aac5e239-38d9-4c0f-8ff8-0336f2cf1b4d",
   "metadata": {},
   "source": [
    "In the background `lru_cache` is storing a list of function arguments and return values, when a function with an argument is run for the first time it is run normally and then its return stored. The next time the same arguments are used this will instead simply return the store value! the `maxsize=4` tells `lru_cache` to cache a maximum of 4 function calls.\n",
    "\n",
    "Our function can be broken if we use a random value each time:"
   ]
  },
  {
   "cell_type": "code",
   "execution_count": 9,
   "id": "0ef8bd79-96d3-4909-a677-c3331d5c5461",
   "metadata": {},
   "outputs": [
    {
     "name": "stdout",
     "output_type": "stream",
     "text": [
      "102 ms ± 380 μs per loop (mean ± std. dev. of 7 runs, 10 loops each)\n"
     ]
    }
   ],
   "source": [
    "import random\n",
    "%timeit compute_a_slow_result_cache(random.randint(1,100_000))"
   ]
  },
  {
   "cell_type": "markdown",
   "id": "270904bf-5723-495d-9337-55a0621dc87f",
   "metadata": {
    "tags": []
   },
   "source": [
    "# Test Problem"
   ]
  },
  {
   "cell_type": "markdown",
   "id": "1e240227-b2ab-4dd1-8260-62c0ee2814a6",
   "metadata": {},
   "source": [
    "Lets write our own linterpolation algorithm. Whilst numpy and scipy have their own interpolation. Ours will be slightly different."
   ]
  },
  {
   "cell_type": "markdown",
   "id": "f504e039-91ad-473c-92a0-7ae607529385",
   "metadata": {},
   "source": [
    "Mathematically the formula looks like this:\n",
    "\n",
    "$$\n",
    "y = \\frac{e^{y_0^{2}}(x_1 - x)+y_1(x - x_0)}{x_1 - x_0}\n",
    "$$\n",
    "\n",
    "this has no physics behind it other than taking the linear interpolation algorithm and adding a square exp function."
   ]
  },
  {
   "cell_type": "markdown",
   "id": "d6826e71-143e-4441-9c2c-2ceef07c4b5a",
   "metadata": {},
   "source": [
    "Lets implement and test this function"
   ]
  },
  {
   "cell_type": "code",
   "execution_count": 10,
   "id": "e96da9c9-5acd-4d41-bc1f-5ab9a9accbf0",
   "metadata": {},
   "outputs": [],
   "source": [
    "def linear_interpolate(y0, y1, x0, x1, x):\n",
    "    \n",
    "    return (np.exp(y0**2) * (x1 - x) + y1 * (x - x0))  / (x1 - x0)"
   ]
  },
  {
   "cell_type": "code",
   "execution_count": 11,
   "id": "a4a4df3d-7bc2-4603-b844-6aa0a9470fa6",
   "metadata": {},
   "outputs": [
    {
     "name": "stdout",
     "output_type": "stream",
     "text": [
      "1.1 s ± 17.4 ms per loop (mean ± std. dev. of 7 runs, 1 loop each)\n"
     ]
    }
   ],
   "source": [
    "n = 50_000_000\n",
    "y0 = np.random.rand(n)\n",
    "y1 = np.random.rand(n)\n",
    "%timeit linear_interpolate(y0, y1, 2, 3, 2.5)"
   ]
  },
  {
   "cell_type": "markdown",
   "id": "a6b7a3cd-55aa-4980-857e-0eda0626c4a7",
   "metadata": {},
   "source": [
    "## Numexpr"
   ]
  },
  {
   "cell_type": "markdown",
   "id": "39f27d30-7b86-4149-8e1d-1a24bf31d468",
   "metadata": {},
   "source": [
    "With numpy we get pretty decent performance. However we can push this a bit further with minimal effort by using the `numexpr` package.\n",
    "\n",
    "Numexpr can take advantage of threading and inbuilt libraries to get faster performance. It works by compiling a computational string that represent the computation and figuring out how best to split the computation up."
   ]
  },
  {
   "cell_type": "code",
   "execution_count": 12,
   "id": "a95ebf95-9f3c-4bca-840b-f2933fd6d67a",
   "metadata": {},
   "outputs": [],
   "source": [
    "def linear_interpolate_numexpr(y0, y1, x0, x1, x):\n",
    "    import numexpr as ne\n",
    "    \n",
    "    return ne.evaluate('(exp(y0**2) * (x1 - x) + y1 * (x - x0))  / (x1 - x0)')"
   ]
  },
  {
   "cell_type": "code",
   "execution_count": 13,
   "id": "77229c08-5230-43e7-a4a4-eedcf3a804cb",
   "metadata": {},
   "outputs": [
    {
     "name": "stdout",
     "output_type": "stream",
     "text": [
      "228 ms ± 22 ms per loop (mean ± std. dev. of 7 runs, 1 loop each)\n"
     ]
    }
   ],
   "source": [
    "%timeit linear_interpolate_numexpr(y0, y1, 2, 3, 2.5)"
   ]
  },
  {
   "cell_type": "markdown",
   "id": "9e3e6795-24fb-4862-8a77-94528d691bc0",
   "metadata": {},
   "source": [
    "## FORTRAN\n",
    "\n",
    "The classic programming language. `numpy` actually has the `f2py` module specifically to allow FORTRAN code to be included in Python! We can run it from the command line like this:\n",
    "    \n",
    "    python -m numpy.f2py --quiet -c src/interp.f90 -m vect\n",
    "\n",
    "Where it will create a new python module stated by the last `-m` argument. Lets see it in action!"
   ]
  },
  {
   "cell_type": "code",
   "execution_count": 12,
   "id": "e87813be-e6cb-4b74-960c-71a5b8c42bf2",
   "metadata": {},
   "outputs": [
    {
     "name": "stdout",
     "output_type": "stream",
     "text": [
      "Optimizing.ipynb Parallel.ipynb   SymPy.ipynb\n"
     ]
    }
   ],
   "source": [
    "!ls"
   ]
  },
  {
   "cell_type": "code",
   "execution_count": 14,
   "id": "be8e7a47-6dc9-4303-81d7-0723b86f304e",
   "metadata": {},
   "outputs": [
    {
     "data": {
      "text/plain": [
       "{'/Users/ahmed/venv/bin/python'}"
      ]
     },
     "execution_count": 14,
     "metadata": {},
     "output_type": "execute_result"
    }
   ],
   "source": [
    "import sys\n",
    "{sys.executable}"
   ]
  },
  {
   "cell_type": "code",
   "execution_count": 15,
   "id": "6da5a9a2-5181-45cd-b691-e911031eb659",
   "metadata": {},
   "outputs": [
    {
     "name": "stdout",
     "output_type": "stream",
     "text": [
      "/Users/ahmed/venv/lib/python3.10/site-packages/numpy/f2py/f2py2e.py:718: VisibleDeprecationWarning: \n",
      "distutils has been deprecated since NumPy 1.26.x\n",
      "Use the Meson backend instead, or generate wrappers without -c and use a custom build script\n",
      "  builder = build_backend(\n",
      "{}\n",
      "Removing build directory /var/folders/cr/hx9slfzd61xdy7vghl6l64k80000gn/T/tmpkq0n0b4s\n"
     ]
    }
   ],
   "source": [
    "import sys\n",
    "!{sys.executable} -m numpy.f2py --quiet -c ../src/interp.f90 -m vect  --fcompiler=gnu95 --f90flags=\"-O3 -march=native\""
   ]
  },
  {
   "cell_type": "code",
   "execution_count": 16,
   "id": "7b4120fb-f532-4f7a-8f43-f10d601f73b1",
   "metadata": {},
   "outputs": [
    {
     "data": {
      "text/plain": [
       "\u001b[0;31mCall signature:\u001b[0m \u001b[0mvect\u001b[0m\u001b[0;34m.\u001b[0m\u001b[0mfort_linear\u001b[0m\u001b[0;34m(\u001b[0m\u001b[0;34m*\u001b[0m\u001b[0margs\u001b[0m\u001b[0;34m,\u001b[0m \u001b[0;34m**\u001b[0m\u001b[0mkwargs\u001b[0m\u001b[0;34m)\u001b[0m\u001b[0;34m\u001b[0m\u001b[0;34m\u001b[0m\u001b[0m\n",
       "\u001b[0;31mType:\u001b[0m           fortran\n",
       "\u001b[0;31mString form:\u001b[0m    <fortran function fort_linear>\n",
       "\u001b[0;31mDocstring:\u001b[0m     \n",
       "c = fort_linear(y0,y1,x0,x1,x,[n])\n",
       "\n",
       "Wrapper for ``fort_linear``.\n",
       "\n",
       "Parameters\n",
       "----------\n",
       "y0 : input rank-1 array('d') with bounds (n)\n",
       "y1 : input rank-1 array('d') with bounds (n)\n",
       "x0 : input float\n",
       "x1 : input float\n",
       "x : input float\n",
       "\n",
       "Other Parameters\n",
       "----------------\n",
       "n : input int, optional\n",
       "    Default: shape(y0, 0)\n",
       "\n",
       "Returns\n",
       "-------\n",
       "c : rank-1 array('d') with bounds (n)"
      ]
     },
     "metadata": {},
     "output_type": "display_data"
    }
   ],
   "source": [
    "import vect\n",
    "vect.fort_linear?"
   ]
  },
  {
   "cell_type": "code",
   "execution_count": 17,
   "id": "84ae31fa-5d98-4f87-a8cf-d38693600d5d",
   "metadata": {},
   "outputs": [
    {
     "data": {
      "text/plain": [
       "array([1.12915853, 0.76681518, 0.83544791, ..., 0.83274967, 1.04797274,\n",
       "       1.10821748])"
      ]
     },
     "execution_count": 17,
     "metadata": {},
     "output_type": "execute_result"
    }
   ],
   "source": [
    "vect.fort_linear(y0, y1, 2, 3, 2.5)"
   ]
  },
  {
   "cell_type": "code",
   "execution_count": 18,
   "id": "6f987a7f-8231-465a-8d50-203c48ec137b",
   "metadata": {},
   "outputs": [
    {
     "name": "stdout",
     "output_type": "stream",
     "text": [
      "540 ms ± 16.2 ms per loop (mean ± std. dev. of 7 runs, 1 loop each)\n"
     ]
    }
   ],
   "source": [
    "%timeit vect.fort_linear(y0, y1, 2, 3, 2.5)"
   ]
  },
  {
   "cell_type": "markdown",
   "id": "88ae8769-35d7-42b7-851e-18651a1b9f27",
   "metadata": {},
   "source": [
    "## Cython"
   ]
  },
  {
   "cell_type": "code",
   "execution_count": 19,
   "id": "3ca18980-94b1-4015-9d94-650292c5c0a9",
   "metadata": {},
   "outputs": [],
   "source": [
    "%load_ext cython"
   ]
  },
  {
   "cell_type": "code",
   "execution_count": 22,
   "id": "2e741781-5e23-4661-807a-b8c76bf4bc29",
   "metadata": {},
   "outputs": [
    {
     "name": "stdout",
     "output_type": "stream",
     "text": [
      "Content of stderr:\n",
      "In file included from /Users/ahmed/.cache/ipython/cython/_cython_magic_d06752518f026245949d52d390afa057806ccf52.c:1250:\n",
      "In file included from /Users/ahmed/venv/lib/python3.10/site-packages/numpy/_core/include/numpy/arrayobject.h:5:\n",
      "In file included from /Users/ahmed/venv/lib/python3.10/site-packages/numpy/_core/include/numpy/ndarrayobject.h:12:\n",
      "In file included from /Users/ahmed/venv/lib/python3.10/site-packages/numpy/_core/include/numpy/ndarraytypes.h:1909:\n",
      "/Users/ahmed/venv/lib/python3.10/site-packages/numpy/_core/include/numpy/npy_1_7_deprecated_api.h:17:2: warning: \"Using deprecated NumPy API, disable it with \"          \"#define NPY_NO_DEPRECATED_API NPY_1_7_API_VERSION\" [-W#warnings]\n",
      "#warning \"Using deprecated NumPy API, disable it with \" \\\n",
      " ^\n",
      "/Users/ahmed/.cache/ipython/cython/_cython_magic_d06752518f026245949d52d390afa057806ccf52.c:24463:26: warning: code will never be executed [-Wunreachable-code]\n",
      "                module = PyImport_ImportModuleLevelObject(\n",
      "                         ^~~~~~~~~~~~~~~~~~~~~~~~~~~~~~~~\n",
      "2 warnings generated.\n",
      "ld: warning: -undefined dynamic_lookup may not work with chained fixups"
     ]
    },
    {
     "data": {
      "text/html": [
       "<!DOCTYPE html>\n",
       "<!-- Generated by Cython 3.0.10 -->\n",
       "<html>\n",
       "<head>\n",
       "    <meta http-equiv=\"Content-Type\" content=\"text/html; charset=utf-8\" />\n",
       "    <title>Cython: _cython_magic_d06752518f026245949d52d390afa057806ccf52.pyx</title>\n",
       "    <style type=\"text/css\">\n",
       "    \n",
       "body.cython { font-family: courier; font-size: 12; }\n",
       "\n",
       ".cython.tag  {  }\n",
       ".cython.line { color: #000000; margin: 0em }\n",
       ".cython.code { font-size: 9; color: #444444; display: none; margin: 0px 0px 0px 8px; border-left: 8px none; }\n",
       "\n",
       ".cython.line .run { background-color: #B0FFB0; }\n",
       ".cython.line .mis { background-color: #FFB0B0; }\n",
       ".cython.code.run  { border-left: 8px solid #B0FFB0; }\n",
       ".cython.code.mis  { border-left: 8px solid #FFB0B0; }\n",
       "\n",
       ".cython.code .py_c_api  { color: red; }\n",
       ".cython.code .py_macro_api  { color: #FF7000; }\n",
       ".cython.code .pyx_c_api  { color: #FF3000; }\n",
       ".cython.code .pyx_macro_api  { color: #FF7000; }\n",
       ".cython.code .refnanny  { color: #FFA000; }\n",
       ".cython.code .trace  { color: #FFA000; }\n",
       ".cython.code .error_goto  { color: #FFA000; }\n",
       "\n",
       ".cython.code .coerce  { color: #008000; border: 1px dotted #008000 }\n",
       ".cython.code .py_attr { color: #FF0000; font-weight: bold; }\n",
       ".cython.code .c_attr  { color: #0000FF; }\n",
       ".cython.code .py_call { color: #FF0000; font-weight: bold; }\n",
       ".cython.code .c_call  { color: #0000FF; }\n",
       "\n",
       ".cython.score-0 {background-color: #FFFFff;}\n",
       ".cython.score-1 {background-color: #FFFFe7;}\n",
       ".cython.score-2 {background-color: #FFFFd4;}\n",
       ".cython.score-3 {background-color: #FFFFc4;}\n",
       ".cython.score-4 {background-color: #FFFFb6;}\n",
       ".cython.score-5 {background-color: #FFFFaa;}\n",
       ".cython.score-6 {background-color: #FFFF9f;}\n",
       ".cython.score-7 {background-color: #FFFF96;}\n",
       ".cython.score-8 {background-color: #FFFF8d;}\n",
       ".cython.score-9 {background-color: #FFFF86;}\n",
       ".cython.score-10 {background-color: #FFFF7f;}\n",
       ".cython.score-11 {background-color: #FFFF79;}\n",
       ".cython.score-12 {background-color: #FFFF73;}\n",
       ".cython.score-13 {background-color: #FFFF6e;}\n",
       ".cython.score-14 {background-color: #FFFF6a;}\n",
       ".cython.score-15 {background-color: #FFFF66;}\n",
       ".cython.score-16 {background-color: #FFFF62;}\n",
       ".cython.score-17 {background-color: #FFFF5e;}\n",
       ".cython.score-18 {background-color: #FFFF5b;}\n",
       ".cython.score-19 {background-color: #FFFF57;}\n",
       ".cython.score-20 {background-color: #FFFF55;}\n",
       ".cython.score-21 {background-color: #FFFF52;}\n",
       ".cython.score-22 {background-color: #FFFF4f;}\n",
       ".cython.score-23 {background-color: #FFFF4d;}\n",
       ".cython.score-24 {background-color: #FFFF4b;}\n",
       ".cython.score-25 {background-color: #FFFF48;}\n",
       ".cython.score-26 {background-color: #FFFF46;}\n",
       ".cython.score-27 {background-color: #FFFF44;}\n",
       ".cython.score-28 {background-color: #FFFF43;}\n",
       ".cython.score-29 {background-color: #FFFF41;}\n",
       ".cython.score-30 {background-color: #FFFF3f;}\n",
       ".cython.score-31 {background-color: #FFFF3e;}\n",
       ".cython.score-32 {background-color: #FFFF3c;}\n",
       ".cython.score-33 {background-color: #FFFF3b;}\n",
       ".cython.score-34 {background-color: #FFFF39;}\n",
       ".cython.score-35 {background-color: #FFFF38;}\n",
       ".cython.score-36 {background-color: #FFFF37;}\n",
       ".cython.score-37 {background-color: #FFFF36;}\n",
       ".cython.score-38 {background-color: #FFFF35;}\n",
       ".cython.score-39 {background-color: #FFFF34;}\n",
       ".cython.score-40 {background-color: #FFFF33;}\n",
       ".cython.score-41 {background-color: #FFFF32;}\n",
       ".cython.score-42 {background-color: #FFFF31;}\n",
       ".cython.score-43 {background-color: #FFFF30;}\n",
       ".cython.score-44 {background-color: #FFFF2f;}\n",
       ".cython.score-45 {background-color: #FFFF2e;}\n",
       ".cython.score-46 {background-color: #FFFF2d;}\n",
       ".cython.score-47 {background-color: #FFFF2c;}\n",
       ".cython.score-48 {background-color: #FFFF2b;}\n",
       ".cython.score-49 {background-color: #FFFF2b;}\n",
       ".cython.score-50 {background-color: #FFFF2a;}\n",
       ".cython.score-51 {background-color: #FFFF29;}\n",
       ".cython.score-52 {background-color: #FFFF29;}\n",
       ".cython.score-53 {background-color: #FFFF28;}\n",
       ".cython.score-54 {background-color: #FFFF27;}\n",
       ".cython.score-55 {background-color: #FFFF27;}\n",
       ".cython.score-56 {background-color: #FFFF26;}\n",
       ".cython.score-57 {background-color: #FFFF26;}\n",
       ".cython.score-58 {background-color: #FFFF25;}\n",
       ".cython.score-59 {background-color: #FFFF24;}\n",
       ".cython.score-60 {background-color: #FFFF24;}\n",
       ".cython.score-61 {background-color: #FFFF23;}\n",
       ".cython.score-62 {background-color: #FFFF23;}\n",
       ".cython.score-63 {background-color: #FFFF22;}\n",
       ".cython.score-64 {background-color: #FFFF22;}\n",
       ".cython.score-65 {background-color: #FFFF22;}\n",
       ".cython.score-66 {background-color: #FFFF21;}\n",
       ".cython.score-67 {background-color: #FFFF21;}\n",
       ".cython.score-68 {background-color: #FFFF20;}\n",
       ".cython.score-69 {background-color: #FFFF20;}\n",
       ".cython.score-70 {background-color: #FFFF1f;}\n",
       ".cython.score-71 {background-color: #FFFF1f;}\n",
       ".cython.score-72 {background-color: #FFFF1f;}\n",
       ".cython.score-73 {background-color: #FFFF1e;}\n",
       ".cython.score-74 {background-color: #FFFF1e;}\n",
       ".cython.score-75 {background-color: #FFFF1e;}\n",
       ".cython.score-76 {background-color: #FFFF1d;}\n",
       ".cython.score-77 {background-color: #FFFF1d;}\n",
       ".cython.score-78 {background-color: #FFFF1c;}\n",
       ".cython.score-79 {background-color: #FFFF1c;}\n",
       ".cython.score-80 {background-color: #FFFF1c;}\n",
       ".cython.score-81 {background-color: #FFFF1c;}\n",
       ".cython.score-82 {background-color: #FFFF1b;}\n",
       ".cython.score-83 {background-color: #FFFF1b;}\n",
       ".cython.score-84 {background-color: #FFFF1b;}\n",
       ".cython.score-85 {background-color: #FFFF1a;}\n",
       ".cython.score-86 {background-color: #FFFF1a;}\n",
       ".cython.score-87 {background-color: #FFFF1a;}\n",
       ".cython.score-88 {background-color: #FFFF1a;}\n",
       ".cython.score-89 {background-color: #FFFF19;}\n",
       ".cython.score-90 {background-color: #FFFF19;}\n",
       ".cython.score-91 {background-color: #FFFF19;}\n",
       ".cython.score-92 {background-color: #FFFF19;}\n",
       ".cython.score-93 {background-color: #FFFF18;}\n",
       ".cython.score-94 {background-color: #FFFF18;}\n",
       ".cython.score-95 {background-color: #FFFF18;}\n",
       ".cython.score-96 {background-color: #FFFF18;}\n",
       ".cython.score-97 {background-color: #FFFF17;}\n",
       ".cython.score-98 {background-color: #FFFF17;}\n",
       ".cython.score-99 {background-color: #FFFF17;}\n",
       ".cython.score-100 {background-color: #FFFF17;}\n",
       ".cython.score-101 {background-color: #FFFF16;}\n",
       ".cython.score-102 {background-color: #FFFF16;}\n",
       ".cython.score-103 {background-color: #FFFF16;}\n",
       ".cython.score-104 {background-color: #FFFF16;}\n",
       ".cython.score-105 {background-color: #FFFF16;}\n",
       ".cython.score-106 {background-color: #FFFF15;}\n",
       ".cython.score-107 {background-color: #FFFF15;}\n",
       ".cython.score-108 {background-color: #FFFF15;}\n",
       ".cython.score-109 {background-color: #FFFF15;}\n",
       ".cython.score-110 {background-color: #FFFF15;}\n",
       ".cython.score-111 {background-color: #FFFF15;}\n",
       ".cython.score-112 {background-color: #FFFF14;}\n",
       ".cython.score-113 {background-color: #FFFF14;}\n",
       ".cython.score-114 {background-color: #FFFF14;}\n",
       ".cython.score-115 {background-color: #FFFF14;}\n",
       ".cython.score-116 {background-color: #FFFF14;}\n",
       ".cython.score-117 {background-color: #FFFF14;}\n",
       ".cython.score-118 {background-color: #FFFF13;}\n",
       ".cython.score-119 {background-color: #FFFF13;}\n",
       ".cython.score-120 {background-color: #FFFF13;}\n",
       ".cython.score-121 {background-color: #FFFF13;}\n",
       ".cython.score-122 {background-color: #FFFF13;}\n",
       ".cython.score-123 {background-color: #FFFF13;}\n",
       ".cython.score-124 {background-color: #FFFF13;}\n",
       ".cython.score-125 {background-color: #FFFF12;}\n",
       ".cython.score-126 {background-color: #FFFF12;}\n",
       ".cython.score-127 {background-color: #FFFF12;}\n",
       ".cython.score-128 {background-color: #FFFF12;}\n",
       ".cython.score-129 {background-color: #FFFF12;}\n",
       ".cython.score-130 {background-color: #FFFF12;}\n",
       ".cython.score-131 {background-color: #FFFF12;}\n",
       ".cython.score-132 {background-color: #FFFF11;}\n",
       ".cython.score-133 {background-color: #FFFF11;}\n",
       ".cython.score-134 {background-color: #FFFF11;}\n",
       ".cython.score-135 {background-color: #FFFF11;}\n",
       ".cython.score-136 {background-color: #FFFF11;}\n",
       ".cython.score-137 {background-color: #FFFF11;}\n",
       ".cython.score-138 {background-color: #FFFF11;}\n",
       ".cython.score-139 {background-color: #FFFF11;}\n",
       ".cython.score-140 {background-color: #FFFF11;}\n",
       ".cython.score-141 {background-color: #FFFF10;}\n",
       ".cython.score-142 {background-color: #FFFF10;}\n",
       ".cython.score-143 {background-color: #FFFF10;}\n",
       ".cython.score-144 {background-color: #FFFF10;}\n",
       ".cython.score-145 {background-color: #FFFF10;}\n",
       ".cython.score-146 {background-color: #FFFF10;}\n",
       ".cython.score-147 {background-color: #FFFF10;}\n",
       ".cython.score-148 {background-color: #FFFF10;}\n",
       ".cython.score-149 {background-color: #FFFF10;}\n",
       ".cython.score-150 {background-color: #FFFF0f;}\n",
       ".cython.score-151 {background-color: #FFFF0f;}\n",
       ".cython.score-152 {background-color: #FFFF0f;}\n",
       ".cython.score-153 {background-color: #FFFF0f;}\n",
       ".cython.score-154 {background-color: #FFFF0f;}\n",
       ".cython.score-155 {background-color: #FFFF0f;}\n",
       ".cython.score-156 {background-color: #FFFF0f;}\n",
       ".cython.score-157 {background-color: #FFFF0f;}\n",
       ".cython.score-158 {background-color: #FFFF0f;}\n",
       ".cython.score-159 {background-color: #FFFF0f;}\n",
       ".cython.score-160 {background-color: #FFFF0f;}\n",
       ".cython.score-161 {background-color: #FFFF0e;}\n",
       ".cython.score-162 {background-color: #FFFF0e;}\n",
       ".cython.score-163 {background-color: #FFFF0e;}\n",
       ".cython.score-164 {background-color: #FFFF0e;}\n",
       ".cython.score-165 {background-color: #FFFF0e;}\n",
       ".cython.score-166 {background-color: #FFFF0e;}\n",
       ".cython.score-167 {background-color: #FFFF0e;}\n",
       ".cython.score-168 {background-color: #FFFF0e;}\n",
       ".cython.score-169 {background-color: #FFFF0e;}\n",
       ".cython.score-170 {background-color: #FFFF0e;}\n",
       ".cython.score-171 {background-color: #FFFF0e;}\n",
       ".cython.score-172 {background-color: #FFFF0e;}\n",
       ".cython.score-173 {background-color: #FFFF0d;}\n",
       ".cython.score-174 {background-color: #FFFF0d;}\n",
       ".cython.score-175 {background-color: #FFFF0d;}\n",
       ".cython.score-176 {background-color: #FFFF0d;}\n",
       ".cython.score-177 {background-color: #FFFF0d;}\n",
       ".cython.score-178 {background-color: #FFFF0d;}\n",
       ".cython.score-179 {background-color: #FFFF0d;}\n",
       ".cython.score-180 {background-color: #FFFF0d;}\n",
       ".cython.score-181 {background-color: #FFFF0d;}\n",
       ".cython.score-182 {background-color: #FFFF0d;}\n",
       ".cython.score-183 {background-color: #FFFF0d;}\n",
       ".cython.score-184 {background-color: #FFFF0d;}\n",
       ".cython.score-185 {background-color: #FFFF0d;}\n",
       ".cython.score-186 {background-color: #FFFF0d;}\n",
       ".cython.score-187 {background-color: #FFFF0c;}\n",
       ".cython.score-188 {background-color: #FFFF0c;}\n",
       ".cython.score-189 {background-color: #FFFF0c;}\n",
       ".cython.score-190 {background-color: #FFFF0c;}\n",
       ".cython.score-191 {background-color: #FFFF0c;}\n",
       ".cython.score-192 {background-color: #FFFF0c;}\n",
       ".cython.score-193 {background-color: #FFFF0c;}\n",
       ".cython.score-194 {background-color: #FFFF0c;}\n",
       ".cython.score-195 {background-color: #FFFF0c;}\n",
       ".cython.score-196 {background-color: #FFFF0c;}\n",
       ".cython.score-197 {background-color: #FFFF0c;}\n",
       ".cython.score-198 {background-color: #FFFF0c;}\n",
       ".cython.score-199 {background-color: #FFFF0c;}\n",
       ".cython.score-200 {background-color: #FFFF0c;}\n",
       ".cython.score-201 {background-color: #FFFF0c;}\n",
       ".cython.score-202 {background-color: #FFFF0c;}\n",
       ".cython.score-203 {background-color: #FFFF0b;}\n",
       ".cython.score-204 {background-color: #FFFF0b;}\n",
       ".cython.score-205 {background-color: #FFFF0b;}\n",
       ".cython.score-206 {background-color: #FFFF0b;}\n",
       ".cython.score-207 {background-color: #FFFF0b;}\n",
       ".cython.score-208 {background-color: #FFFF0b;}\n",
       ".cython.score-209 {background-color: #FFFF0b;}\n",
       ".cython.score-210 {background-color: #FFFF0b;}\n",
       ".cython.score-211 {background-color: #FFFF0b;}\n",
       ".cython.score-212 {background-color: #FFFF0b;}\n",
       ".cython.score-213 {background-color: #FFFF0b;}\n",
       ".cython.score-214 {background-color: #FFFF0b;}\n",
       ".cython.score-215 {background-color: #FFFF0b;}\n",
       ".cython.score-216 {background-color: #FFFF0b;}\n",
       ".cython.score-217 {background-color: #FFFF0b;}\n",
       ".cython.score-218 {background-color: #FFFF0b;}\n",
       ".cython.score-219 {background-color: #FFFF0b;}\n",
       ".cython.score-220 {background-color: #FFFF0b;}\n",
       ".cython.score-221 {background-color: #FFFF0b;}\n",
       ".cython.score-222 {background-color: #FFFF0a;}\n",
       ".cython.score-223 {background-color: #FFFF0a;}\n",
       ".cython.score-224 {background-color: #FFFF0a;}\n",
       ".cython.score-225 {background-color: #FFFF0a;}\n",
       ".cython.score-226 {background-color: #FFFF0a;}\n",
       ".cython.score-227 {background-color: #FFFF0a;}\n",
       ".cython.score-228 {background-color: #FFFF0a;}\n",
       ".cython.score-229 {background-color: #FFFF0a;}\n",
       ".cython.score-230 {background-color: #FFFF0a;}\n",
       ".cython.score-231 {background-color: #FFFF0a;}\n",
       ".cython.score-232 {background-color: #FFFF0a;}\n",
       ".cython.score-233 {background-color: #FFFF0a;}\n",
       ".cython.score-234 {background-color: #FFFF0a;}\n",
       ".cython.score-235 {background-color: #FFFF0a;}\n",
       ".cython.score-236 {background-color: #FFFF0a;}\n",
       ".cython.score-237 {background-color: #FFFF0a;}\n",
       ".cython.score-238 {background-color: #FFFF0a;}\n",
       ".cython.score-239 {background-color: #FFFF0a;}\n",
       ".cython.score-240 {background-color: #FFFF0a;}\n",
       ".cython.score-241 {background-color: #FFFF0a;}\n",
       ".cython.score-242 {background-color: #FFFF0a;}\n",
       ".cython.score-243 {background-color: #FFFF0a;}\n",
       ".cython.score-244 {background-color: #FFFF0a;}\n",
       ".cython.score-245 {background-color: #FFFF0a;}\n",
       ".cython.score-246 {background-color: #FFFF09;}\n",
       ".cython.score-247 {background-color: #FFFF09;}\n",
       ".cython.score-248 {background-color: #FFFF09;}\n",
       ".cython.score-249 {background-color: #FFFF09;}\n",
       ".cython.score-250 {background-color: #FFFF09;}\n",
       ".cython.score-251 {background-color: #FFFF09;}\n",
       ".cython.score-252 {background-color: #FFFF09;}\n",
       ".cython.score-253 {background-color: #FFFF09;}\n",
       ".cython.score-254 {background-color: #FFFF09;}\n",
       "pre { line-height: 125%; }\n",
       "td.linenos .normal { color: inherit; background-color: transparent; padding-left: 5px; padding-right: 5px; }\n",
       "span.linenos { color: inherit; background-color: transparent; padding-left: 5px; padding-right: 5px; }\n",
       "td.linenos .special { color: #000000; background-color: #ffffc0; padding-left: 5px; padding-right: 5px; }\n",
       "span.linenos.special { color: #000000; background-color: #ffffc0; padding-left: 5px; padding-right: 5px; }\n",
       ".cython .hll { background-color: #ffffcc }\n",
       ".cython { background: #f8f8f8; }\n",
       ".cython .c { color: #3D7B7B; font-style: italic } /* Comment */\n",
       ".cython .err { border: 1px solid #FF0000 } /* Error */\n",
       ".cython .k { color: #008000; font-weight: bold } /* Keyword */\n",
       ".cython .o { color: #666666 } /* Operator */\n",
       ".cython .ch { color: #3D7B7B; font-style: italic } /* Comment.Hashbang */\n",
       ".cython .cm { color: #3D7B7B; font-style: italic } /* Comment.Multiline */\n",
       ".cython .cp { color: #9C6500 } /* Comment.Preproc */\n",
       ".cython .cpf { color: #3D7B7B; font-style: italic } /* Comment.PreprocFile */\n",
       ".cython .c1 { color: #3D7B7B; font-style: italic } /* Comment.Single */\n",
       ".cython .cs { color: #3D7B7B; font-style: italic } /* Comment.Special */\n",
       ".cython .gd { color: #A00000 } /* Generic.Deleted */\n",
       ".cython .ge { font-style: italic } /* Generic.Emph */\n",
       ".cython .ges { font-weight: bold; font-style: italic } /* Generic.EmphStrong */\n",
       ".cython .gr { color: #E40000 } /* Generic.Error */\n",
       ".cython .gh { color: #000080; font-weight: bold } /* Generic.Heading */\n",
       ".cython .gi { color: #008400 } /* Generic.Inserted */\n",
       ".cython .go { color: #717171 } /* Generic.Output */\n",
       ".cython .gp { color: #000080; font-weight: bold } /* Generic.Prompt */\n",
       ".cython .gs { font-weight: bold } /* Generic.Strong */\n",
       ".cython .gu { color: #800080; font-weight: bold } /* Generic.Subheading */\n",
       ".cython .gt { color: #0044DD } /* Generic.Traceback */\n",
       ".cython .kc { color: #008000; font-weight: bold } /* Keyword.Constant */\n",
       ".cython .kd { color: #008000; font-weight: bold } /* Keyword.Declaration */\n",
       ".cython .kn { color: #008000; font-weight: bold } /* Keyword.Namespace */\n",
       ".cython .kp { color: #008000 } /* Keyword.Pseudo */\n",
       ".cython .kr { color: #008000; font-weight: bold } /* Keyword.Reserved */\n",
       ".cython .kt { color: #B00040 } /* Keyword.Type */\n",
       ".cython .m { color: #666666 } /* Literal.Number */\n",
       ".cython .s { color: #BA2121 } /* Literal.String */\n",
       ".cython .na { color: #687822 } /* Name.Attribute */\n",
       ".cython .nb { color: #008000 } /* Name.Builtin */\n",
       ".cython .nc { color: #0000FF; font-weight: bold } /* Name.Class */\n",
       ".cython .no { color: #880000 } /* Name.Constant */\n",
       ".cython .nd { color: #AA22FF } /* Name.Decorator */\n",
       ".cython .ni { color: #717171; font-weight: bold } /* Name.Entity */\n",
       ".cython .ne { color: #CB3F38; font-weight: bold } /* Name.Exception */\n",
       ".cython .nf { color: #0000FF } /* Name.Function */\n",
       ".cython .nl { color: #767600 } /* Name.Label */\n",
       ".cython .nn { color: #0000FF; font-weight: bold } /* Name.Namespace */\n",
       ".cython .nt { color: #008000; font-weight: bold } /* Name.Tag */\n",
       ".cython .nv { color: #19177C } /* Name.Variable */\n",
       ".cython .ow { color: #AA22FF; font-weight: bold } /* Operator.Word */\n",
       ".cython .w { color: #bbbbbb } /* Text.Whitespace */\n",
       ".cython .mb { color: #666666 } /* Literal.Number.Bin */\n",
       ".cython .mf { color: #666666 } /* Literal.Number.Float */\n",
       ".cython .mh { color: #666666 } /* Literal.Number.Hex */\n",
       ".cython .mi { color: #666666 } /* Literal.Number.Integer */\n",
       ".cython .mo { color: #666666 } /* Literal.Number.Oct */\n",
       ".cython .sa { color: #BA2121 } /* Literal.String.Affix */\n",
       ".cython .sb { color: #BA2121 } /* Literal.String.Backtick */\n",
       ".cython .sc { color: #BA2121 } /* Literal.String.Char */\n",
       ".cython .dl { color: #BA2121 } /* Literal.String.Delimiter */\n",
       ".cython .sd { color: #BA2121; font-style: italic } /* Literal.String.Doc */\n",
       ".cython .s2 { color: #BA2121 } /* Literal.String.Double */\n",
       ".cython .se { color: #AA5D1F; font-weight: bold } /* Literal.String.Escape */\n",
       ".cython .sh { color: #BA2121 } /* Literal.String.Heredoc */\n",
       ".cython .si { color: #A45A77; font-weight: bold } /* Literal.String.Interpol */\n",
       ".cython .sx { color: #008000 } /* Literal.String.Other */\n",
       ".cython .sr { color: #A45A77 } /* Literal.String.Regex */\n",
       ".cython .s1 { color: #BA2121 } /* Literal.String.Single */\n",
       ".cython .ss { color: #19177C } /* Literal.String.Symbol */\n",
       ".cython .bp { color: #008000 } /* Name.Builtin.Pseudo */\n",
       ".cython .fm { color: #0000FF } /* Name.Function.Magic */\n",
       ".cython .vc { color: #19177C } /* Name.Variable.Class */\n",
       ".cython .vg { color: #19177C } /* Name.Variable.Global */\n",
       ".cython .vi { color: #19177C } /* Name.Variable.Instance */\n",
       ".cython .vm { color: #19177C } /* Name.Variable.Magic */\n",
       ".cython .il { color: #666666 } /* Literal.Number.Integer.Long */\n",
       "    </style>\n",
       "</head>\n",
       "<body class=\"cython\">\n",
       "<p><span style=\"border-bottom: solid 1px grey;\">Generated by Cython 3.0.10</span></p>\n",
       "<p>\n",
       "    <span style=\"background-color: #FFFF00\">Yellow lines</span> hint at Python interaction.<br />\n",
       "    Click on a line that starts with a \"<code>+</code>\" to see the C code that Cython generated for it.\n",
       "</p>\n",
       "<div class=\"cython\"><pre class=\"cython line score-16\" onclick=\"(function(s){s.display=s.display==='block'?'none':'block'})(this.nextElementSibling.style)\">+<span class=\"\">01</span>: <span class=\"k\">import</span> <span class=\"nn\">numpy</span> <span class=\"k\">as</span> <span class=\"nn\">np</span></pre>\n",
       "<pre class='cython code score-16 '>  __pyx_t_7 = <span class='pyx_c_api'>__Pyx_ImportDottedModule</span>(__pyx_n_s_numpy, NULL);<span class='error_goto'> if (unlikely(!__pyx_t_7)) __PYX_ERR(0, 1, __pyx_L1_error)</span>\n",
       "  <span class='refnanny'>__Pyx_GOTREF</span>(__pyx_t_7);\n",
       "  if (<span class='py_c_api'>PyDict_SetItem</span>(__pyx_d, __pyx_n_s_np, __pyx_t_7) &lt; 0) <span class='error_goto'>__PYX_ERR(0, 1, __pyx_L1_error)</span>\n",
       "  <span class='pyx_macro_api'>__Pyx_DECREF</span>(__pyx_t_7); __pyx_t_7 = 0;\n",
       "/* … */\n",
       "  __pyx_t_7 = <span class='pyx_c_api'>__Pyx_PyDict_NewPresized</span>(0);<span class='error_goto'> if (unlikely(!__pyx_t_7)) __PYX_ERR(0, 1, __pyx_L1_error)</span>\n",
       "  <span class='refnanny'>__Pyx_GOTREF</span>(__pyx_t_7);\n",
       "  if (<span class='py_c_api'>PyDict_SetItem</span>(__pyx_d, __pyx_n_s_test, __pyx_t_7) &lt; 0) <span class='error_goto'>__PYX_ERR(0, 1, __pyx_L1_error)</span>\n",
       "  <span class='pyx_macro_api'>__Pyx_DECREF</span>(__pyx_t_7); __pyx_t_7 = 0;\n",
       "</pre><pre class=\"cython line score-0\">&#xA0;<span class=\"\">02</span>: <span class=\"k\">cimport</span> <span class=\"nn\">numpy</span> <span class=\"k\">as</span> <span class=\"nn\">np</span></pre>\n",
       "<pre class=\"cython line score-0\">&#xA0;<span class=\"\">03</span>: <span class=\"k\">ctypedef</span> <span class=\"n\">np</span><span class=\"o\">.</span><span class=\"n\">float64_t</span> <span class=\"n\">dtype_t</span></pre>\n",
       "<pre class=\"cython line score-0\">&#xA0;<span class=\"\">04</span>: <span class=\"k\">cimport</span> <span class=\"nn\">cython</span></pre>\n",
       "<pre class=\"cython line score-0\">&#xA0;<span class=\"\">05</span>: <span class=\"k\">from</span> <span class=\"nn\">libc.math</span> <span class=\"k\">cimport</span> <span class=\"n\">exp</span></pre>\n",
       "<pre class=\"cython line score-0\">&#xA0;<span class=\"\">06</span>: </pre>\n",
       "<pre class=\"cython line score-0\">&#xA0;<span class=\"\">07</span>: </pre>\n",
       "<pre class=\"cython line score-148\" onclick=\"(function(s){s.display=s.display==='block'?'none':'block'})(this.nextElementSibling.style)\">+<span class=\"\">08</span>: <span class=\"nd\">@cython</span><span class=\"o\">.</span><span class=\"n\">boundscheck</span><span class=\"p\">(</span><span class=\"bp\">False</span><span class=\"p\">)</span></pre>\n",
       "<pre class='cython code score-148 '>/* Python wrapper */\n",
       "static PyObject *__pyx_pw_54_cython_magic_d06752518f026245949d52d390afa057806ccf52_1linear_cython(PyObject *__pyx_self, \n",
       "#if CYTHON_METH_FASTCALL\n",
       "PyObject *const *__pyx_args, Py_ssize_t __pyx_nargs, PyObject *__pyx_kwds\n",
       "#else\n",
       "PyObject *__pyx_args, PyObject *__pyx_kwds\n",
       "#endif\n",
       "); /*proto*/\n",
       "static PyMethodDef __pyx_mdef_54_cython_magic_d06752518f026245949d52d390afa057806ccf52_1linear_cython = {\"linear_cython\", (PyCFunction)(void*)(__Pyx_PyCFunction_FastCallWithKeywords)__pyx_pw_54_cython_magic_d06752518f026245949d52d390afa057806ccf52_1linear_cython, __Pyx_METH_FASTCALL|METH_KEYWORDS, 0};\n",
       "static PyObject *__pyx_pw_54_cython_magic_d06752518f026245949d52d390afa057806ccf52_1linear_cython(PyObject *__pyx_self, \n",
       "#if CYTHON_METH_FASTCALL\n",
       "PyObject *const *__pyx_args, Py_ssize_t __pyx_nargs, PyObject *__pyx_kwds\n",
       "#else\n",
       "PyObject *__pyx_args, PyObject *__pyx_kwds\n",
       "#endif\n",
       ") {\n",
       "  __Pyx_memviewslice __pyx_v_y0 = { 0, 0, { 0 }, { 0 }, { 0 } };\n",
       "  __Pyx_memviewslice __pyx_v_y1 = { 0, 0, { 0 }, { 0 }, { 0 } };\n",
       "  double __pyx_v_x0;\n",
       "  double __pyx_v_x1;\n",
       "  double __pyx_v_x;\n",
       "  #if !CYTHON_METH_FASTCALL\n",
       "  CYTHON_UNUSED Py_ssize_t __pyx_nargs;\n",
       "  #endif\n",
       "  CYTHON_UNUSED PyObject *const *__pyx_kwvalues;\n",
       "  PyObject *__pyx_r = 0;\n",
       "  <span class='refnanny'>__Pyx_RefNannyDeclarations</span>\n",
       "  <span class='refnanny'>__Pyx_RefNannySetupContext</span>(\"linear_cython (wrapper)\", 0);\n",
       "  #if !CYTHON_METH_FASTCALL\n",
       "  #if CYTHON_ASSUME_SAFE_MACROS\n",
       "  __pyx_nargs = <span class='py_macro_api'>PyTuple_GET_SIZE</span>(__pyx_args);\n",
       "  #else\n",
       "  __pyx_nargs = <span class='py_c_api'>PyTuple_Size</span>(__pyx_args); if (unlikely(__pyx_nargs &lt; 0)) return NULL;\n",
       "  #endif\n",
       "  #endif\n",
       "  __pyx_kwvalues = <span class='pyx_c_api'>__Pyx_KwValues_FASTCALL</span>(__pyx_args, __pyx_nargs);\n",
       "  {\n",
       "    PyObject **__pyx_pyargnames[] = {&amp;__pyx_n_s_y0,&amp;__pyx_n_s_y1,&amp;__pyx_n_s_x0,&amp;__pyx_n_s_x1,&amp;__pyx_n_s_x,0};\n",
       "  PyObject* values[5] = {0,0,0,0,0};\n",
       "    if (__pyx_kwds) {\n",
       "      Py_ssize_t kw_args;\n",
       "      switch (__pyx_nargs) {\n",
       "        case  5: values[4] = <span class='pyx_c_api'>__Pyx_Arg_FASTCALL</span>(__pyx_args, 4);\n",
       "        CYTHON_FALLTHROUGH;\n",
       "        case  4: values[3] = <span class='pyx_c_api'>__Pyx_Arg_FASTCALL</span>(__pyx_args, 3);\n",
       "        CYTHON_FALLTHROUGH;\n",
       "        case  3: values[2] = <span class='pyx_c_api'>__Pyx_Arg_FASTCALL</span>(__pyx_args, 2);\n",
       "        CYTHON_FALLTHROUGH;\n",
       "        case  2: values[1] = <span class='pyx_c_api'>__Pyx_Arg_FASTCALL</span>(__pyx_args, 1);\n",
       "        CYTHON_FALLTHROUGH;\n",
       "        case  1: values[0] = <span class='pyx_c_api'>__Pyx_Arg_FASTCALL</span>(__pyx_args, 0);\n",
       "        CYTHON_FALLTHROUGH;\n",
       "        case  0: break;\n",
       "        default: goto __pyx_L5_argtuple_error;\n",
       "      }\n",
       "      kw_args = <span class='pyx_c_api'>__Pyx_NumKwargs_FASTCALL</span>(__pyx_kwds);\n",
       "      switch (__pyx_nargs) {\n",
       "        case  0:\n",
       "        if (likely((values[0] = <span class='pyx_c_api'>__Pyx_GetKwValue_FASTCALL</span>(__pyx_kwds, __pyx_kwvalues, __pyx_n_s_y0)) != 0)) {\n",
       "          (void)<span class='pyx_c_api'>__Pyx_Arg_NewRef_FASTCALL</span>(values[0]);\n",
       "          kw_args--;\n",
       "        }\n",
       "        else if (unlikely(<span class='py_c_api'>PyErr_Occurred</span>())) <span class='error_goto'>__PYX_ERR(0, 8, __pyx_L3_error)</span>\n",
       "        else goto __pyx_L5_argtuple_error;\n",
       "        CYTHON_FALLTHROUGH;\n",
       "        case  1:\n",
       "        if (likely((values[1] = <span class='pyx_c_api'>__Pyx_GetKwValue_FASTCALL</span>(__pyx_kwds, __pyx_kwvalues, __pyx_n_s_y1)) != 0)) {\n",
       "          (void)<span class='pyx_c_api'>__Pyx_Arg_NewRef_FASTCALL</span>(values[1]);\n",
       "          kw_args--;\n",
       "        }\n",
       "        else if (unlikely(<span class='py_c_api'>PyErr_Occurred</span>())) <span class='error_goto'>__PYX_ERR(0, 8, __pyx_L3_error)</span>\n",
       "        else {\n",
       "          <span class='pyx_c_api'>__Pyx_RaiseArgtupleInvalid</span>(\"linear_cython\", 1, 5, 5, 1); <span class='error_goto'>__PYX_ERR(0, 8, __pyx_L3_error)</span>\n",
       "        }\n",
       "        CYTHON_FALLTHROUGH;\n",
       "        case  2:\n",
       "        if (likely((values[2] = <span class='pyx_c_api'>__Pyx_GetKwValue_FASTCALL</span>(__pyx_kwds, __pyx_kwvalues, __pyx_n_s_x0)) != 0)) {\n",
       "          (void)<span class='pyx_c_api'>__Pyx_Arg_NewRef_FASTCALL</span>(values[2]);\n",
       "          kw_args--;\n",
       "        }\n",
       "        else if (unlikely(<span class='py_c_api'>PyErr_Occurred</span>())) <span class='error_goto'>__PYX_ERR(0, 8, __pyx_L3_error)</span>\n",
       "        else {\n",
       "          <span class='pyx_c_api'>__Pyx_RaiseArgtupleInvalid</span>(\"linear_cython\", 1, 5, 5, 2); <span class='error_goto'>__PYX_ERR(0, 8, __pyx_L3_error)</span>\n",
       "        }\n",
       "        CYTHON_FALLTHROUGH;\n",
       "        case  3:\n",
       "        if (likely((values[3] = <span class='pyx_c_api'>__Pyx_GetKwValue_FASTCALL</span>(__pyx_kwds, __pyx_kwvalues, __pyx_n_s_x1)) != 0)) {\n",
       "          (void)<span class='pyx_c_api'>__Pyx_Arg_NewRef_FASTCALL</span>(values[3]);\n",
       "          kw_args--;\n",
       "        }\n",
       "        else if (unlikely(<span class='py_c_api'>PyErr_Occurred</span>())) <span class='error_goto'>__PYX_ERR(0, 8, __pyx_L3_error)</span>\n",
       "        else {\n",
       "          <span class='pyx_c_api'>__Pyx_RaiseArgtupleInvalid</span>(\"linear_cython\", 1, 5, 5, 3); <span class='error_goto'>__PYX_ERR(0, 8, __pyx_L3_error)</span>\n",
       "        }\n",
       "        CYTHON_FALLTHROUGH;\n",
       "        case  4:\n",
       "        if (likely((values[4] = <span class='pyx_c_api'>__Pyx_GetKwValue_FASTCALL</span>(__pyx_kwds, __pyx_kwvalues, __pyx_n_s_x)) != 0)) {\n",
       "          (void)<span class='pyx_c_api'>__Pyx_Arg_NewRef_FASTCALL</span>(values[4]);\n",
       "          kw_args--;\n",
       "        }\n",
       "        else if (unlikely(<span class='py_c_api'>PyErr_Occurred</span>())) <span class='error_goto'>__PYX_ERR(0, 8, __pyx_L3_error)</span>\n",
       "        else {\n",
       "          <span class='pyx_c_api'>__Pyx_RaiseArgtupleInvalid</span>(\"linear_cython\", 1, 5, 5, 4); <span class='error_goto'>__PYX_ERR(0, 8, __pyx_L3_error)</span>\n",
       "        }\n",
       "      }\n",
       "      if (unlikely(kw_args &gt; 0)) {\n",
       "        const Py_ssize_t kwd_pos_args = __pyx_nargs;\n",
       "        if (unlikely(<span class='pyx_c_api'>__Pyx_ParseOptionalKeywords</span>(__pyx_kwds, __pyx_kwvalues, __pyx_pyargnames, 0, values + 0, kwd_pos_args, \"linear_cython\") &lt; 0)) <span class='error_goto'>__PYX_ERR(0, 8, __pyx_L3_error)</span>\n",
       "      }\n",
       "    } else if (unlikely(__pyx_nargs != 5)) {\n",
       "      goto __pyx_L5_argtuple_error;\n",
       "    } else {\n",
       "      values[0] = <span class='pyx_c_api'>__Pyx_Arg_FASTCALL</span>(__pyx_args, 0);\n",
       "      values[1] = <span class='pyx_c_api'>__Pyx_Arg_FASTCALL</span>(__pyx_args, 1);\n",
       "      values[2] = <span class='pyx_c_api'>__Pyx_Arg_FASTCALL</span>(__pyx_args, 2);\n",
       "      values[3] = <span class='pyx_c_api'>__Pyx_Arg_FASTCALL</span>(__pyx_args, 3);\n",
       "      values[4] = <span class='pyx_c_api'>__Pyx_Arg_FASTCALL</span>(__pyx_args, 4);\n",
       "    }\n",
       "    __pyx_v_y0 = <span class='pyx_c_api'>__Pyx_PyObject_to_MemoryviewSlice_dc_double</span>(values[0], PyBUF_WRITABLE);<span class='error_goto'> if (unlikely(!__pyx_v_y0.memview)) __PYX_ERR(0, 12, __pyx_L3_error)</span>\n",
       "    __pyx_v_y1 = <span class='pyx_c_api'>__Pyx_PyObject_to_MemoryviewSlice_dc_double</span>(values[1], PyBUF_WRITABLE);<span class='error_goto'> if (unlikely(!__pyx_v_y1.memview)) __PYX_ERR(0, 13, __pyx_L3_error)</span>\n",
       "    __pyx_v_x0 = __pyx_<span class='py_c_api'>PyFloat_AsDouble</span>(values[2]); if (unlikely((__pyx_v_x0 == (double)-1) &amp;&amp; <span class='py_c_api'>PyErr_Occurred</span>())) <span class='error_goto'>__PYX_ERR(0, 14, __pyx_L3_error)</span>\n",
       "    __pyx_v_x1 = __pyx_<span class='py_c_api'>PyFloat_AsDouble</span>(values[3]); if (unlikely((__pyx_v_x1 == (double)-1) &amp;&amp; <span class='py_c_api'>PyErr_Occurred</span>())) <span class='error_goto'>__PYX_ERR(0, 14, __pyx_L3_error)</span>\n",
       "    __pyx_v_x = __pyx_<span class='py_c_api'>PyFloat_AsDouble</span>(values[4]); if (unlikely((__pyx_v_x == (double)-1) &amp;&amp; <span class='py_c_api'>PyErr_Occurred</span>())) <span class='error_goto'>__PYX_ERR(0, 14, __pyx_L3_error)</span>\n",
       "  }\n",
       "  goto __pyx_L6_skip;\n",
       "  __pyx_L5_argtuple_error:;\n",
       "  <span class='pyx_c_api'>__Pyx_RaiseArgtupleInvalid</span>(\"linear_cython\", 1, 5, 5, __pyx_nargs); <span class='error_goto'>__PYX_ERR(0, 8, __pyx_L3_error)</span>\n",
       "  __pyx_L6_skip:;\n",
       "  goto __pyx_L4_argument_unpacking_done;\n",
       "  __pyx_L3_error:;\n",
       "  {\n",
       "    Py_ssize_t __pyx_temp;\n",
       "    for (__pyx_temp=0; __pyx_temp &lt; (Py_ssize_t)(sizeof(values)/sizeof(values[0])); ++__pyx_temp) {\n",
       "      <span class='pyx_c_api'>__Pyx_Arg_XDECREF_FASTCALL</span>(values[__pyx_temp]);\n",
       "    }\n",
       "  }\n",
       "  __PYX_XCLEAR_MEMVIEW(&amp;__pyx_v_y0, 1);\n",
       "  __PYX_XCLEAR_MEMVIEW(&amp;__pyx_v_y1, 1);\n",
       "  <span class='pyx_c_api'>__Pyx_AddTraceback</span>(\"_cython_magic_d06752518f026245949d52d390afa057806ccf52.linear_cython\", __pyx_clineno, __pyx_lineno, __pyx_filename);\n",
       "  <span class='refnanny'>__Pyx_RefNannyFinishContext</span>();\n",
       "  return NULL;\n",
       "  __pyx_L4_argument_unpacking_done:;\n",
       "  __pyx_r = __pyx_pf_54_cython_magic_d06752518f026245949d52d390afa057806ccf52_linear_cython(__pyx_self, __pyx_v_y0, __pyx_v_y1, __pyx_v_x0, __pyx_v_x1, __pyx_v_x);\n",
       "  int __pyx_lineno = 0;\n",
       "  const char *__pyx_filename = NULL;\n",
       "  int __pyx_clineno = 0;\n",
       "\n",
       "  /* function exit code */\n",
       "  __PYX_XCLEAR_MEMVIEW(&amp;__pyx_v_y0, 1);\n",
       "  __PYX_XCLEAR_MEMVIEW(&amp;__pyx_v_y1, 1);\n",
       "  {\n",
       "    Py_ssize_t __pyx_temp;\n",
       "    for (__pyx_temp=0; __pyx_temp &lt; (Py_ssize_t)(sizeof(values)/sizeof(values[0])); ++__pyx_temp) {\n",
       "      <span class='pyx_c_api'>__Pyx_Arg_XDECREF_FASTCALL</span>(values[__pyx_temp]);\n",
       "    }\n",
       "  }\n",
       "  <span class='refnanny'>__Pyx_RefNannyFinishContext</span>();\n",
       "  return __pyx_r;\n",
       "}\n",
       "\n",
       "static PyObject *__pyx_pf_54_cython_magic_d06752518f026245949d52d390afa057806ccf52_linear_cython(CYTHON_UNUSED PyObject *__pyx_self, __Pyx_memviewslice __pyx_v_y0, __Pyx_memviewslice __pyx_v_y1, double __pyx_v_x0, double __pyx_v_x1, double __pyx_v_x) {\n",
       "  Py_ssize_t __pyx_v_i;\n",
       "  Py_ssize_t __pyx_v_y_max;\n",
       "  PyObject *__pyx_v_result = NULL;\n",
       "  __Pyx_memviewslice __pyx_v_result_view = { 0, 0, { 0 }, { 0 }, { 0 } };\n",
       "  PyObject *__pyx_r = NULL;\n",
       "/* … */\n",
       "  /* function exit code */\n",
       "  __pyx_L1_error:;\n",
       "  <span class='pyx_macro_api'>__Pyx_XDECREF</span>(__pyx_t_1);\n",
       "  <span class='pyx_macro_api'>__Pyx_XDECREF</span>(__pyx_t_2);\n",
       "  <span class='pyx_macro_api'>__Pyx_XDECREF</span>(__pyx_t_3);\n",
       "  <span class='pyx_macro_api'>__Pyx_XDECREF</span>(__pyx_t_4);\n",
       "  <span class='pyx_macro_api'>__Pyx_XDECREF</span>(__pyx_t_5);\n",
       "  __PYX_XCLEAR_MEMVIEW(&amp;__pyx_t_6, 1);\n",
       "  <span class='pyx_c_api'>__Pyx_AddTraceback</span>(\"_cython_magic_d06752518f026245949d52d390afa057806ccf52.linear_cython\", __pyx_clineno, __pyx_lineno, __pyx_filename);\n",
       "  __pyx_r = NULL;\n",
       "  __pyx_L0:;\n",
       "  <span class='pyx_macro_api'>__Pyx_XDECREF</span>(__pyx_v_result);\n",
       "  __PYX_XCLEAR_MEMVIEW(&amp;__pyx_v_result_view, 1);\n",
       "  <span class='refnanny'>__Pyx_XGIVEREF</span>(__pyx_r);\n",
       "  <span class='refnanny'>__Pyx_RefNannyFinishContext</span>();\n",
       "  return __pyx_r;\n",
       "}\n",
       "/* … */\n",
       "  __pyx_tuple__22 = <span class='py_c_api'>PyTuple_Pack</span>(9, __pyx_n_s_y0, __pyx_n_s_y1, __pyx_n_s_x0, __pyx_n_s_x1, __pyx_n_s_x, __pyx_n_s_i, __pyx_n_s_y_max, __pyx_n_s_result, __pyx_n_s_result_view);<span class='error_goto'> if (unlikely(!__pyx_tuple__22)) __PYX_ERR(0, 8, __pyx_L1_error)</span>\n",
       "  <span class='refnanny'>__Pyx_GOTREF</span>(__pyx_tuple__22);\n",
       "  <span class='refnanny'>__Pyx_GIVEREF</span>(__pyx_tuple__22);\n",
       "/* … */\n",
       "  __pyx_t_7 = <span class='pyx_c_api'>__Pyx_CyFunction_New</span>(&amp;__pyx_mdef_54_cython_magic_d06752518f026245949d52d390afa057806ccf52_1linear_cython, 0, __pyx_n_s_linear_cython, NULL, __pyx_n_s_cython_magic_d06752518f02624594, __pyx_d, ((PyObject *)__pyx_codeobj__23));<span class='error_goto'> if (unlikely(!__pyx_t_7)) __PYX_ERR(0, 8, __pyx_L1_error)</span>\n",
       "  <span class='refnanny'>__Pyx_GOTREF</span>(__pyx_t_7);\n",
       "  if (<span class='py_c_api'>PyDict_SetItem</span>(__pyx_d, __pyx_n_s_linear_cython, __pyx_t_7) &lt; 0) <span class='error_goto'>__PYX_ERR(0, 8, __pyx_L1_error)</span>\n",
       "  <span class='pyx_macro_api'>__Pyx_DECREF</span>(__pyx_t_7); __pyx_t_7 = 0;\n",
       "</pre><pre class=\"cython line score-0\">&#xA0;<span class=\"\">09</span>: <span class=\"nd\">@cython</span><span class=\"o\">.</span><span class=\"n\">wraparound</span><span class=\"p\">(</span><span class=\"bp\">False</span><span class=\"p\">)</span></pre>\n",
       "<pre class=\"cython line score-0\">&#xA0;<span class=\"\">10</span>: <span class=\"nd\">@cython</span><span class=\"o\">.</span><span class=\"n\">nonecheck</span><span class=\"p\">(</span><span class=\"bp\">False</span><span class=\"p\">)</span></pre>\n",
       "<pre class=\"cython line score-0\">&#xA0;<span class=\"\">11</span>: <span class=\"nd\">@cython</span><span class=\"o\">.</span><span class=\"n\">cdivision</span><span class=\"p\">(</span><span class=\"bp\">True</span><span class=\"p\">)</span></pre>\n",
       "<pre class=\"cython line score-0\">&#xA0;<span class=\"\">12</span>: <span class=\"k\">def</span> <span class=\"nf\">linear_cython</span><span class=\"p\">(</span><span class=\"n\">double</span><span class=\"p\">[::</span><span class=\"mf\">1</span><span class=\"p\">]</span> <span class=\"n\">y0</span><span class=\"p\">,</span></pre>\n",
       "<pre class=\"cython line score-0\">&#xA0;<span class=\"\">13</span>:                   <span class=\"n\">double</span><span class=\"p\">[::</span><span class=\"mf\">1</span><span class=\"p\">]</span> <span class=\"n\">y1</span><span class=\"p\">,</span></pre>\n",
       "<pre class=\"cython line score-0\">&#xA0;<span class=\"\">14</span>:                   <span class=\"n\">double</span> <span class=\"n\">x0</span><span class=\"p\">,</span> <span class=\"n\">double</span> <span class=\"n\">x1</span><span class=\"p\">,</span> <span class=\"n\">double</span> <span class=\"n\">x</span><span class=\"p\">):</span></pre>\n",
       "<pre class=\"cython line score-0\">&#xA0;<span class=\"\">15</span>:     <span class=\"k\">cdef</span> <span class=\"kt\">Py_ssize_t</span> <span class=\"nf\">i</span></pre>\n",
       "<pre class=\"cython line score-0\">&#xA0;<span class=\"\">16</span>: </pre>\n",
       "<pre class=\"cython line score-0\" onclick=\"(function(s){s.display=s.display==='block'?'none':'block'})(this.nextElementSibling.style)\">+<span class=\"\">17</span>:     <span class=\"k\">cdef</span> <span class=\"kt\">Py_ssize_t</span> <span class=\"nf\">y_max</span> <span class=\"o\">=</span> <span class=\"n\">y0</span><span class=\"o\">.</span><span class=\"n\">shape</span><span class=\"p\">[</span><span class=\"mf\">0</span><span class=\"p\">]</span></pre>\n",
       "<pre class='cython code score-0 '>  __pyx_v_y_max = (__pyx_v_y0.shape[0]);\n",
       "</pre><pre class=\"cython line score-0\">&#xA0;<span class=\"\">18</span>: </pre>\n",
       "<pre class=\"cython line score-35\" onclick=\"(function(s){s.display=s.display==='block'?'none':'block'})(this.nextElementSibling.style)\">+<span class=\"\">19</span>:     <span class=\"n\">result</span> <span class=\"o\">=</span> <span class=\"n\">np</span><span class=\"o\">.</span><span class=\"n\">empty</span><span class=\"p\">(</span><span class=\"n\">y0</span><span class=\"o\">.</span><span class=\"n\">shape</span><span class=\"p\">[</span><span class=\"mf\">0</span><span class=\"p\">],</span> <span class=\"n\">dtype</span><span class=\"o\">=</span><span class=\"n\">np</span><span class=\"o\">.</span><span class=\"n\">float64</span><span class=\"p\">)</span></pre>\n",
       "<pre class='cython code score-35 '>  <span class='pyx_c_api'>__Pyx_GetModuleGlobalName</span>(__pyx_t_1, __pyx_n_s_np);<span class='error_goto'> if (unlikely(!__pyx_t_1)) __PYX_ERR(0, 19, __pyx_L1_error)</span>\n",
       "  <span class='refnanny'>__Pyx_GOTREF</span>(__pyx_t_1);\n",
       "  __pyx_t_2 = <span class='pyx_c_api'>__Pyx_PyObject_GetAttrStr</span>(__pyx_t_1, __pyx_n_s_empty);<span class='error_goto'> if (unlikely(!__pyx_t_2)) __PYX_ERR(0, 19, __pyx_L1_error)</span>\n",
       "  <span class='refnanny'>__Pyx_GOTREF</span>(__pyx_t_2);\n",
       "  <span class='pyx_macro_api'>__Pyx_DECREF</span>(__pyx_t_1); __pyx_t_1 = 0;\n",
       "  __pyx_t_1 = <span class='py_c_api'>PyInt_FromSsize_t</span>((__pyx_v_y0.shape[0]));<span class='error_goto'> if (unlikely(!__pyx_t_1)) __PYX_ERR(0, 19, __pyx_L1_error)</span>\n",
       "  <span class='refnanny'>__Pyx_GOTREF</span>(__pyx_t_1);\n",
       "  __pyx_t_3 = <span class='py_c_api'>PyTuple_New</span>(1);<span class='error_goto'> if (unlikely(!__pyx_t_3)) __PYX_ERR(0, 19, __pyx_L1_error)</span>\n",
       "  <span class='refnanny'>__Pyx_GOTREF</span>(__pyx_t_3);\n",
       "  <span class='refnanny'>__Pyx_GIVEREF</span>(__pyx_t_1);\n",
       "  if (<span class='pyx_c_api'>__Pyx_PyTuple_SET_ITEM</span>(__pyx_t_3, 0, __pyx_t_1)) <span class='error_goto'>__PYX_ERR(0, 19, __pyx_L1_error)</span>;\n",
       "  __pyx_t_1 = 0;\n",
       "  __pyx_t_1 = <span class='pyx_c_api'>__Pyx_PyDict_NewPresized</span>(1);<span class='error_goto'> if (unlikely(!__pyx_t_1)) __PYX_ERR(0, 19, __pyx_L1_error)</span>\n",
       "  <span class='refnanny'>__Pyx_GOTREF</span>(__pyx_t_1);\n",
       "  <span class='pyx_c_api'>__Pyx_GetModuleGlobalName</span>(__pyx_t_4, __pyx_n_s_np);<span class='error_goto'> if (unlikely(!__pyx_t_4)) __PYX_ERR(0, 19, __pyx_L1_error)</span>\n",
       "  <span class='refnanny'>__Pyx_GOTREF</span>(__pyx_t_4);\n",
       "  __pyx_t_5 = <span class='pyx_c_api'>__Pyx_PyObject_GetAttrStr</span>(__pyx_t_4, __pyx_n_s_float64);<span class='error_goto'> if (unlikely(!__pyx_t_5)) __PYX_ERR(0, 19, __pyx_L1_error)</span>\n",
       "  <span class='refnanny'>__Pyx_GOTREF</span>(__pyx_t_5);\n",
       "  <span class='pyx_macro_api'>__Pyx_DECREF</span>(__pyx_t_4); __pyx_t_4 = 0;\n",
       "  if (<span class='py_c_api'>PyDict_SetItem</span>(__pyx_t_1, __pyx_n_s_dtype, __pyx_t_5) &lt; 0) <span class='error_goto'>__PYX_ERR(0, 19, __pyx_L1_error)</span>\n",
       "  <span class='pyx_macro_api'>__Pyx_DECREF</span>(__pyx_t_5); __pyx_t_5 = 0;\n",
       "  __pyx_t_5 = <span class='pyx_c_api'>__Pyx_PyObject_Call</span>(__pyx_t_2, __pyx_t_3, __pyx_t_1);<span class='error_goto'> if (unlikely(!__pyx_t_5)) __PYX_ERR(0, 19, __pyx_L1_error)</span>\n",
       "  <span class='refnanny'>__Pyx_GOTREF</span>(__pyx_t_5);\n",
       "  <span class='pyx_macro_api'>__Pyx_DECREF</span>(__pyx_t_2); __pyx_t_2 = 0;\n",
       "  <span class='pyx_macro_api'>__Pyx_DECREF</span>(__pyx_t_3); __pyx_t_3 = 0;\n",
       "  <span class='pyx_macro_api'>__Pyx_DECREF</span>(__pyx_t_1); __pyx_t_1 = 0;\n",
       "  __pyx_v_result = __pyx_t_5;\n",
       "  __pyx_t_5 = 0;\n",
       "</pre><pre class=\"cython line score-0\">&#xA0;<span class=\"\">20</span>: </pre>\n",
       "<pre class=\"cython line score-2\" onclick=\"(function(s){s.display=s.display==='block'?'none':'block'})(this.nextElementSibling.style)\">+<span class=\"\">21</span>:     <span class=\"k\">cdef</span> <span class=\"kt\">double</span>[<span class=\"p\">::</span><span class=\"mf\">1</span><span class=\"p\">]</span> <span class=\"n\">result_view</span> <span class=\"o\">=</span> <span class=\"n\">result</span></pre>\n",
       "<pre class='cython code score-2 '>  __pyx_t_6 = <span class='pyx_c_api'>__Pyx_PyObject_to_MemoryviewSlice_dc_double</span>(__pyx_v_result, PyBUF_WRITABLE);<span class='error_goto'> if (unlikely(!__pyx_t_6.memview)) __PYX_ERR(0, 21, __pyx_L1_error)</span>\n",
       "  __pyx_v_result_view = __pyx_t_6;\n",
       "  __pyx_t_6.memview = NULL;\n",
       "  __pyx_t_6.data = NULL;\n",
       "</pre><pre class=\"cython line score-0\" onclick=\"(function(s){s.display=s.display==='block'?'none':'block'})(this.nextElementSibling.style)\">+<span class=\"\">22</span>:     <span class=\"k\">for</span> <span class=\"n\">i</span> <span class=\"ow\">in</span> <span class=\"nb\">range</span><span class=\"p\">(</span><span class=\"n\">y_max</span><span class=\"p\">):</span></pre>\n",
       "<pre class='cython code score-0 '>  __pyx_t_7 = __pyx_v_y_max;\n",
       "  __pyx_t_8 = __pyx_t_7;\n",
       "  for (__pyx_t_9 = 0; __pyx_t_9 &lt; __pyx_t_8; __pyx_t_9+=1) {\n",
       "    __pyx_v_i = __pyx_t_9;\n",
       "</pre><pre class=\"cython line score-0\" onclick=\"(function(s){s.display=s.display==='block'?'none':'block'})(this.nextElementSibling.style)\">+<span class=\"\">23</span>:         <span class=\"n\">result_view</span><span class=\"p\">[</span><span class=\"n\">i</span><span class=\"p\">]</span> <span class=\"o\">=</span> <span class=\"p\">(</span><span class=\"n\">exp</span><span class=\"p\">(</span><span class=\"n\">y0</span><span class=\"p\">[</span><span class=\"n\">i</span><span class=\"p\">]</span> <span class=\"o\">*</span> <span class=\"n\">y0</span><span class=\"p\">[</span><span class=\"n\">i</span><span class=\"p\">])</span> <span class=\"o\">*</span> <span class=\"p\">(</span><span class=\"n\">x1</span> <span class=\"o\">-</span> <span class=\"n\">x</span><span class=\"p\">)</span> <span class=\"o\">+</span> <span class=\"n\">y1</span><span class=\"p\">[</span><span class=\"n\">i</span><span class=\"p\">]</span> <span class=\"o\">*</span> <span class=\"p\">(</span><span class=\"n\">x</span> <span class=\"o\">-</span> <span class=\"n\">x0</span><span class=\"p\">))</span>  <span class=\"o\">/</span> <span class=\"p\">(</span><span class=\"n\">x1</span> <span class=\"o\">-</span> <span class=\"n\">x0</span><span class=\"p\">)</span></pre>\n",
       "<pre class='cython code score-0 '>    __pyx_t_10 = __pyx_v_i;\n",
       "    __pyx_t_11 = __pyx_v_i;\n",
       "    __pyx_t_12 = __pyx_v_i;\n",
       "    __pyx_t_13 = __pyx_v_i;\n",
       "    *((double *) ( /* dim=0 */ ((char *) (((double *) __pyx_v_result_view.data) + __pyx_t_13)) )) = (((exp(((*((double *) ( /* dim=0 */ ((char *) (((double *) __pyx_v_y0.data) + __pyx_t_10)) ))) * (*((double *) ( /* dim=0 */ ((char *) (((double *) __pyx_v_y0.data) + __pyx_t_11)) ))))) * (__pyx_v_x1 - __pyx_v_x)) + ((*((double *) ( /* dim=0 */ ((char *) (((double *) __pyx_v_y1.data) + __pyx_t_12)) ))) * (__pyx_v_x - __pyx_v_x0))) / (__pyx_v_x1 - __pyx_v_x0));\n",
       "  }\n",
       "</pre><pre class=\"cython line score-2\" onclick=\"(function(s){s.display=s.display==='block'?'none':'block'})(this.nextElementSibling.style)\">+<span class=\"\">24</span>:     <span class=\"k\">return</span> <span class=\"n\">result</span></pre>\n",
       "<pre class='cython code score-2 '>  <span class='pyx_macro_api'>__Pyx_XDECREF</span>(__pyx_r);\n",
       "  <span class='pyx_macro_api'>__Pyx_INCREF</span>(__pyx_v_result);\n",
       "  __pyx_r = __pyx_v_result;\n",
       "  goto __pyx_L0;\n",
       "</pre><pre class=\"cython line score-0\">&#xA0;<span class=\"\">25</span>: </pre>\n",
       "<pre class=\"cython line score-0\">&#xA0;<span class=\"\">26</span>: </pre>\n",
       "<pre class=\"cython line score-0\">&#xA0;<span class=\"\">27</span>: </pre>\n",
       "</div></body></html>"
      ],
      "text/plain": [
       "<IPython.core.display.HTML object>"
      ]
     },
     "execution_count": 22,
     "metadata": {},
     "output_type": "execute_result"
    }
   ],
   "source": [
    "%%cython -a\n",
    "import numpy as np\n",
    "cimport numpy as np\n",
    "ctypedef np.float64_t dtype_t\n",
    "cimport cython\n",
    "from libc.math cimport exp\n",
    "\n",
    "\n",
    "@cython.boundscheck(False)\n",
    "@cython.wraparound(False)\n",
    "@cython.nonecheck(False)\n",
    "@cython.cdivision(True)\n",
    "def linear_cython(double[::1] y0,\n",
    "                  double[::1] y1, \n",
    "                  double x0, double x1, double x):\n",
    "    cdef Py_ssize_t i\n",
    "    \n",
    "    cdef Py_ssize_t y_max = y0.shape[0]\n",
    "    \n",
    "    result = np.empty(y0.shape[0], dtype=np.float64)\n",
    "    \n",
    "    cdef double[::1] result_view = result\n",
    "    for i in range(y_max):\n",
    "        result_view[i] = (exp(y0[i] * y0[i]) * (x1 - x) + y1[i] * (x - x0))  / (x1 - x0)\n",
    "    return result\n",
    "        \n",
    "        \n",
    "        "
   ]
  },
  {
   "cell_type": "code",
   "execution_count": 23,
   "id": "c1dd83ea-4946-443c-a0c0-1d88e82252d7",
   "metadata": {},
   "outputs": [
    {
     "name": "stdout",
     "output_type": "stream",
     "text": [
      "566 ms ± 17.2 ms per loop (mean ± std. dev. of 7 runs, 1 loop each)\n"
     ]
    }
   ],
   "source": [
    "%timeit linear_cython(y0,y1,2,3,2.5)"
   ]
  },
  {
   "cell_type": "markdown",
   "id": "b6caa8a4-5edd-47c7-8b8e-94901f1d20b6",
   "metadata": {},
   "source": [
    "## Numba"
   ]
  },
  {
   "cell_type": "code",
   "execution_count": 24,
   "id": "c7eb781d-44b7-4937-a2e5-ca124403e537",
   "metadata": {},
   "outputs": [],
   "source": [
    "def linear_interpolate_bad(y0, y1, x0, x1, x):\n",
    "    out = np.zeros(y0.shape)\n",
    "    for n in range(y0.shape[0]):\n",
    "        out[n] = (np.exp(y0[n]**2) * (x1 - x) + y1[n] * (x - x0))  / (x1 - x0)\n",
    "\n",
    "    return out"
   ]
  },
  {
   "cell_type": "code",
   "execution_count": 25,
   "id": "59feaa19-17e6-4897-b469-c6695a9c3fc0",
   "metadata": {},
   "outputs": [
    {
     "name": "stdout",
     "output_type": "stream",
     "text": [
      "CPU times: user 1min 18s, sys: 331 ms, total: 1min 18s\n",
      "Wall time: 1min 19s\n"
     ]
    },
    {
     "data": {
      "text/plain": [
       "array([1.12915853, 0.76681518, 0.83544791, ..., 0.83274967, 1.04797274,\n",
       "       1.10821748])"
      ]
     },
     "execution_count": 25,
     "metadata": {},
     "output_type": "execute_result"
    }
   ],
   "source": [
    "%time linear_interpolate_bad(y0, y1, 2, 3, 2.5)"
   ]
  },
  {
   "cell_type": "code",
   "execution_count": 26,
   "id": "c2b34b51-3bda-4c62-91ad-fbe6b5035adf",
   "metadata": {},
   "outputs": [],
   "source": [
    "import numba\n",
    "\n",
    "@numba.njit\n",
    "def linear_interpolate_good(y0, y1, x0, x1, x):\n",
    "    out = np.zeros(y0.shape)\n",
    "    for n in range(y0.shape[0]):\n",
    "        out[n] = (np.exp(y0[n]**2) * (x1 - x) + y1[n] * (x - x0))  / (x1 - x0)\n",
    "\n",
    "    return out"
   ]
  },
  {
   "cell_type": "code",
   "execution_count": 27,
   "id": "191d31bb-e84d-4ce7-a6a9-c44483d1fdea",
   "metadata": {},
   "outputs": [
    {
     "name": "stdout",
     "output_type": "stream",
     "text": [
      "585 ms ± 30.9 ms per loop (mean ± std. dev. of 7 runs, 1 loop each)\n"
     ]
    }
   ],
   "source": [
    "%timeit linear_interpolate_good(y0, y1, 2, 3, 2.5)"
   ]
  },
  {
   "cell_type": "code",
   "execution_count": 28,
   "id": "b6486073-bbae-43dc-a1cb-2c6541779a2e",
   "metadata": {},
   "outputs": [],
   "source": [
    "import numba\n",
    "\n",
    "@numba.njit(parallel=True, fastmath=True)\n",
    "def linear_interpolate_best(y0, y1, x0, x1, x):\n",
    "    out = np.zeros(y0.shape)\n",
    "    for n in numba.prange(y0.shape[0]):\n",
    "        out[n] = (np.exp(y0[n]**2) * (x1 - x) + y1[n] * (x - x0))  / (x1 - x0)\n",
    "\n",
    "    return out"
   ]
  },
  {
   "cell_type": "code",
   "execution_count": 29,
   "id": "da42692d-a1f2-4aa0-95b1-96b176fd30b6",
   "metadata": {},
   "outputs": [
    {
     "name": "stderr",
     "output_type": "stream",
     "text": [
      "OMP: Info #276: omp_set_nested routine deprecated, please use omp_set_max_active_levels instead.\n"
     ]
    },
    {
     "name": "stdout",
     "output_type": "stream",
     "text": [
      "263 ms ± 72.8 ms per loop (mean ± std. dev. of 7 runs, 1 loop each)\n"
     ]
    }
   ],
   "source": [
    "%timeit linear_interpolate_best(y0, y1, 2, 3, 2.5)"
   ]
  },
  {
   "cell_type": "markdown",
   "id": "0797ecbc-4d98-4466-891a-655525be8b58",
   "metadata": {},
   "source": [
    "Go away FORTRAN and C++ shooo shooooo"
   ]
  },
  {
   "cell_type": "code",
   "execution_count": 30,
   "id": "5cc50e54-0812-4f3e-8df8-a33b37928c39",
   "metadata": {},
   "outputs": [],
   "source": [
    "def mandelbrot_python(size, iterations):\n",
    "    m = np.zeros((size, size))\n",
    "    for i in range(size):\n",
    "        for j in range(size):\n",
    "            c = (-2 + 3. / size * j +\n",
    "                 1j * (1.5 - 3. / size * i))\n",
    "            z = 0\n",
    "            for n in range(iterations):\n",
    "                if np.abs(z) <= 10:\n",
    "                    z = z * z + c\n",
    "                    m[i, j] = n\n",
    "                else:\n",
    "                    break\n",
    "    return m"
   ]
  },
  {
   "cell_type": "code",
   "execution_count": 31,
   "id": "e5a439d4-fe7a-4ed8-bf61-17f300a8145a",
   "metadata": {},
   "outputs": [],
   "source": [
    "size = 400\n",
    "iterations = 100"
   ]
  },
  {
   "cell_type": "code",
   "execution_count": 32,
   "id": "2d3f71e5-8e8b-43a8-9dce-f07e246db943",
   "metadata": {},
   "outputs": [
    {
     "name": "stdout",
     "output_type": "stream",
     "text": [
      "CPU times: user 4.63 s, sys: 25.8 ms, total: 4.66 s\n",
      "Wall time: 4.71 s\n"
     ]
    },
    {
     "data": {
      "text/plain": [
       "array([[2., 2., 2., ..., 2., 2., 2.],\n",
       "       [2., 2., 2., ..., 2., 2., 2.],\n",
       "       [2., 2., 2., ..., 2., 2., 2.],\n",
       "       ...,\n",
       "       [2., 2., 2., ..., 2., 2., 2.],\n",
       "       [2., 2., 2., ..., 2., 2., 2.],\n",
       "       [2., 2., 2., ..., 2., 2., 2.]])"
      ]
     },
     "execution_count": 32,
     "metadata": {},
     "output_type": "execute_result"
    }
   ],
   "source": [
    "%time mandelbrot_python(size, iterations)"
   ]
  },
  {
   "cell_type": "code",
   "execution_count": 33,
   "id": "f21ea613-d8bd-4475-adf3-9c0aef1e7748",
   "metadata": {},
   "outputs": [],
   "source": [
    "@numba.njit\n",
    "def mandelbrot_numba(size, iterations):\n",
    "    m = np.zeros((size, size))\n",
    "    for i in range(size):\n",
    "        for j in range(size):\n",
    "            c = (-2 + 3. / size * j +\n",
    "                 1j * (1.5 - 3. / size * i))\n",
    "            z = 0\n",
    "            for n in range(iterations):\n",
    "                if np.abs(z) <= 10:\n",
    "                    z = z * z + c\n",
    "                    m[i, j] = n\n",
    "                else:\n",
    "                    break\n",
    "    return m"
   ]
  },
  {
   "cell_type": "code",
   "execution_count": 34,
   "id": "3ff895b8-f0d0-41e2-a503-73599151a90c",
   "metadata": {},
   "outputs": [
    {
     "name": "stdout",
     "output_type": "stream",
     "text": [
      "20 ms ± 406 μs per loop (mean ± std. dev. of 7 runs, 1 loop each)\n"
     ]
    }
   ],
   "source": [
    "%timeit mandelbrot_numba(size, iterations)"
   ]
  },
  {
   "cell_type": "code",
   "execution_count": 36,
   "id": "1bd555b0-8df2-46c5-b292-64cd89b8935d",
   "metadata": {},
   "outputs": [
    {
     "data": {
      "application/vnd.jupyter.widget-view+json": {
       "model_id": "b8f38b2583fd4657ac41d2a73db61b0c",
       "version_major": 2,
       "version_minor": 0
      },
      "image/png": "[encoded data removed]",
      "text/html": [
       "\n",
       "            <div style=\"display: inline-block;\">\n",
       "                <div class=\"jupyter-widgets widget-label\" style=\"text-align: center;\">\n",
       "                    Figure\n",
       "                </div>\n",
       "                <img src='data:image/png;base64,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' width=640.0/>\n",
       "            </div>\n",
       "        "
      ],
      "text/plain": [
       "Canvas(toolbar=Toolbar(toolitems=[('Home', 'Reset original view', 'home', 'home'), ('Back', 'Back to previous …"
      ]
     },
     "metadata": {},
     "output_type": "display_data"
    }
   ],
   "source": [
    "m = mandelbrot_numba(size, iterations)\n",
    "\n",
    "fig, ax = plt.subplots(1, 1)\n",
    "ax.imshow(np.log(m), cmap=plt.cm.hot)\n",
    "ax.set_axis_off()"
   ]
  },
  {
   "cell_type": "code",
   "execution_count": null,
   "id": "ff2b3028-ada0-4a82-80a3-c465463d18c3",
   "metadata": {},
   "outputs": [],
   "source": []
  },
  {
   "cell_type": "code",
   "execution_count": null,
   "id": "b5d4a787-6035-4026-aac7-826120b727b1",
   "metadata": {},
   "outputs": [],
   "source": []
  }
 ],
 "metadata": {
  "kernelspec": {
   "display_name": "Python 3 (ipykernel)",
   "language": "python",
   "name": "python3"
  },
  "language_info": {
   "codemirror_mode": {
    "name": "ipython",
    "version": 3
   },
   "file_extension": ".py",
   "mimetype": "text/x-python",
   "name": "python",
   "nbconvert_exporter": "python",
   "pygments_lexer": "ipython3",
   "version": "3.10.0"
  }
 },
 "nbformat": 4,
 "nbformat_minor": 5
}
