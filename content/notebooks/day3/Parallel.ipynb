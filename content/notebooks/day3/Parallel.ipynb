{
 "cells": [
  {
   "cell_type": "markdown",
   "id": "c3cba52f-b564-4e4d-9e61-6678cf5449c8",
   "metadata": {},
   "source": [
    "# Parallelizing your code"
   ]
  },
  {
   "cell_type": "code",
   "execution_count": null,
   "id": "cb666aec-b5e1-4912-a6ea-2af2a6587670",
   "metadata": {},
   "outputs": [],
   "source": [
    "import numpy as np"
   ]
  },
  {
   "cell_type": "code",
   "execution_count": null,
   "id": "a3051e15-550f-446c-83a2-1748d9035393",
   "metadata": {},
   "outputs": [],
   "source": [
    "import multiprocessing as mp    \n",
    "mp.set_start_method(\"fork\")    # Only needed for Jupyter, do not do this in python code itself"
   ]
  },
  {
   "cell_type": "markdown",
   "id": "8bb959a9-dc16-4560-a7c2-e96ee3a81e2e",
   "metadata": {},
   "source": [
    "Often times we want to perform multiple task simulatenous and leverage multiple cores.\n",
    "\n",
    "Previously we would use the `threading` library or `multiprocessing` library to achieve this but\n",
    "nowadays these are pretty terrible to use. For multiple reasons but not limited to:\n",
    "    \n",
    "    - Script freezing due to deadlock\n",
    "    - Zombie python processes appearing\n",
    "    - Script not finishing at the end\n",
    "    - All other sadness\n",
    "\n",
    "\n",
    "Instead we will use the `concurrent.futures` module to make this experience as smooth as possible. Lets try it"
   ]
  },
  {
   "cell_type": "markdown",
   "id": "8c38abe1-9f78-44db-9d97-fee9ed30108f",
   "metadata": {},
   "source": [
    "Python has to parallel execution modules. `threading` and `multiprocessing`. Threading runs parallel jobs in the same python process while Multiprocessing spawns new python processes.\n",
    "\n",
    "The difference comes from the Global Interpretor Lock. Within a single python process, only one python task can be run at the same time. However if the task release this lock then another task can run. Often time, reading things from file or certain functions (like numba with `nogil`) will release the lock and allow concurrent processes.\n",
    "\n",
    "Multiproccessing overcomes this by creating a new python process and running tasks there. However it requires explicitly sending data to that process."
   ]
  },
  {
   "cell_type": "code",
   "execution_count": null,
   "id": "6a0c190c-2fb4-4008-a19f-f238c4ddb8ac",
   "metadata": {},
   "outputs": [],
   "source": [
    "from concurrent.futures import ThreadPoolExecutor, ProcessPoolExecutor"
   ]
  },
  {
   "cell_type": "code",
   "execution_count": null,
   "id": "6bf35ee3-6b3e-4eb7-9534-d6c74172414f",
   "metadata": {},
   "outputs": [],
   "source": [
    "def f(x):\n",
    "    import time\n",
    "    time.sleep(1.0)\n",
    "    return np.sin(x)\n",
    "\n",
    "with ThreadPoolExecutor(max_workers=1) as e:\n",
    "    futures = e.submit(f,10)\n",
    "    if futures.done():\n",
    "        print('Done')\n",
    "    else:\n",
    "        print('Not done')\n",
    "    print(futures.result())"
   ]
  },
  {
   "cell_type": "markdown",
   "id": "6e4eca30-2553-4e64-b5a8-2ab356eddc2b",
   "metadata": {},
   "source": [
    "We can submit a bunch more tasks if we want as well!"
   ]
  },
  {
   "cell_type": "code",
   "execution_count": null,
   "id": "9ecbc489-00a8-46db-9cc8-b910096c1793",
   "metadata": {},
   "outputs": [],
   "source": [
    "tasks = np.arange(0,10)\n",
    "\n",
    "with ThreadPoolExecutor(max_workers=8) as e:\n",
    "    futures = [e.submit(f,x) for x in tasks]\n",
    "    all_values = [x.result() for x in futures]\n",
    "    "
   ]
  },
  {
   "cell_type": "code",
   "execution_count": null,
   "id": "78f92c33-9b4c-4f30-ae54-4816fa6057e6",
   "metadata": {},
   "outputs": [],
   "source": [
    "all_values"
   ]
  },
  {
   "cell_type": "markdown",
   "id": "228ba041-12dc-4093-9667-eb93d692cdbe",
   "metadata": {},
   "source": [
    "Now this can be a bit laborious for large set of tasks, what we can instead do is leverage the `map` function and map our task across inputs"
   ]
  },
  {
   "cell_type": "code",
   "execution_count": null,
   "id": "ed9a841c-c701-4974-945f-ae6e189abfe3",
   "metadata": {},
   "outputs": [],
   "source": [
    "%%time\n",
    "with ThreadPoolExecutor(max_workers=8) as e:\n",
    "    for x in e.map(f, tasks):\n",
    "        print(x)"
   ]
  },
  {
   "cell_type": "code",
   "execution_count": null,
   "id": "afaa43b9-34b9-4318-8b07-62ed9b798f23",
   "metadata": {},
   "outputs": [],
   "source": [
    "def g(x):\n",
    "    import time\n",
    "    time.sleep(0.3)\n",
    "    return np.cos(x)\n",
    "\n",
    "with ThreadPoolExecutor(max_workers=8) as e:\n",
    "    f_tasks = e.map(f, tasks)\n",
    "    print('Ok now do g')\n",
    "    g_tasks = e.map(g, tasks)\n",
    "    print('Lets see f')\n",
    "    print(list(f_tasks))\n",
    "    print('Lets see g')\n",
    "    print(list(g_tasks))\n"
   ]
  },
  {
   "cell_type": "markdown",
   "id": "95c631ba-c8eb-4148-bb5d-5afd10d1dbcc",
   "metadata": {},
   "source": []
  },
  {
   "cell_type": "code",
   "execution_count": null,
   "id": "76cc89f1-dda3-48f9-a42c-b7efc6e80bef",
   "metadata": {},
   "outputs": [],
   "source": [
    "import hashlib\n",
    "\n",
    "\n",
    "def hash_one(n):\n",
    "    \"\"\"A somewhat CPU-intensive task.\"\"\"\n",
    "\n",
    "    for i in range(1, n):\n",
    "        hashlib.pbkdf2_hmac(\"sha256\", b\"password\", b\"salt\", i * 10000)\n",
    "\n",
    "    return \"done\"\n",
    "\n",
    "\n",
    "def hash_all(n):\n",
    "    \"\"\"Function that does hashing in serial.\"\"\"\n",
    "    import tqdm\n",
    "    for i in tqdm.tqdm(range(n)):\n",
    "        hsh = hash_one(n)\n",
    "\n",
    "    return \"done\""
   ]
  },
  {
   "cell_type": "code",
   "execution_count": null,
   "id": "f42736da-c1c3-41a2-a4e6-5f1c2915e529",
   "metadata": {},
   "outputs": [],
   "source": [
    "hash_all(10)"
   ]
  },
  {
   "cell_type": "code",
   "execution_count": null,
   "id": "d1ec7a64-8fcc-43ae-b7d4-40415e4eb383",
   "metadata": {},
   "outputs": [],
   "source": [
    "import tqdm"
   ]
  },
  {
   "cell_type": "code",
   "execution_count": null,
   "id": "5dc30442-e03d-49bc-a266-82c4c3090fe6",
   "metadata": {},
   "outputs": [],
   "source": [
    "def hash_all_process(n):\n",
    "    \"\"\"Function that does hashing in serial.\"\"\"\n",
    "    import tqdm\n",
    "    with ProcessPoolExecutor(max_workers=4) as executor:\n",
    "        for arg, res in tqdm.tqdm(\n",
    "                            zip(\n",
    "                                range(n), \n",
    "                                executor.map(\n",
    "                                    hash_one, \n",
    "                                    range(n)\n",
    "                                )\n",
    "                            ),total=n):\n",
    "            pass\n",
    "\n",
    "    return \"done\""
   ]
  },
  {
   "cell_type": "code",
   "execution_count": null,
   "id": "ceeda364-ab51-442b-bcc6-56a7768c8856",
   "metadata": {},
   "outputs": [],
   "source": [
    "hash_all_process(10)"
   ]
  },
  {
   "cell_type": "code",
   "execution_count": null,
   "id": "898ee9db-94d8-4a30-8abc-f2034fa81cdf",
   "metadata": {},
   "outputs": [],
   "source": []
  }
 ],
 "metadata": {
  "kernelspec": {
   "display_name": "Python 3 (ipykernel)",
   "language": "python",
   "name": "python3"
  },
  "language_info": {
   "codemirror_mode": {
    "name": "ipython",
    "version": 3
   },
   "file_extension": ".py",
   "mimetype": "text/x-python",
   "name": "python",
   "nbconvert_exporter": "python",
   "pygments_lexer": "ipython3",
   "version": "3.9.10"
  }
 },
 "nbformat": 4,
 "nbformat_minor": 5
}
