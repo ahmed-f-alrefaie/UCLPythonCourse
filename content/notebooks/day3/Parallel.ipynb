{
 "cells": [
  {
   "cell_type": "markdown",
   "id": "c3cba52f-b564-4e4d-9e61-6678cf5449c8",
   "metadata": {},
   "source": [
    "# Parallelizing your code"
   ]
  },
  {
   "cell_type": "code",
   "execution_count": 1,
   "id": "cb666aec-b5e1-4912-a6ea-2af2a6587670",
   "metadata": {},
   "outputs": [],
   "source": [
    "import numpy as np"
   ]
  },
  {
   "cell_type": "code",
   "execution_count": 2,
   "id": "a3051e15-550f-446c-83a2-1748d9035393",
   "metadata": {},
   "outputs": [],
   "source": [
    "import multiprocessing as mp    \n",
    "mp.set_start_method(\"fork\")    # Only needed for Jupyter, do not do this in python code itself"
   ]
  },
  {
   "cell_type": "markdown",
   "id": "8bb959a9-dc16-4560-a7c2-e96ee3a81e2e",
   "metadata": {},
   "source": [
    "Often times we want to perform multiple task simulatenous and leverage multiple cores.\n",
    "\n",
    "Previously we would use the `threading` library or `multiprocessing` library to achieve this but\n",
    "nowadays these are pretty terrible to use. For multiple reasons but not limited to:\n",
    "    \n",
    "    - Script freezing due to deadlock\n",
    "    - Zombie python processes appearing\n",
    "    - Script not finishing at the end\n",
    "    - All other sadness\n",
    "\n",
    "\n",
    "Instead we will use the `concurrent.futures` module to make this experience as smooth as possible. Lets try it"
   ]
  },
  {
   "cell_type": "markdown",
   "id": "8c38abe1-9f78-44db-9d97-fee9ed30108f",
   "metadata": {},
   "source": [
    "Python has to parallel execution modules. `threading` and `multiprocessing`. Threading runs parallel jobs in the same python process while Multiprocessing spawns new python processes.\n",
    "\n",
    "The difference comes from the Global Interpretor Lock. Within a single python process, only one python task can be run at the same time. However if the task release this lock then another task can run. Often time, reading things from file or certain functions (like numba with `nogil`) will release the lock and allow concurrent processes.\n",
    "\n",
    "Multiproccessing overcomes this by creating a new python process and running tasks there. However it requires explicitly sending data to that process."
   ]
  },
  {
   "cell_type": "code",
   "execution_count": 4,
   "id": "6a0c190c-2fb4-4008-a19f-f238c4ddb8ac",
   "metadata": {},
   "outputs": [],
   "source": [
    "from concurrent.futures import ThreadPoolExecutor, ProcessPoolExecutor"
   ]
  },
  {
   "cell_type": "code",
   "execution_count": 5,
   "id": "6bf35ee3-6b3e-4eb7-9534-d6c74172414f",
   "metadata": {},
   "outputs": [
    {
     "name": "stdout",
     "output_type": "stream",
     "text": [
      "Not done\n",
      "-0.5440211108893699\n"
     ]
    }
   ],
   "source": [
    "def f(x):\n",
    "    import time\n",
    "    time.sleep(1.0)\n",
    "    return np.sin(x)\n",
    "\n",
    "with ThreadPoolExecutor(max_workers=1) as e:\n",
    "    futures = e.submit(f,10)\n",
    "    if futures.done():\n",
    "        print('Done')\n",
    "    else:\n",
    "        print('Not done')\n",
    "    print(futures.result())"
   ]
  },
  {
   "cell_type": "markdown",
   "id": "6e4eca30-2553-4e64-b5a8-2ab356eddc2b",
   "metadata": {},
   "source": [
    "We can submit a bunch more tasks if we want as well!"
   ]
  },
  {
   "cell_type": "code",
   "execution_count": 9,
   "id": "9ecbc489-00a8-46db-9cc8-b910096c1793",
   "metadata": {},
   "outputs": [
    {
     "name": "stdout",
     "output_type": "stream",
     "text": [
      "Doing something else\n",
      "Doing something else\n",
      "Doing something else\n",
      "Doing something else\n",
      "Doing something else\n",
      "Doing something else\n",
      "Doing something else\n",
      "Doing something else\n",
      "Doing something else\n",
      "Doing something else\n"
     ]
    },
    {
     "data": {
      "text/plain": [
       "[np.float64(0.0),\n",
       " np.float64(0.8414709848078965),\n",
       " np.float64(0.9092974268256817),\n",
       " np.float64(0.1411200080598672),\n",
       " np.float64(-0.7568024953079282),\n",
       " np.float64(-0.9589242746631385),\n",
       " np.float64(-0.27941549819892586),\n",
       " np.float64(0.6569865987187891),\n",
       " np.float64(0.9893582466233818),\n",
       " np.float64(0.4121184852417566)]"
      ]
     },
     "execution_count": 9,
     "metadata": {},
     "output_type": "execute_result"
    }
   ],
   "source": [
    "tasks = np.arange(0,10)\n",
    "\n",
    "with ThreadPoolExecutor(max_workers=8) as e:\n",
    "    futures = [e.submit(f,x) for x in tasks]\n",
    "    i=0\n",
    "    while(i < 10):\n",
    "        print('Doing something else')\n",
    "        i+=1\n",
    "    all_values = [x.result() for x in futures]\n",
    "all_values"
   ]
  },
  {
   "cell_type": "code",
   "execution_count": 7,
   "id": "78f92c33-9b4c-4f30-ae54-4816fa6057e6",
   "metadata": {},
   "outputs": [
    {
     "data": {
      "text/plain": [
       "[np.float64(0.0),\n",
       " np.float64(0.8414709848078965),\n",
       " np.float64(0.9092974268256817),\n",
       " np.float64(0.1411200080598672),\n",
       " np.float64(-0.7568024953079282),\n",
       " np.float64(-0.9589242746631385),\n",
       " np.float64(-0.27941549819892586),\n",
       " np.float64(0.6569865987187891),\n",
       " np.float64(0.9893582466233818),\n",
       " np.float64(0.4121184852417566)]"
      ]
     },
     "execution_count": 7,
     "metadata": {},
     "output_type": "execute_result"
    }
   ],
   "source": [
    "all_values"
   ]
  },
  {
   "cell_type": "markdown",
   "id": "228ba041-12dc-4093-9667-eb93d692cdbe",
   "metadata": {},
   "source": [
    "Now this can be a bit laborious for large set of tasks, what we can instead do is leverage the `map` function and map our task across inputs"
   ]
  },
  {
   "cell_type": "code",
   "execution_count": 10,
   "id": "ed9a841c-c701-4974-945f-ae6e189abfe3",
   "metadata": {},
   "outputs": [
    {
     "name": "stdout",
     "output_type": "stream",
     "text": [
      "0.0\n",
      "0.8414709848078965\n",
      "0.9092974268256817\n",
      "0.1411200080598672\n",
      "-0.7568024953079282\n",
      "-0.9589242746631385\n",
      "-0.27941549819892586\n",
      "0.6569865987187891\n",
      "0.9893582466233818\n",
      "0.4121184852417566\n",
      "CPU times: user 4.78 ms, sys: 3.43 ms, total: 8.21 ms\n",
      "Wall time: 2 s\n"
     ]
    }
   ],
   "source": [
    "%%time\n",
    "with ThreadPoolExecutor(max_workers=8) as e:\n",
    "    for x in e.map(f, tasks):\n",
    "        print(x)"
   ]
  },
  {
   "cell_type": "code",
   "execution_count": 11,
   "id": "afaa43b9-34b9-4318-8b07-62ed9b798f23",
   "metadata": {},
   "outputs": [
    {
     "name": "stdout",
     "output_type": "stream",
     "text": [
      "Ok now do g\n",
      "Lets see f\n",
      "[np.float64(0.0), np.float64(0.8414709848078965), np.float64(0.9092974268256817), np.float64(0.1411200080598672), np.float64(-0.7568024953079282), np.float64(-0.9589242746631385), np.float64(-0.27941549819892586), np.float64(0.6569865987187891), np.float64(0.9893582466233818), np.float64(0.4121184852417566)]\n",
      "Lets see g\n",
      "[np.float64(1.0), np.float64(0.5403023058681398), np.float64(-0.4161468365471424), np.float64(-0.9899924966004454), np.float64(-0.6536436208636119), np.float64(0.2836621854632263), np.float64(0.9601702866503661), np.float64(0.7539022543433046), np.float64(-0.14550003380861354), np.float64(-0.9111302618846769)]\n"
     ]
    }
   ],
   "source": [
    "def g(x):\n",
    "    import time\n",
    "    time.sleep(0.3)\n",
    "    return np.cos(x)\n",
    "\n",
    "with ThreadPoolExecutor(max_workers=8) as e:\n",
    "    f_tasks = e.map(f, tasks)\n",
    "    print('Ok now do g')\n",
    "    g_tasks = e.map(g, tasks)\n",
    "    print('Lets see f')\n",
    "    print(list(f_tasks))\n",
    "    print('Lets see g')\n",
    "    print(list(g_tasks))\n"
   ]
  },
  {
   "cell_type": "code",
   "execution_count": 12,
   "id": "173a7c61-3e9b-41ed-8ee6-b5ed8f949426",
   "metadata": {},
   "outputs": [
    {
     "name": "stdout",
     "output_type": "stream",
     "text": [
      "Collecting tqdm\n",
      "  Downloading tqdm-4.66.4-py3-none-any.whl (78 kB)\n",
      "\u001b[K     |████████████████████████████████| 78 kB 7.1 MB/s eta 0:00:011\n",
      "\u001b[?25hInstalling collected packages: tqdm\n",
      "Successfully installed tqdm-4.66.4\n",
      "\u001b[33mWARNING: You are using pip version 21.2.3; however, version 24.1.1 is available.\n",
      "You should consider upgrading via the '/Users/ahmed/venv/bin/python -m pip install --upgrade pip' command.\u001b[0m\n",
      "Note: you may need to restart the kernel to use updated packages.\n"
     ]
    }
   ],
   "source": [
    "%pip install tqdm"
   ]
  },
  {
   "cell_type": "code",
   "execution_count": 28,
   "id": "76cc89f1-dda3-48f9-a42c-b7efc6e80bef",
   "metadata": {},
   "outputs": [],
   "source": [
    "import hashlib\n",
    "\n",
    "\n",
    "def hash_one(n):\n",
    "    \"\"\"A somewhat CPU-intensive task.\"\"\"\n",
    "\n",
    "    for i in range(1, n):\n",
    "        hashlib.pbkdf2_hmac(\"sha256\", b\"password\", b\"salt\", i * 10000)\n",
    "\n",
    "    return \"done\"\n",
    "\n",
    "\n",
    "def hash_all(n):\n",
    "    \"\"\"Function that does hashing in serial.\"\"\"\n",
    "    import tqdm\n",
    "    for i in tqdm.tqdm(range(n)):\n",
    "        hsh = hash_one(i)\n",
    "\n",
    "    return \"done\""
   ]
  },
  {
   "cell_type": "code",
   "execution_count": 32,
   "id": "f42736da-c1c3-41a2-a4e6-5f1c2915e529",
   "metadata": {},
   "outputs": [
    {
     "name": "stderr",
     "output_type": "stream",
     "text": [
      "100%|█████████████████████████████████████████████| 20/20 [00:06<00:00,  2.99it/s]\n"
     ]
    },
    {
     "data": {
      "text/plain": [
       "'done'"
      ]
     },
     "execution_count": 32,
     "metadata": {},
     "output_type": "execute_result"
    }
   ],
   "source": [
    "hash_all(20)"
   ]
  },
  {
   "cell_type": "code",
   "execution_count": 18,
   "id": "d1ec7a64-8fcc-43ae-b7d4-40415e4eb383",
   "metadata": {},
   "outputs": [],
   "source": [
    "import tqdm"
   ]
  },
  {
   "cell_type": "code",
   "execution_count": 19,
   "id": "aed3eaac-f8d0-49d3-b4e9-a0144288d10b",
   "metadata": {},
   "outputs": [
    {
     "name": "stderr",
     "output_type": "stream",
     "text": [
      "100%|██████████████████████████████████████████| 10/10 [00:00<00:00, 21833.96it/s]\n"
     ]
    }
   ],
   "source": [
    "for x in tqdm.tqdm(range(10)):\n",
    "    x*2"
   ]
  },
  {
   "cell_type": "code",
   "execution_count": 33,
   "id": "5dc30442-e03d-49bc-a266-82c4c3090fe6",
   "metadata": {},
   "outputs": [],
   "source": [
    "def hash_all_process(n):\n",
    "    \"\"\"Function that does hashing in serial.\"\"\"\n",
    "    import tqdm\n",
    "    with ThreadPoolExecutor(max_workers=4) as executor:\n",
    "        for arg, res in tqdm.tqdm(zip(range(n), executor.map(hash_one,range(n))),total=n):\n",
    "            pass\n",
    "\n",
    "    return \"done\""
   ]
  },
  {
   "cell_type": "code",
   "execution_count": 34,
   "id": "ceeda364-ab51-442b-bcc6-56a7768c8856",
   "metadata": {},
   "outputs": [
    {
     "name": "stderr",
     "output_type": "stream",
     "text": [
      "100%|█████████████████████████████████████████████| 20/20 [00:02<00:00,  7.25it/s]\n"
     ]
    },
    {
     "data": {
      "text/plain": [
       "'done'"
      ]
     },
     "execution_count": 34,
     "metadata": {},
     "output_type": "execute_result"
    }
   ],
   "source": [
    "hash_all_process(20)"
   ]
  },
  {
   "cell_type": "code",
   "execution_count": null,
   "id": "898ee9db-94d8-4a30-8abc-f2034fa81cdf",
   "metadata": {},
   "outputs": [],
   "source": []
  }
 ],
 "metadata": {
  "kernelspec": {
   "display_name": "Python 3 (ipykernel)",
   "language": "python",
   "name": "python3"
  },
  "language_info": {
   "codemirror_mode": {
    "name": "ipython",
    "version": 3
   },
   "file_extension": ".py",
   "mimetype": "text/x-python",
   "name": "python",
   "nbconvert_exporter": "python",
   "pygments_lexer": "ipython3",
   "version": "3.10.0"
  }
 },
 "nbformat": 4,
 "nbformat_minor": 5
}
